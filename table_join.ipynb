{
 "cells": [
  {
   "cell_type": "code",
   "execution_count": 264,
   "metadata": {
    "collapsed": true
   },
   "outputs": [],
   "source": [
    "import pandas as pd\n",
    "import numpy as np"
   ]
  },
  {
   "cell_type": "code",
   "execution_count": 265,
   "outputs": [],
   "source": [
    "full_data = pd.read_csv('./data/final_data/full_data.csv')"
   ],
   "metadata": {
    "collapsed": false
   }
  },
  {
   "cell_type": "code",
   "execution_count": 266,
   "outputs": [
    {
     "name": "stdout",
     "output_type": "stream",
     "text": [
      "(6202174, 11)\n"
     ]
    }
   ],
   "source": [
    "print(full_data.shape)"
   ],
   "metadata": {
    "collapsed": false
   }
  },
  {
   "cell_type": "code",
   "execution_count": 267,
   "outputs": [],
   "source": [
    "districts = [\"강서구\",\"구로구\",\"양천구\",\"영등포구\", \"동작구\", \"금천구\", \"관악구\", \"서초구\", \"강남구\", \"송파구\", \"강동구\", \"마포구\", \"용산구\", \"성동구\", \"광진구\", \"중구\", \"서대문구\", \"은평구\", \"종로구\", \"성북구\", \"동대문구\", \"중랑구\", \"노원구\", \"도봉구\", \"강북구\"]\n",
    "full_data = full_data[(full_data['출발지구'].isin(districts)) & (full_data['목적지구'].isin(districts))]"
   ],
   "metadata": {
    "collapsed": false
   }
  },
  {
   "cell_type": "code",
   "execution_count": 268,
   "outputs": [],
   "source": [
    "# 영종동, 신흥동, 동인천동  drop\n",
    "full_data.drop(full_data[full_data.출발지동 == \"영종동\"].index, inplace=True)\n",
    "full_data.drop(full_data[full_data.목적지동 == \"영종동\"].index, inplace=True)\n",
    "full_data.drop(full_data[full_data.목적지동 == \"신흥동\"].index, inplace=True)\n",
    "full_data.drop(full_data[full_data.목적지동 == \"동인천동\"].index, inplace=True)"
   ],
   "metadata": {
    "collapsed": false
   }
  },
  {
   "cell_type": "code",
   "execution_count": 269,
   "outputs": [],
   "source": [
    "# 2023년 데이터 삭제\n",
    "full_data.drop(full_data[full_data.year == 2023].index, inplace=True)"
   ],
   "metadata": {
    "collapsed": false
   }
  },
  {
   "cell_type": "code",
   "execution_count": 270,
   "outputs": [],
   "source": [
    "full_data.출발지동 = full_data.출발지동.str.replace('제','')\n",
    "full_data.목적지동 = full_data.목적지동.str.replace('제','')"
   ],
   "metadata": {
    "collapsed": false
   }
  },
  {
   "cell_type": "code",
   "execution_count": 271,
   "outputs": [
    {
     "data": {
      "text/plain": "(5345867, 11)"
     },
     "execution_count": 271,
     "metadata": {},
     "output_type": "execute_result"
    }
   ],
   "source": [
    "full_data.shape"
   ],
   "metadata": {
    "collapsed": false
   }
  },
  {
   "cell_type": "code",
   "execution_count": 272,
   "outputs": [],
   "source": [
    "# unique한 동 리스트 생성\n",
    "unique_list = list(set.union(set(full_data.출발지동.unique())))"
   ],
   "metadata": {
    "collapsed": false
   }
  },
  {
   "cell_type": "markdown",
   "source": [
    "### 함수"
   ],
   "metadata": {
    "collapsed": false
   }
  },
  {
   "cell_type": "code",
   "execution_count": 273,
   "outputs": [],
   "source": [
    "dong_to_gu = pd.read_csv('./data/extra_data/동참고표.csv')\n",
    "dong_to_gu.출발지동 = dong_to_gu.출발지동.str.replace('제','')\n",
    "dong_to_gu_dict = dict(zip(dong_to_gu.출발지동, dong_to_gu.출발지구))"
   ],
   "metadata": {
    "collapsed": false
   }
  },
  {
   "cell_type": "code",
   "execution_count": 274,
   "outputs": [],
   "source": [
    "def create_gu_col(dongs):\n",
    "    return dong_to_gu_dict[dongs]"
   ],
   "metadata": {
    "collapsed": false
   }
  },
  {
   "cell_type": "markdown",
   "source": [
    "### 행정동별 주민 센터 위치 및 가장 가까운 차고지와의 거리 계산"
   ],
   "metadata": {
    "collapsed": false
   }
  },
  {
   "cell_type": "code",
   "execution_count": 275,
   "outputs": [],
   "source": [
    "community_center = pd.read_excel('./data/extra_data/행정동별주민센터.xlsx', sheet_name = 'seoul_edit')\n",
    "taxi_garage = pd.read_excel('./data/extra_data/장애인콜택시차고지.xlsx')"
   ],
   "metadata": {
    "collapsed": false
   }
  },
  {
   "cell_type": "code",
   "execution_count": 276,
   "outputs": [],
   "source": [
    "# 행정동 공백 제거\n",
    "community_center.행정동 = community_center.행정동.str.strip()\n",
    "community_center.시군구 = community_center.시군구.str.strip()\n",
    "\n",
    "# 제 제거\n",
    "community_center.행정동 = community_center.행정동.str.replace('제','')"
   ],
   "metadata": {
    "collapsed": false
   }
  },
  {
   "cell_type": "code",
   "execution_count": 277,
   "outputs": [],
   "source": [
    "# 가장 가까운 차고지와의 거리 계산\n",
    "def cal_min_distance(location):\n",
    "    return np.sqrt(np.min(np.sum((taxi_garage.iloc[:,5:] - location) ** 2, axis = 1)))\n",
    "\n",
    "community_center['nearest_garage_distance'] = community_center.iloc[:, 1:].apply(cal_min_distance, axis = 1)"
   ],
   "metadata": {
    "collapsed": false
   }
  },
  {
   "cell_type": "code",
   "execution_count": 278,
   "outputs": [
    {
     "data": {
      "text/plain": "   시군구    행정동   Latitude   Longitude  nearest_garage_distance\n0  종로구  청운효자동  37.584088  126.970609                 0.011351\n1  종로구    사직동  37.576172  126.968804                 0.007382\n2  종로구    삼청동  37.584949  126.981746                 0.012402\n3  종로구    부암동  37.592393  126.964026                 0.021851\n4  종로구    평창동  37.606363  126.968335                 0.033199",
      "text/html": "<div>\n<style scoped>\n    .dataframe tbody tr th:only-of-type {\n        vertical-align: middle;\n    }\n\n    .dataframe tbody tr th {\n        vertical-align: top;\n    }\n\n    .dataframe thead th {\n        text-align: right;\n    }\n</style>\n<table border=\"1\" class=\"dataframe\">\n  <thead>\n    <tr style=\"text-align: right;\">\n      <th></th>\n      <th>시군구</th>\n      <th>행정동</th>\n      <th>Latitude</th>\n      <th>Longitude</th>\n      <th>nearest_garage_distance</th>\n    </tr>\n  </thead>\n  <tbody>\n    <tr>\n      <th>0</th>\n      <td>종로구</td>\n      <td>청운효자동</td>\n      <td>37.584088</td>\n      <td>126.970609</td>\n      <td>0.011351</td>\n    </tr>\n    <tr>\n      <th>1</th>\n      <td>종로구</td>\n      <td>사직동</td>\n      <td>37.576172</td>\n      <td>126.968804</td>\n      <td>0.007382</td>\n    </tr>\n    <tr>\n      <th>2</th>\n      <td>종로구</td>\n      <td>삼청동</td>\n      <td>37.584949</td>\n      <td>126.981746</td>\n      <td>0.012402</td>\n    </tr>\n    <tr>\n      <th>3</th>\n      <td>종로구</td>\n      <td>부암동</td>\n      <td>37.592393</td>\n      <td>126.964026</td>\n      <td>0.021851</td>\n    </tr>\n    <tr>\n      <th>4</th>\n      <td>종로구</td>\n      <td>평창동</td>\n      <td>37.606363</td>\n      <td>126.968335</td>\n      <td>0.033199</td>\n    </tr>\n  </tbody>\n</table>\n</div>"
     },
     "execution_count": 278,
     "metadata": {},
     "output_type": "execute_result"
    }
   ],
   "source": [
    "community_center.head()"
   ],
   "metadata": {
    "collapsed": false
   }
  },
  {
   "cell_type": "code",
   "execution_count": 279,
   "outputs": [
    {
     "name": "stdout",
     "output_type": "stream",
     "text": [
      "set()\n",
      "{'약수동', '청구동', '항동', '위례동', '기3동', '다산동', '답십리5동', '동화동'}\n"
     ]
    }
   ],
   "source": [
    "call_taxi_unique = set(full_data.출발지동.unique())\n",
    "community_unique = set(community_center.행정동.unique())\n",
    "print(set.difference(call_taxi_unique, community_unique))\n",
    "print(set.difference(community_unique, call_taxi_unique))"
   ],
   "metadata": {
    "collapsed": false
   }
  },
  {
   "cell_type": "code",
   "execution_count": 280,
   "outputs": [
    {
     "name": "stdout",
     "output_type": "stream",
     "text": [
      "set()\n",
      "set()\n"
     ]
    }
   ],
   "source": [
    "call_taxi_unique = set(full_data.출발지구.unique())\n",
    "community_unique = set(community_center.시군구.unique())\n",
    "print(set.difference(call_taxi_unique, community_unique))\n",
    "print(set.difference(community_unique, call_taxi_unique))"
   ],
   "metadata": {
    "collapsed": false
   }
  },
  {
   "cell_type": "code",
   "execution_count": 281,
   "outputs": [],
   "source": [
    "# join\n",
    "final_data = pd.merge(full_data, community_center, how = \"left\", left_on = [\"출발지동\", \"출발지구\"], right_on = [\"행정동\", \"시군구\"])\n",
    "final_data.rename(columns = {\"Latitude\":\"출발동_위도\", \"Longitude\":\"출발동_경도\", \"nearest_garage_distance\":\"출발동_최근접_차고지_거리\"}, inplace = True)\n",
    "final_data.drop(columns = [\"시군구\",\"행정동\"], inplace = True)"
   ],
   "metadata": {
    "collapsed": false
   }
  },
  {
   "cell_type": "code",
   "execution_count": 282,
   "outputs": [
    {
     "data": {
      "text/plain": "(5345867, 14)"
     },
     "execution_count": 282,
     "metadata": {},
     "output_type": "execute_result"
    }
   ],
   "source": [
    "final_data.shape"
   ],
   "metadata": {
    "collapsed": false
   }
  },
  {
   "cell_type": "code",
   "execution_count": 283,
   "outputs": [],
   "source": [
    "final_data = pd.merge(final_data, community_center, how = \"left\", left_on = [\"목적지동\", \"목적지구\"], right_on = [\"행정동\", \"시군구\"])\n",
    "final_data.rename(columns = {\"Latitude\":\"목적동_위도\", \"Longitude\":\"목적동_경도\"}, inplace = True)\n",
    "final_data.drop(columns = [\"시군구\",\"행정동\", \"nearest_garage_distance\"], inplace = True)"
   ],
   "metadata": {
    "collapsed": false
   }
  },
  {
   "cell_type": "code",
   "execution_count": 284,
   "outputs": [
    {
     "data": {
      "text/plain": "(5345867, 16)"
     },
     "execution_count": 284,
     "metadata": {},
     "output_type": "execute_result"
    }
   ],
   "source": [
    "final_data.shape"
   ],
   "metadata": {
    "collapsed": false
   }
  },
  {
   "cell_type": "code",
   "execution_count": 285,
   "outputs": [],
   "source": [
    "final_data['이동거리'] = np.sqrt((final_data.출발동_위도 - final_data.목적동_위도) ** 2 + (final_data.출발동_경도 - final_data.목적동_경도) ** 2)"
   ],
   "metadata": {
    "collapsed": false
   }
  },
  {
   "cell_type": "code",
   "execution_count": 286,
   "outputs": [
    {
     "name": "stdout",
     "output_type": "stream",
     "text": [
      "(5345867, 17)\n"
     ]
    },
    {
     "data": {
      "text/plain": "   dispatch_waiting_time  total_waiting_time  cancel_time using_time   \n0                  136.0               165.0          NaN         새벽  \\\n1                  140.0               162.0          NaN         새벽   \n2                  139.0               160.0          NaN         새벽   \n3                  207.0               218.0          NaN         새벽   \n4                  210.0               232.0          NaN         새벽   \n\n  using_day  year 출발지구  출발지동 목적지구  목적지동 이용목적     출발동_위도      출발동_경도   \n0        평일  2018   중구    명동  용산구  한강로동   귀가  37.560008  126.985802  \\\n1        평일  2018  서초구  반포1동  강서구  등촌3동   귀가  37.505081  127.013377   \n2        평일  2018  강북구   인수동  노원구  하계2동   귀가  37.641473  127.010640   \n3        평일  2018  관악구   청림동  성북구   안암동   귀가  37.492266  126.958473   \n4        평일  2018  노원구  월계1동  노원구  상계5동   귀가  37.619921  127.062983   \n\n   출발동_최근접_차고지_거리     목적동_위도      목적동_경도      이동거리  \n0        0.014748  37.528107  126.969193  0.035966  \n1        0.025657  37.559270  126.848268  0.173774  \n2        0.036339  37.632001  127.067959  0.058096  \n3        0.022919  37.586123  127.021650  0.113139  \n4        0.020209  37.662734  127.069523  0.043309  ",
      "text/html": "<div>\n<style scoped>\n    .dataframe tbody tr th:only-of-type {\n        vertical-align: middle;\n    }\n\n    .dataframe tbody tr th {\n        vertical-align: top;\n    }\n\n    .dataframe thead th {\n        text-align: right;\n    }\n</style>\n<table border=\"1\" class=\"dataframe\">\n  <thead>\n    <tr style=\"text-align: right;\">\n      <th></th>\n      <th>dispatch_waiting_time</th>\n      <th>total_waiting_time</th>\n      <th>cancel_time</th>\n      <th>using_time</th>\n      <th>using_day</th>\n      <th>year</th>\n      <th>출발지구</th>\n      <th>출발지동</th>\n      <th>목적지구</th>\n      <th>목적지동</th>\n      <th>이용목적</th>\n      <th>출발동_위도</th>\n      <th>출발동_경도</th>\n      <th>출발동_최근접_차고지_거리</th>\n      <th>목적동_위도</th>\n      <th>목적동_경도</th>\n      <th>이동거리</th>\n    </tr>\n  </thead>\n  <tbody>\n    <tr>\n      <th>0</th>\n      <td>136.0</td>\n      <td>165.0</td>\n      <td>NaN</td>\n      <td>새벽</td>\n      <td>평일</td>\n      <td>2018</td>\n      <td>중구</td>\n      <td>명동</td>\n      <td>용산구</td>\n      <td>한강로동</td>\n      <td>귀가</td>\n      <td>37.560008</td>\n      <td>126.985802</td>\n      <td>0.014748</td>\n      <td>37.528107</td>\n      <td>126.969193</td>\n      <td>0.035966</td>\n    </tr>\n    <tr>\n      <th>1</th>\n      <td>140.0</td>\n      <td>162.0</td>\n      <td>NaN</td>\n      <td>새벽</td>\n      <td>평일</td>\n      <td>2018</td>\n      <td>서초구</td>\n      <td>반포1동</td>\n      <td>강서구</td>\n      <td>등촌3동</td>\n      <td>귀가</td>\n      <td>37.505081</td>\n      <td>127.013377</td>\n      <td>0.025657</td>\n      <td>37.559270</td>\n      <td>126.848268</td>\n      <td>0.173774</td>\n    </tr>\n    <tr>\n      <th>2</th>\n      <td>139.0</td>\n      <td>160.0</td>\n      <td>NaN</td>\n      <td>새벽</td>\n      <td>평일</td>\n      <td>2018</td>\n      <td>강북구</td>\n      <td>인수동</td>\n      <td>노원구</td>\n      <td>하계2동</td>\n      <td>귀가</td>\n      <td>37.641473</td>\n      <td>127.010640</td>\n      <td>0.036339</td>\n      <td>37.632001</td>\n      <td>127.067959</td>\n      <td>0.058096</td>\n    </tr>\n    <tr>\n      <th>3</th>\n      <td>207.0</td>\n      <td>218.0</td>\n      <td>NaN</td>\n      <td>새벽</td>\n      <td>평일</td>\n      <td>2018</td>\n      <td>관악구</td>\n      <td>청림동</td>\n      <td>성북구</td>\n      <td>안암동</td>\n      <td>귀가</td>\n      <td>37.492266</td>\n      <td>126.958473</td>\n      <td>0.022919</td>\n      <td>37.586123</td>\n      <td>127.021650</td>\n      <td>0.113139</td>\n    </tr>\n    <tr>\n      <th>4</th>\n      <td>210.0</td>\n      <td>232.0</td>\n      <td>NaN</td>\n      <td>새벽</td>\n      <td>평일</td>\n      <td>2018</td>\n      <td>노원구</td>\n      <td>월계1동</td>\n      <td>노원구</td>\n      <td>상계5동</td>\n      <td>귀가</td>\n      <td>37.619921</td>\n      <td>127.062983</td>\n      <td>0.020209</td>\n      <td>37.662734</td>\n      <td>127.069523</td>\n      <td>0.043309</td>\n    </tr>\n  </tbody>\n</table>\n</div>"
     },
     "execution_count": 286,
     "metadata": {},
     "output_type": "execute_result"
    }
   ],
   "source": [
    "print(final_data.shape)\n",
    "final_data.head()"
   ],
   "metadata": {
    "collapsed": false
   }
  },
  {
   "cell_type": "markdown",
   "source": [
    "### 서울시 행정동별 연도별 보건업 및 사회복지 서비스 종사자 수"
   ],
   "metadata": {
    "collapsed": false
   }
  },
  {
   "cell_type": "code",
   "execution_count": 287,
   "outputs": [],
   "source": [
    "seoul_companies = pd.read_csv('./data/extra_data/서울시_사업체현황.csv')"
   ],
   "metadata": {
    "collapsed": false
   }
  },
  {
   "cell_type": "code",
   "execution_count": 288,
   "outputs": [
    {
     "data": {
      "text/plain": "   동별      산업대분류별   구분별        시점  사업체현황(산업대분류별/동별)(2017년 이후)  Column1\n0  합계          합계  종사자수  2018.1.1                   5210936.0      NaN\n1  합계          합계  종사자수  2019.1.1                   5226997.0      NaN\n2  합계          합계  종사자수  2020.1.1                   5868926.0      NaN\n3  합계          합계  종사자수  2021.1.1                   5771226.0      NaN\n4  합계  농업 임업 및 어업  종사자수  2018.1.1                       462.0      NaN",
      "text/html": "<div>\n<style scoped>\n    .dataframe tbody tr th:only-of-type {\n        vertical-align: middle;\n    }\n\n    .dataframe tbody tr th {\n        vertical-align: top;\n    }\n\n    .dataframe thead th {\n        text-align: right;\n    }\n</style>\n<table border=\"1\" class=\"dataframe\">\n  <thead>\n    <tr style=\"text-align: right;\">\n      <th></th>\n      <th>동별</th>\n      <th>산업대분류별</th>\n      <th>구분별</th>\n      <th>시점</th>\n      <th>사업체현황(산업대분류별/동별)(2017년 이후)</th>\n      <th>Column1</th>\n    </tr>\n  </thead>\n  <tbody>\n    <tr>\n      <th>0</th>\n      <td>합계</td>\n      <td>합계</td>\n      <td>종사자수</td>\n      <td>2018.1.1</td>\n      <td>5210936.0</td>\n      <td>NaN</td>\n    </tr>\n    <tr>\n      <th>1</th>\n      <td>합계</td>\n      <td>합계</td>\n      <td>종사자수</td>\n      <td>2019.1.1</td>\n      <td>5226997.0</td>\n      <td>NaN</td>\n    </tr>\n    <tr>\n      <th>2</th>\n      <td>합계</td>\n      <td>합계</td>\n      <td>종사자수</td>\n      <td>2020.1.1</td>\n      <td>5868926.0</td>\n      <td>NaN</td>\n    </tr>\n    <tr>\n      <th>3</th>\n      <td>합계</td>\n      <td>합계</td>\n      <td>종사자수</td>\n      <td>2021.1.1</td>\n      <td>5771226.0</td>\n      <td>NaN</td>\n    </tr>\n    <tr>\n      <th>4</th>\n      <td>합계</td>\n      <td>농업 임업 및 어업</td>\n      <td>종사자수</td>\n      <td>2018.1.1</td>\n      <td>462.0</td>\n      <td>NaN</td>\n    </tr>\n  </tbody>\n</table>\n</div>"
     },
     "execution_count": 288,
     "metadata": {},
     "output_type": "execute_result"
    }
   ],
   "source": [
    "seoul_companies.head()"
   ],
   "metadata": {
    "collapsed": false
   }
  },
  {
   "cell_type": "code",
   "execution_count": 289,
   "outputs": [],
   "source": [
    "seoul_companies.동별 = seoul_companies.동별.str.replace('제','')"
   ],
   "metadata": {
    "collapsed": false
   }
  },
  {
   "cell_type": "code",
   "execution_count": 290,
   "outputs": [],
   "source": [
    "final_data.출발지동 = final_data.출발지동.replace({'명륜3가동':'혜화동', '장안3동':'장안1동', '기2동':'제기동','기1동':'제기동', '전농3동':'전농2동', '용두동':'신설동',\n",
    "                                                '이문3동':'이문2동', '답십리4동':'답십리2동','답십리3동':'답십리1동','답십리5동':'답십리1동','신당3동':'신당동',\n",
    "                                                '신당4동':'신당동', '신당2동':'신당동', '신당1동':'신당동','신당6동':'신당동', '장안4동':'장안2동'})\n",
    "\n",
    "dong_to_gu.출발지동 = dong_to_gu.출발지동.replace({'명륜3가동':'혜화동', '장안3동':'장안1동', '기2동':'제기동','기1동':'제기동', '전농3동':'전농2동', '용두동':'신설동',\n",
    "                                                '이문3동':'이문2동', '답십리4동':'답십리2동','답십리3동':'답십리1동','답십리5동':'답십리1동','신당3동':'신당동',\n",
    "                                                '신당4동':'신당동', '신당2동':'신당동', '신당1동':'신당동','신당6동':'신당동', '장안4동':'장안2동'})\n",
    "\n",
    "dong_to_gu_dict = dict(zip(dong_to_gu.출발지동, dong_to_gu.출발지구))"
   ],
   "metadata": {
    "collapsed": false
   }
  },
  {
   "cell_type": "code",
   "execution_count": 291,
   "outputs": [],
   "source": [
    "seoul_companies.동별 = seoul_companies.동별.replace({'기동':'제기동', '공릉1동':'공릉1.3동','용신동':'신설동'})"
   ],
   "metadata": {
    "collapsed": false
   }
  },
  {
   "cell_type": "code",
   "execution_count": 292,
   "outputs": [],
   "source": [
    "seoul_companies = seoul_companies[seoul_companies.동별.isin(final_data.출발지동.unique())]"
   ],
   "metadata": {
    "collapsed": false
   }
  },
  {
   "cell_type": "code",
   "execution_count": 293,
   "outputs": [
    {
     "name": "stdout",
     "output_type": "stream",
     "text": [
      "set()\n",
      "set()\n"
     ]
    }
   ],
   "source": [
    "call_taxi_unique = set(final_data.출발지동.unique())\n",
    "companies_unique = set(seoul_companies.동별.unique())\n",
    "print(set.difference(call_taxi_unique, companies_unique))\n",
    "print(set.difference(companies_unique, call_taxi_unique))"
   ],
   "metadata": {
    "collapsed": false
   }
  },
  {
   "cell_type": "code",
   "execution_count": 294,
   "outputs": [],
   "source": [
    "seoul_companies['구별'] = seoul_companies.동별.apply(create_gu_col)"
   ],
   "metadata": {
    "collapsed": false
   }
  },
  {
   "cell_type": "code",
   "execution_count": 295,
   "outputs": [],
   "source": [
    "# 전체 종사자수와 사회복지 서비스업 종사자 테이블 분리\n",
    "total_seoul_companies = seoul_companies[seoul_companies['산업대분류별'].str.contains('합계')]\n",
    "social_seoul_companies = seoul_companies[seoul_companies['산업대분류별'].str.contains('보건업 및 사회복지 서비스업')]"
   ],
   "metadata": {
    "collapsed": false
   }
  },
  {
   "cell_type": "code",
   "execution_count": 296,
   "outputs": [],
   "source": [
    "# 시점 column 변경\n",
    "total_seoul_companies.loc[:,'시점'] = pd.to_datetime(total_seoul_companies.시점).dt.year\n",
    "social_seoul_companies.loc[:,'시점'] = pd.to_datetime(social_seoul_companies.시점).dt.year"
   ],
   "metadata": {
    "collapsed": false
   }
  },
  {
   "cell_type": "code",
   "execution_count": 297,
   "outputs": [
    {
     "name": "stderr",
     "output_type": "stream",
     "text": [
      "/var/folders/wl/5c7g6f3s5ps1gyg84qj_5n040000gn/T/ipykernel_82724/1796866558.py:1: SettingWithCopyWarning: \n",
      "A value is trying to be set on a copy of a slice from a DataFrame\n",
      "\n",
      "See the caveats in the documentation: https://pandas.pydata.org/pandas-docs/stable/user_guide/indexing.html#returning-a-view-versus-a-copy\n",
      "  total_seoul_companies.drop(total_seoul_companies[total_seoul_companies.동별 == '합계'].index, inplace=True)\n",
      "/var/folders/wl/5c7g6f3s5ps1gyg84qj_5n040000gn/T/ipykernel_82724/1796866558.py:2: SettingWithCopyWarning: \n",
      "A value is trying to be set on a copy of a slice from a DataFrame\n",
      "\n",
      "See the caveats in the documentation: https://pandas.pydata.org/pandas-docs/stable/user_guide/indexing.html#returning-a-view-versus-a-copy\n",
      "  social_seoul_companies.drop(social_seoul_companies[social_seoul_companies.동별 == '합계'].index, inplace=True)\n"
     ]
    }
   ],
   "source": [
    "total_seoul_companies.drop(total_seoul_companies[total_seoul_companies.동별 == '합계'].index, inplace=True)\n",
    "social_seoul_companies.drop(social_seoul_companies[social_seoul_companies.동별 == '합계'].index, inplace=True)"
   ],
   "metadata": {
    "collapsed": false
   }
  },
  {
   "cell_type": "code",
   "execution_count": 298,
   "outputs": [
    {
     "name": "stdout",
     "output_type": "stream",
     "text": [
      "(1675, 7)\n",
      "(1672, 7)\n"
     ]
    }
   ],
   "source": [
    "print(total_seoul_companies.shape)\n",
    "print(social_seoul_companies.shape)"
   ],
   "metadata": {
    "collapsed": false
   }
  },
  {
   "cell_type": "code",
   "execution_count": 299,
   "outputs": [],
   "source": [
    "total_gangnam_idx = total_seoul_companies[total_seoul_companies.동별 == '신사동'].index[-4:]\n",
    "social_gangnam_idx = social_seoul_companies[social_seoul_companies.동별 == '신사동'].index[-4:]"
   ],
   "metadata": {
    "collapsed": false
   }
  },
  {
   "cell_type": "code",
   "execution_count": 300,
   "outputs": [],
   "source": [
    "total_seoul_companies.loc[list(total_gangnam_idx),'구별'] = '강남구'\n",
    "social_seoul_companies.loc[list(social_gangnam_idx),'구별'] = '강남구'"
   ],
   "metadata": {
    "collapsed": false
   }
  },
  {
   "cell_type": "code",
   "execution_count": 301,
   "outputs": [],
   "source": [
    "# 2022년 데이터를 2021년의 데이터로 imputation\n",
    "total_2021 = total_seoul_companies[total_seoul_companies.시점 == 2021]\n",
    "social_2021 = social_seoul_companies[social_seoul_companies.시점 == 2021]\n",
    "\n",
    "total_2021.loc[:,'시점'] = 2022\n",
    "social_2021.loc[:,'시점'] = 2022\n",
    "\n",
    "total_seoul_companies = pd.concat([total_seoul_companies, total_2021])\n",
    "social_seoul_companies = pd.concat([social_seoul_companies, social_2021])"
   ],
   "metadata": {
    "collapsed": false
   }
  },
  {
   "cell_type": "code",
   "execution_count": 302,
   "outputs": [],
   "source": [
    "# 열 이름 변경\n",
    "total_seoul_companies = total_seoul_companies.rename(columns = {'사업체현황(산업대분류별/동별)(2017년 이후)':'총 종사자 수'})\n",
    "social_seoul_companies = social_seoul_companies.rename(columns = {'사업체현황(산업대분류별/동별)(2017년 이후)':'보건업 종사자 수'})"
   ],
   "metadata": {
    "collapsed": false
   }
  },
  {
   "cell_type": "code",
   "execution_count": 303,
   "outputs": [],
   "source": [
    "# join\n",
    "final_data = pd.merge(final_data, total_seoul_companies[['구별', '동별', '총 종사자 수', '시점']], how = \"left\", left_on = [\"출발지구\",\"출발지동\", \"year\"], right_on = [\"구별\",\"동별\",\"시점\"])\n",
    "final_data = final_data.drop(columns = [\"구별\", '동별', '시점'])"
   ],
   "metadata": {
    "collapsed": false
   }
  },
  {
   "cell_type": "code",
   "execution_count": 304,
   "outputs": [
    {
     "name": "stdout",
     "output_type": "stream",
     "text": [
      "(5345867, 18)\n"
     ]
    }
   ],
   "source": [
    "print(final_data.shape)"
   ],
   "metadata": {
    "collapsed": false
   }
  },
  {
   "cell_type": "code",
   "execution_count": 305,
   "outputs": [],
   "source": [
    "# join\n",
    "final_data = pd.merge(final_data, social_seoul_companies[['구별','동별', '보건업 종사자 수', '시점']], how = \"left\", left_on = [\"출발지구\",\"출발지동\", \"year\"], right_on = [\"구별\",\"동별\",\"시점\"])\n",
    "final_data = final_data.drop(columns = ['구별', '동별', '시점'])"
   ],
   "metadata": {
    "collapsed": false
   }
  },
  {
   "cell_type": "code",
   "execution_count": 306,
   "outputs": [
    {
     "name": "stdout",
     "output_type": "stream",
     "text": [
      "(5345867, 19)\n"
     ]
    },
    {
     "data": {
      "text/plain": "   dispatch_waiting_time  total_waiting_time  cancel_time using_time   \n0                  136.0               165.0          NaN         새벽  \\\n1                  140.0               162.0          NaN         새벽   \n2                  139.0               160.0          NaN         새벽   \n3                  207.0               218.0          NaN         새벽   \n4                  210.0               232.0          NaN         새벽   \n\n  using_day  year 출발지구  출발지동 목적지구  목적지동 이용목적     출발동_위도      출발동_경도   \n0        평일  2018   중구    명동  용산구  한강로동   귀가  37.560008  126.985802  \\\n1        평일  2018  서초구  반포1동  강서구  등촌3동   귀가  37.505081  127.013377   \n2        평일  2018  강북구   인수동  노원구  하계2동   귀가  37.641473  127.010640   \n3        평일  2018  관악구   청림동  성북구   안암동   귀가  37.492266  126.958473   \n4        평일  2018  노원구  월계1동  노원구  상계5동   귀가  37.619921  127.062983   \n\n   출발동_최근접_차고지_거리     목적동_위도      목적동_경도      이동거리   총 종사자 수  보건업 종사자 수  \n0        0.014748  37.528107  126.969193  0.035966  110677.0     2156.0  \n1        0.025657  37.559270  126.848268  0.173774   10055.0      772.0  \n2        0.036339  37.632001  127.067959  0.058096    5715.0     1461.0  \n3        0.022919  37.586123  127.021650  0.113139    1314.0      324.0  \n4        0.020209  37.662734  127.069523  0.043309    6475.0      759.0  ",
      "text/html": "<div>\n<style scoped>\n    .dataframe tbody tr th:only-of-type {\n        vertical-align: middle;\n    }\n\n    .dataframe tbody tr th {\n        vertical-align: top;\n    }\n\n    .dataframe thead th {\n        text-align: right;\n    }\n</style>\n<table border=\"1\" class=\"dataframe\">\n  <thead>\n    <tr style=\"text-align: right;\">\n      <th></th>\n      <th>dispatch_waiting_time</th>\n      <th>total_waiting_time</th>\n      <th>cancel_time</th>\n      <th>using_time</th>\n      <th>using_day</th>\n      <th>year</th>\n      <th>출발지구</th>\n      <th>출발지동</th>\n      <th>목적지구</th>\n      <th>목적지동</th>\n      <th>이용목적</th>\n      <th>출발동_위도</th>\n      <th>출발동_경도</th>\n      <th>출발동_최근접_차고지_거리</th>\n      <th>목적동_위도</th>\n      <th>목적동_경도</th>\n      <th>이동거리</th>\n      <th>총 종사자 수</th>\n      <th>보건업 종사자 수</th>\n    </tr>\n  </thead>\n  <tbody>\n    <tr>\n      <th>0</th>\n      <td>136.0</td>\n      <td>165.0</td>\n      <td>NaN</td>\n      <td>새벽</td>\n      <td>평일</td>\n      <td>2018</td>\n      <td>중구</td>\n      <td>명동</td>\n      <td>용산구</td>\n      <td>한강로동</td>\n      <td>귀가</td>\n      <td>37.560008</td>\n      <td>126.985802</td>\n      <td>0.014748</td>\n      <td>37.528107</td>\n      <td>126.969193</td>\n      <td>0.035966</td>\n      <td>110677.0</td>\n      <td>2156.0</td>\n    </tr>\n    <tr>\n      <th>1</th>\n      <td>140.0</td>\n      <td>162.0</td>\n      <td>NaN</td>\n      <td>새벽</td>\n      <td>평일</td>\n      <td>2018</td>\n      <td>서초구</td>\n      <td>반포1동</td>\n      <td>강서구</td>\n      <td>등촌3동</td>\n      <td>귀가</td>\n      <td>37.505081</td>\n      <td>127.013377</td>\n      <td>0.025657</td>\n      <td>37.559270</td>\n      <td>126.848268</td>\n      <td>0.173774</td>\n      <td>10055.0</td>\n      <td>772.0</td>\n    </tr>\n    <tr>\n      <th>2</th>\n      <td>139.0</td>\n      <td>160.0</td>\n      <td>NaN</td>\n      <td>새벽</td>\n      <td>평일</td>\n      <td>2018</td>\n      <td>강북구</td>\n      <td>인수동</td>\n      <td>노원구</td>\n      <td>하계2동</td>\n      <td>귀가</td>\n      <td>37.641473</td>\n      <td>127.010640</td>\n      <td>0.036339</td>\n      <td>37.632001</td>\n      <td>127.067959</td>\n      <td>0.058096</td>\n      <td>5715.0</td>\n      <td>1461.0</td>\n    </tr>\n    <tr>\n      <th>3</th>\n      <td>207.0</td>\n      <td>218.0</td>\n      <td>NaN</td>\n      <td>새벽</td>\n      <td>평일</td>\n      <td>2018</td>\n      <td>관악구</td>\n      <td>청림동</td>\n      <td>성북구</td>\n      <td>안암동</td>\n      <td>귀가</td>\n      <td>37.492266</td>\n      <td>126.958473</td>\n      <td>0.022919</td>\n      <td>37.586123</td>\n      <td>127.021650</td>\n      <td>0.113139</td>\n      <td>1314.0</td>\n      <td>324.0</td>\n    </tr>\n    <tr>\n      <th>4</th>\n      <td>210.0</td>\n      <td>232.0</td>\n      <td>NaN</td>\n      <td>새벽</td>\n      <td>평일</td>\n      <td>2018</td>\n      <td>노원구</td>\n      <td>월계1동</td>\n      <td>노원구</td>\n      <td>상계5동</td>\n      <td>귀가</td>\n      <td>37.619921</td>\n      <td>127.062983</td>\n      <td>0.020209</td>\n      <td>37.662734</td>\n      <td>127.069523</td>\n      <td>0.043309</td>\n      <td>6475.0</td>\n      <td>759.0</td>\n    </tr>\n  </tbody>\n</table>\n</div>"
     },
     "execution_count": 306,
     "metadata": {},
     "output_type": "execute_result"
    }
   ],
   "source": [
    "print(final_data.shape)\n",
    "final_data.head()"
   ],
   "metadata": {
    "collapsed": false
   }
  },
  {
   "cell_type": "code",
   "execution_count": 307,
   "outputs": [
    {
     "data": {
      "text/plain": "dispatch_waiting_time     425465\ntotal_waiting_time        716233\ncancel_time              4632873\nusing_time                     0\nusing_day                      0\nyear                           0\n출발지구                           0\n출발지동                           0\n목적지구                           0\n목적지동                           0\n이용목적                           0\n출발동_위도                         0\n출발동_경도                         0\n출발동_최근접_차고지_거리                 0\n목적동_위도                         0\n목적동_경도                         0\n이동거리                           0\n총 종사자 수                    16982\n보건업 종사자 수                  18005\ndtype: int64"
     },
     "execution_count": 307,
     "metadata": {},
     "output_type": "execute_result"
    }
   ],
   "source": [
    "final_data.isna().sum()"
   ],
   "metadata": {
    "collapsed": false
   }
  },
  {
   "cell_type": "code",
   "execution_count": 308,
   "outputs": [],
   "source": [
    "def impute_total_worker(dong):\n",
    "    return total_seoul_companies[(total_seoul_companies.시점 == year-1) & (total_seoul_companies.동별 == dong)]['총 종사자 수']\n",
    "\n",
    "def impute_social_worker(dong):\n",
    "    return social_seoul_companies[(social_seoul_companies.시점 == year-1) & (social_seoul_companies.동별 == dong)]['보건업 종사자 수']"
   ],
   "metadata": {
    "collapsed": false
   }
  },
  {
   "cell_type": "code",
   "execution_count": 309,
   "outputs": [],
   "source": [
    "condition = (final_data.year == 2021) & (final_data['총 종사자 수'].isna())\n",
    "year = 2021\n",
    "final_data.loc[condition, '총 종사자 수'] = final_data.loc[condition, '출발지동'].apply(impute_total_worker).iloc[:,0]\n",
    "final_data.loc[condition, '보건업 종사자 수'] = final_data.loc[condition, '출발지동'].apply(impute_social_worker).iloc[:,0]"
   ],
   "metadata": {
    "collapsed": false
   }
  },
  {
   "cell_type": "code",
   "execution_count": 310,
   "outputs": [],
   "source": [
    "condition = (final_data.year == 2022) & (final_data['총 종사자 수'].isna())\n",
    "year = 2021\n",
    "final_data.loc[condition, '총 종사자 수'] = final_data.loc[condition, '출발지동'].apply(impute_total_worker).iloc[:,0]\n",
    "final_data.loc[condition, '보건업 종사자 수'] = final_data.loc[condition, '출발지동'].apply(impute_social_worker).iloc[:,0]"
   ],
   "metadata": {
    "collapsed": false
   }
  },
  {
   "cell_type": "code",
   "execution_count": 311,
   "outputs": [
    {
     "data": {
      "text/plain": "year  출발지동\n2021  둔촌1동    288\n2020  둔촌1동    273\n2022  둔촌1동    245\n2018  둔촌1동    142\n2019  둔촌1동     75\nName: count, dtype: int64"
     },
     "execution_count": 311,
     "metadata": {},
     "output_type": "execute_result"
    }
   ],
   "source": [
    "# 둔촌1동은 모든 시점이 null값을 가진다.\n",
    "final_data[final_data['보건업 종사자 수'].isna()][['year', '출발지동']].value_counts()"
   ],
   "metadata": {
    "collapsed": false
   }
  },
  {
   "cell_type": "code",
   "execution_count": 312,
   "outputs": [],
   "source": [
    "# 둔촌2동의 데이터로 둔촌1동의 데이터 대\n",
    "final_data.loc[final_data['보건업 종사자 수'].isna() & (final_data.year == 2018), '보건업 종사자 수'] = social_seoul_companies.loc[(social_seoul_companies.동별 == '둔촌2동')&(social_seoul_companies.시점 == 2018), '보건업 종사자 수'].iloc[0]\n",
    "final_data.loc[final_data['보건업 종사자 수'].isna() & (final_data.year == 2019), '보건업 종사자 수'] = social_seoul_companies.loc[(social_seoul_companies.동별 == '둔촌2동')&(social_seoul_companies.시점 == 2019), '보건업 종사자 수'].iloc[0]\n",
    "final_data.loc[final_data['보건업 종사자 수'].isna() & (final_data.year == 2020), '보건업 종사자 수'] = social_seoul_companies.loc[(social_seoul_companies.동별 == '둔촌2동')&(social_seoul_companies.시점 == 2020), '보건업 종사자 수'].iloc[0]\n",
    "final_data.loc[final_data['보건업 종사자 수'].isna() & (final_data.year == 2021), '보건업 종사자 수'] = social_seoul_companies.loc[(social_seoul_companies.동별 == '둔촌2동')&(social_seoul_companies.시점 == 2021), '보건업 종사자 수'].iloc[0]\n",
    "final_data.loc[final_data['보건업 종사자 수'].isna() & (final_data.year == 2022), '보건업 종사자 수'] = social_seoul_companies.loc[(social_seoul_companies.동별 == '둔촌2동')&(social_seoul_companies.시점 == 2022), '보건업 종사자 수'].iloc[0]"
   ],
   "metadata": {
    "collapsed": false
   }
  },
  {
   "cell_type": "code",
   "execution_count": 313,
   "outputs": [
    {
     "data": {
      "text/plain": "dispatch_waiting_time     425465\ntotal_waiting_time        716233\ncancel_time              4632873\nusing_time                     0\nusing_day                      0\nyear                           0\n출발지구                           0\n출발지동                           0\n목적지구                           0\n목적지동                           0\n이용목적                           0\n출발동_위도                         0\n출발동_경도                         0\n출발동_최근접_차고지_거리                 0\n목적동_위도                         0\n목적동_경도                         0\n이동거리                           0\n총 종사자 수                        0\n보건업 종사자 수                      0\ndtype: int64"
     },
     "execution_count": 313,
     "metadata": {},
     "output_type": "execute_result"
    }
   ],
   "source": [
    "final_data.isna().sum()"
   ],
   "metadata": {
    "collapsed": false
   }
  },
  {
   "cell_type": "code",
   "execution_count": 314,
   "outputs": [
    {
     "name": "stdout",
     "output_type": "stream",
     "text": [
      "5186606.0 376367.0\n",
      "5200810.0 397524.0\n",
      "5839379.0 440152.0\n",
      "5720121.0 444470.0\n",
      "5720121.0 444470.0\n"
     ]
    }
   ],
   "source": [
    "# 상대적 종사자 수\n",
    "\n",
    "for y in [2018, 2019, 2020, 2021, 2022]:\n",
    "    total_seoul = total_seoul_companies.loc[total_seoul_companies.시점 == y, '총 종사자 수'].sum()\n",
    "    social_seoul = social_seoul_companies.loc[social_seoul_companies.시점 == y, '보건업 종사자 수'].sum()\n",
    "\n",
    "    print(total_seoul, social_seoul)\n",
    "\n",
    "    denom = social_seoul / total_seoul\n",
    "\n",
    "    final_data.loc[final_data.year == y, '상대적 보건업 종사자 수'] = (final_data.loc[final_data.year == y, '보건업 종사자 수'] / final_data.loc[final_data.year == y, '총 종사자 수']) / denom\n"
   ],
   "metadata": {
    "collapsed": false
   }
  },
  {
   "cell_type": "code",
   "execution_count": 315,
   "outputs": [
    {
     "name": "stdout",
     "output_type": "stream",
     "text": [
      "(5345867, 20)\n"
     ]
    },
    {
     "data": {
      "text/plain": "   dispatch_waiting_time  total_waiting_time  cancel_time using_time   \n0                  136.0               165.0          NaN         새벽  \\\n1                  140.0               162.0          NaN         새벽   \n2                  139.0               160.0          NaN         새벽   \n3                  207.0               218.0          NaN         새벽   \n4                  210.0               232.0          NaN         새벽   \n\n  using_day  year 출발지구  출발지동 목적지구  목적지동 이용목적     출발동_위도      출발동_경도   \n0        평일  2018   중구    명동  용산구  한강로동   귀가  37.560008  126.985802  \\\n1        평일  2018  서초구  반포1동  강서구  등촌3동   귀가  37.505081  127.013377   \n2        평일  2018  강북구   인수동  노원구  하계2동   귀가  37.641473  127.010640   \n3        평일  2018  관악구   청림동  성북구   안암동   귀가  37.492266  126.958473   \n4        평일  2018  노원구  월계1동  노원구  상계5동   귀가  37.619921  127.062983   \n\n   출발동_최근접_차고지_거리     목적동_위도      목적동_경도      이동거리   총 종사자 수  보건업 종사자 수   \n0        0.014748  37.528107  126.969193  0.035966  110677.0     2156.0  \\\n1        0.025657  37.559270  126.848268  0.173774   10055.0      772.0   \n2        0.036339  37.632001  127.067959  0.058096    5715.0     1461.0   \n3        0.022919  37.586123  127.021650  0.113139    1314.0      324.0   \n4        0.020209  37.662734  127.069523  0.043309    6475.0      759.0   \n\n   상대적 보건업 종사자 수  \n0       0.268450  \n1       1.058052  \n2       3.522944  \n3       3.397984  \n4       1.615376  ",
      "text/html": "<div>\n<style scoped>\n    .dataframe tbody tr th:only-of-type {\n        vertical-align: middle;\n    }\n\n    .dataframe tbody tr th {\n        vertical-align: top;\n    }\n\n    .dataframe thead th {\n        text-align: right;\n    }\n</style>\n<table border=\"1\" class=\"dataframe\">\n  <thead>\n    <tr style=\"text-align: right;\">\n      <th></th>\n      <th>dispatch_waiting_time</th>\n      <th>total_waiting_time</th>\n      <th>cancel_time</th>\n      <th>using_time</th>\n      <th>using_day</th>\n      <th>year</th>\n      <th>출발지구</th>\n      <th>출발지동</th>\n      <th>목적지구</th>\n      <th>목적지동</th>\n      <th>이용목적</th>\n      <th>출발동_위도</th>\n      <th>출발동_경도</th>\n      <th>출발동_최근접_차고지_거리</th>\n      <th>목적동_위도</th>\n      <th>목적동_경도</th>\n      <th>이동거리</th>\n      <th>총 종사자 수</th>\n      <th>보건업 종사자 수</th>\n      <th>상대적 보건업 종사자 수</th>\n    </tr>\n  </thead>\n  <tbody>\n    <tr>\n      <th>0</th>\n      <td>136.0</td>\n      <td>165.0</td>\n      <td>NaN</td>\n      <td>새벽</td>\n      <td>평일</td>\n      <td>2018</td>\n      <td>중구</td>\n      <td>명동</td>\n      <td>용산구</td>\n      <td>한강로동</td>\n      <td>귀가</td>\n      <td>37.560008</td>\n      <td>126.985802</td>\n      <td>0.014748</td>\n      <td>37.528107</td>\n      <td>126.969193</td>\n      <td>0.035966</td>\n      <td>110677.0</td>\n      <td>2156.0</td>\n      <td>0.268450</td>\n    </tr>\n    <tr>\n      <th>1</th>\n      <td>140.0</td>\n      <td>162.0</td>\n      <td>NaN</td>\n      <td>새벽</td>\n      <td>평일</td>\n      <td>2018</td>\n      <td>서초구</td>\n      <td>반포1동</td>\n      <td>강서구</td>\n      <td>등촌3동</td>\n      <td>귀가</td>\n      <td>37.505081</td>\n      <td>127.013377</td>\n      <td>0.025657</td>\n      <td>37.559270</td>\n      <td>126.848268</td>\n      <td>0.173774</td>\n      <td>10055.0</td>\n      <td>772.0</td>\n      <td>1.058052</td>\n    </tr>\n    <tr>\n      <th>2</th>\n      <td>139.0</td>\n      <td>160.0</td>\n      <td>NaN</td>\n      <td>새벽</td>\n      <td>평일</td>\n      <td>2018</td>\n      <td>강북구</td>\n      <td>인수동</td>\n      <td>노원구</td>\n      <td>하계2동</td>\n      <td>귀가</td>\n      <td>37.641473</td>\n      <td>127.010640</td>\n      <td>0.036339</td>\n      <td>37.632001</td>\n      <td>127.067959</td>\n      <td>0.058096</td>\n      <td>5715.0</td>\n      <td>1461.0</td>\n      <td>3.522944</td>\n    </tr>\n    <tr>\n      <th>3</th>\n      <td>207.0</td>\n      <td>218.0</td>\n      <td>NaN</td>\n      <td>새벽</td>\n      <td>평일</td>\n      <td>2018</td>\n      <td>관악구</td>\n      <td>청림동</td>\n      <td>성북구</td>\n      <td>안암동</td>\n      <td>귀가</td>\n      <td>37.492266</td>\n      <td>126.958473</td>\n      <td>0.022919</td>\n      <td>37.586123</td>\n      <td>127.021650</td>\n      <td>0.113139</td>\n      <td>1314.0</td>\n      <td>324.0</td>\n      <td>3.397984</td>\n    </tr>\n    <tr>\n      <th>4</th>\n      <td>210.0</td>\n      <td>232.0</td>\n      <td>NaN</td>\n      <td>새벽</td>\n      <td>평일</td>\n      <td>2018</td>\n      <td>노원구</td>\n      <td>월계1동</td>\n      <td>노원구</td>\n      <td>상계5동</td>\n      <td>귀가</td>\n      <td>37.619921</td>\n      <td>127.062983</td>\n      <td>0.020209</td>\n      <td>37.662734</td>\n      <td>127.069523</td>\n      <td>0.043309</td>\n      <td>6475.0</td>\n      <td>759.0</td>\n      <td>1.615376</td>\n    </tr>\n  </tbody>\n</table>\n</div>"
     },
     "execution_count": 315,
     "metadata": {},
     "output_type": "execute_result"
    }
   ],
   "source": [
    "print(final_data.shape)\n",
    "final_data.head()"
   ],
   "metadata": {
    "collapsed": false
   }
  },
  {
   "cell_type": "code",
   "execution_count": 316,
   "outputs": [],
   "source": [
    "fInal_data = final_data.rename(columns = {'총 종사자 수':'총_종사자_수', '보건업 종사자 수':'보건업_종사자_수', '상대적 보건업 종사자 수':'상대적_보건업_종사자_수'})"
   ],
   "metadata": {
    "collapsed": false
   }
  },
  {
   "cell_type": "markdown",
   "source": [
    "### 서울시 행정동별 장애인 시설 수"
   ],
   "metadata": {
    "collapsed": false
   }
  },
  {
   "cell_type": "code",
   "execution_count": 317,
   "outputs": [],
   "source": [
    "disabled_center = pd.read_csv('./data/extra_data/서울시_장애인시설.csv', encoding='cp949')"
   ],
   "metadata": {
    "collapsed": false
   }
  },
  {
   "cell_type": "code",
   "execution_count": 318,
   "outputs": [],
   "source": [
    "# 필요없는 열 삭제\n",
    "disabled_center.drop(['시설명', '시설코드', '자치구(시)구분', '시설장명', '시군구코드', '시설주소', '전화번호','우편번호' ], axis=1, inplace=True)\n",
    "\n",
    "# 열 이름 변경\n",
    "disabled_center.columns = ['시설종류명', '시설종류상세명', '구별', '시설정원','현인원']\n",
    "\n",
    "# 서울특별시 삭제\n",
    "disabled_center.drop(disabled_center[disabled_center['구별'].str.contains('서울특별시')].index, inplace=True)"
   ],
   "metadata": {
    "collapsed": false
   }
  },
  {
   "cell_type": "code",
   "execution_count": 319,
   "outputs": [
    {
     "data": {
      "text/plain": "      구별  구별_장애인_시설_수\n0    강남구           55\n1    강동구           50\n2    강북구           30\n3    강서구           58\n4    관악구           24\n5    광진구           14\n6    구로구           25\n7    금천구           22\n8    노원구           58\n9    도봉구           23\n10  동대문구            9\n11   동작구           20\n12   마포구           24\n13  서대문구           19\n14   서초구           30\n15   성동구           13\n16   성북구            9\n17   송파구           50\n18   양천구           23\n19  영등포구           22\n20   용산구           11\n21   은평구           36\n22   종로구           13\n23    중구           11\n24   중랑구           13",
      "text/html": "<div>\n<style scoped>\n    .dataframe tbody tr th:only-of-type {\n        vertical-align: middle;\n    }\n\n    .dataframe tbody tr th {\n        vertical-align: top;\n    }\n\n    .dataframe thead th {\n        text-align: right;\n    }\n</style>\n<table border=\"1\" class=\"dataframe\">\n  <thead>\n    <tr style=\"text-align: right;\">\n      <th></th>\n      <th>구별</th>\n      <th>구별_장애인_시설_수</th>\n    </tr>\n  </thead>\n  <tbody>\n    <tr>\n      <th>0</th>\n      <td>강남구</td>\n      <td>55</td>\n    </tr>\n    <tr>\n      <th>1</th>\n      <td>강동구</td>\n      <td>50</td>\n    </tr>\n    <tr>\n      <th>2</th>\n      <td>강북구</td>\n      <td>30</td>\n    </tr>\n    <tr>\n      <th>3</th>\n      <td>강서구</td>\n      <td>58</td>\n    </tr>\n    <tr>\n      <th>4</th>\n      <td>관악구</td>\n      <td>24</td>\n    </tr>\n    <tr>\n      <th>5</th>\n      <td>광진구</td>\n      <td>14</td>\n    </tr>\n    <tr>\n      <th>6</th>\n      <td>구로구</td>\n      <td>25</td>\n    </tr>\n    <tr>\n      <th>7</th>\n      <td>금천구</td>\n      <td>22</td>\n    </tr>\n    <tr>\n      <th>8</th>\n      <td>노원구</td>\n      <td>58</td>\n    </tr>\n    <tr>\n      <th>9</th>\n      <td>도봉구</td>\n      <td>23</td>\n    </tr>\n    <tr>\n      <th>10</th>\n      <td>동대문구</td>\n      <td>9</td>\n    </tr>\n    <tr>\n      <th>11</th>\n      <td>동작구</td>\n      <td>20</td>\n    </tr>\n    <tr>\n      <th>12</th>\n      <td>마포구</td>\n      <td>24</td>\n    </tr>\n    <tr>\n      <th>13</th>\n      <td>서대문구</td>\n      <td>19</td>\n    </tr>\n    <tr>\n      <th>14</th>\n      <td>서초구</td>\n      <td>30</td>\n    </tr>\n    <tr>\n      <th>15</th>\n      <td>성동구</td>\n      <td>13</td>\n    </tr>\n    <tr>\n      <th>16</th>\n      <td>성북구</td>\n      <td>9</td>\n    </tr>\n    <tr>\n      <th>17</th>\n      <td>송파구</td>\n      <td>50</td>\n    </tr>\n    <tr>\n      <th>18</th>\n      <td>양천구</td>\n      <td>23</td>\n    </tr>\n    <tr>\n      <th>19</th>\n      <td>영등포구</td>\n      <td>22</td>\n    </tr>\n    <tr>\n      <th>20</th>\n      <td>용산구</td>\n      <td>11</td>\n    </tr>\n    <tr>\n      <th>21</th>\n      <td>은평구</td>\n      <td>36</td>\n    </tr>\n    <tr>\n      <th>22</th>\n      <td>종로구</td>\n      <td>13</td>\n    </tr>\n    <tr>\n      <th>23</th>\n      <td>중구</td>\n      <td>11</td>\n    </tr>\n    <tr>\n      <th>24</th>\n      <td>중랑구</td>\n      <td>13</td>\n    </tr>\n  </tbody>\n</table>\n</div>"
     },
     "execution_count": 319,
     "metadata": {},
     "output_type": "execute_result"
    }
   ],
   "source": [
    "# 구별 갯수 세기\n",
    "grouped_dis_center = disabled_center['구별'].groupby(disabled_center['구별'])\n",
    "grouped_dis_center = pd.DataFrame(grouped_dis_center.count())\n",
    "grouped_dis_center.columns = ['구별_장애인_시설_수']\n",
    "grouped_dis_center = grouped_dis_center.reset_index()\n",
    "grouped_dis_center"
   ],
   "metadata": {
    "collapsed": false
   }
  },
  {
   "cell_type": "code",
   "execution_count": 320,
   "outputs": [
    {
     "name": "stdout",
     "output_type": "stream",
     "text": [
      "set()\n",
      "set()\n"
     ]
    }
   ],
   "source": [
    "call_taxi_gus = set(full_data.출발지구.unique())\n",
    "community_gus = set(grouped_dis_center.구별.unique())\n",
    "print(set.difference(call_taxi_gus, community_gus))\n",
    "print(set.difference(community_gus, call_taxi_gus))"
   ],
   "metadata": {
    "collapsed": false
   }
  },
  {
   "cell_type": "code",
   "execution_count": 321,
   "outputs": [],
   "source": [
    "# join\n",
    "final_data = pd.merge(final_data, grouped_dis_center, how = \"left\", left_on = \"출발지구\", right_on = \"구별\")\n",
    "final_data = final_data.drop(columns = ['구별'])"
   ],
   "metadata": {
    "collapsed": false
   }
  },
  {
   "cell_type": "code",
   "execution_count": 322,
   "outputs": [
    {
     "name": "stdout",
     "output_type": "stream",
     "text": [
      "(5345867, 21)\n"
     ]
    },
    {
     "data": {
      "text/plain": "   dispatch_waiting_time  total_waiting_time  cancel_time using_time   \n0                  136.0               165.0          NaN         새벽  \\\n1                  140.0               162.0          NaN         새벽   \n2                  139.0               160.0          NaN         새벽   \n3                  207.0               218.0          NaN         새벽   \n4                  210.0               232.0          NaN         새벽   \n\n  using_day  year 출발지구  출발지동 목적지구  목적지동  ...     출발동_위도      출발동_경도   \n0        평일  2018   중구    명동  용산구  한강로동  ...  37.560008  126.985802  \\\n1        평일  2018  서초구  반포1동  강서구  등촌3동  ...  37.505081  127.013377   \n2        평일  2018  강북구   인수동  노원구  하계2동  ...  37.641473  127.010640   \n3        평일  2018  관악구   청림동  성북구   안암동  ...  37.492266  126.958473   \n4        평일  2018  노원구  월계1동  노원구  상계5동  ...  37.619921  127.062983   \n\n   출발동_최근접_차고지_거리     목적동_위도      목적동_경도      이동거리   총 종사자 수  보건업 종사자 수   \n0        0.014748  37.528107  126.969193  0.035966  110677.0     2156.0  \\\n1        0.025657  37.559270  126.848268  0.173774   10055.0      772.0   \n2        0.036339  37.632001  127.067959  0.058096    5715.0     1461.0   \n3        0.022919  37.586123  127.021650  0.113139    1314.0      324.0   \n4        0.020209  37.662734  127.069523  0.043309    6475.0      759.0   \n\n   상대적 보건업 종사자 수  구별_장애인_시설_수  \n0       0.268450           11  \n1       1.058052           30  \n2       3.522944           30  \n3       3.397984           24  \n4       1.615376           58  \n\n[5 rows x 21 columns]",
      "text/html": "<div>\n<style scoped>\n    .dataframe tbody tr th:only-of-type {\n        vertical-align: middle;\n    }\n\n    .dataframe tbody tr th {\n        vertical-align: top;\n    }\n\n    .dataframe thead th {\n        text-align: right;\n    }\n</style>\n<table border=\"1\" class=\"dataframe\">\n  <thead>\n    <tr style=\"text-align: right;\">\n      <th></th>\n      <th>dispatch_waiting_time</th>\n      <th>total_waiting_time</th>\n      <th>cancel_time</th>\n      <th>using_time</th>\n      <th>using_day</th>\n      <th>year</th>\n      <th>출발지구</th>\n      <th>출발지동</th>\n      <th>목적지구</th>\n      <th>목적지동</th>\n      <th>...</th>\n      <th>출발동_위도</th>\n      <th>출발동_경도</th>\n      <th>출발동_최근접_차고지_거리</th>\n      <th>목적동_위도</th>\n      <th>목적동_경도</th>\n      <th>이동거리</th>\n      <th>총 종사자 수</th>\n      <th>보건업 종사자 수</th>\n      <th>상대적 보건업 종사자 수</th>\n      <th>구별_장애인_시설_수</th>\n    </tr>\n  </thead>\n  <tbody>\n    <tr>\n      <th>0</th>\n      <td>136.0</td>\n      <td>165.0</td>\n      <td>NaN</td>\n      <td>새벽</td>\n      <td>평일</td>\n      <td>2018</td>\n      <td>중구</td>\n      <td>명동</td>\n      <td>용산구</td>\n      <td>한강로동</td>\n      <td>...</td>\n      <td>37.560008</td>\n      <td>126.985802</td>\n      <td>0.014748</td>\n      <td>37.528107</td>\n      <td>126.969193</td>\n      <td>0.035966</td>\n      <td>110677.0</td>\n      <td>2156.0</td>\n      <td>0.268450</td>\n      <td>11</td>\n    </tr>\n    <tr>\n      <th>1</th>\n      <td>140.0</td>\n      <td>162.0</td>\n      <td>NaN</td>\n      <td>새벽</td>\n      <td>평일</td>\n      <td>2018</td>\n      <td>서초구</td>\n      <td>반포1동</td>\n      <td>강서구</td>\n      <td>등촌3동</td>\n      <td>...</td>\n      <td>37.505081</td>\n      <td>127.013377</td>\n      <td>0.025657</td>\n      <td>37.559270</td>\n      <td>126.848268</td>\n      <td>0.173774</td>\n      <td>10055.0</td>\n      <td>772.0</td>\n      <td>1.058052</td>\n      <td>30</td>\n    </tr>\n    <tr>\n      <th>2</th>\n      <td>139.0</td>\n      <td>160.0</td>\n      <td>NaN</td>\n      <td>새벽</td>\n      <td>평일</td>\n      <td>2018</td>\n      <td>강북구</td>\n      <td>인수동</td>\n      <td>노원구</td>\n      <td>하계2동</td>\n      <td>...</td>\n      <td>37.641473</td>\n      <td>127.010640</td>\n      <td>0.036339</td>\n      <td>37.632001</td>\n      <td>127.067959</td>\n      <td>0.058096</td>\n      <td>5715.0</td>\n      <td>1461.0</td>\n      <td>3.522944</td>\n      <td>30</td>\n    </tr>\n    <tr>\n      <th>3</th>\n      <td>207.0</td>\n      <td>218.0</td>\n      <td>NaN</td>\n      <td>새벽</td>\n      <td>평일</td>\n      <td>2018</td>\n      <td>관악구</td>\n      <td>청림동</td>\n      <td>성북구</td>\n      <td>안암동</td>\n      <td>...</td>\n      <td>37.492266</td>\n      <td>126.958473</td>\n      <td>0.022919</td>\n      <td>37.586123</td>\n      <td>127.021650</td>\n      <td>0.113139</td>\n      <td>1314.0</td>\n      <td>324.0</td>\n      <td>3.397984</td>\n      <td>24</td>\n    </tr>\n    <tr>\n      <th>4</th>\n      <td>210.0</td>\n      <td>232.0</td>\n      <td>NaN</td>\n      <td>새벽</td>\n      <td>평일</td>\n      <td>2018</td>\n      <td>노원구</td>\n      <td>월계1동</td>\n      <td>노원구</td>\n      <td>상계5동</td>\n      <td>...</td>\n      <td>37.619921</td>\n      <td>127.062983</td>\n      <td>0.020209</td>\n      <td>37.662734</td>\n      <td>127.069523</td>\n      <td>0.043309</td>\n      <td>6475.0</td>\n      <td>759.0</td>\n      <td>1.615376</td>\n      <td>58</td>\n    </tr>\n  </tbody>\n</table>\n<p>5 rows × 21 columns</p>\n</div>"
     },
     "execution_count": 322,
     "metadata": {},
     "output_type": "execute_result"
    }
   ],
   "source": [
    "print(final_data.shape)\n",
    "final_data.head()"
   ],
   "metadata": {
    "collapsed": false
   }
  },
  {
   "cell_type": "markdown",
   "source": [
    "### 행정동별 연도별 장애인 수"
   ],
   "metadata": {
    "collapsed": false
   }
  },
  {
   "cell_type": "code",
   "execution_count": 323,
   "outputs": [],
   "source": [
    "seoul_disabled = pd.read_csv('./data/extra_data/서울시_장애인구.csv')"
   ],
   "metadata": {
    "collapsed": false
   }
  },
  {
   "cell_type": "code",
   "execution_count": 324,
   "outputs": [],
   "source": [
    "# '-' -> NaN 바꾸기\n",
    "seoul_disabled.장애인구수 = seoul_disabled.장애인구수.str.replace('-','')\n",
    "\n",
    "# 장애인구 수 형 변환\n",
    "seoul_disabled.장애인구수 = pd.to_numeric(seoul_disabled.장애인구수)\n",
    "\n",
    "# '구'로 구분된 데이터 삭제\n",
    "seoul_disabled.drop(seoul_disabled[seoul_disabled['동별'].str.contains('구')].index, inplace=True)\n",
    "\n",
    "# 기타로 분류된 데이터 삭제\n",
    "seoul_disabled.drop(seoul_disabled[seoul_disabled['동별'].str.contains('기타')].index, inplace=True)\n",
    "\n",
    "# 시점 열에서 '년' 없애기\n",
    "seoul_disabled.시점 = seoul_disabled.시점.str.replace(' 년', '')"
   ],
   "metadata": {
    "collapsed": false
   }
  },
  {
   "cell_type": "code",
   "execution_count": 325,
   "outputs": [
    {
     "data": {
      "text/plain": "     동별 장애유형별    시점  장애인구수\n80  사직동    합계  2018  309.0\n81  사직동    합계  2019  295.0\n82  사직동    합계  2020  284.0\n83  사직동    합계  2021  277.0\n84  사직동    합계  2022  267.0",
      "text/html": "<div>\n<style scoped>\n    .dataframe tbody tr th:only-of-type {\n        vertical-align: middle;\n    }\n\n    .dataframe tbody tr th {\n        vertical-align: top;\n    }\n\n    .dataframe thead th {\n        text-align: right;\n    }\n</style>\n<table border=\"1\" class=\"dataframe\">\n  <thead>\n    <tr style=\"text-align: right;\">\n      <th></th>\n      <th>동별</th>\n      <th>장애유형별</th>\n      <th>시점</th>\n      <th>장애인구수</th>\n    </tr>\n  </thead>\n  <tbody>\n    <tr>\n      <th>80</th>\n      <td>사직동</td>\n      <td>합계</td>\n      <td>2018</td>\n      <td>309.0</td>\n    </tr>\n    <tr>\n      <th>81</th>\n      <td>사직동</td>\n      <td>합계</td>\n      <td>2019</td>\n      <td>295.0</td>\n    </tr>\n    <tr>\n      <th>82</th>\n      <td>사직동</td>\n      <td>합계</td>\n      <td>2020</td>\n      <td>284.0</td>\n    </tr>\n    <tr>\n      <th>83</th>\n      <td>사직동</td>\n      <td>합계</td>\n      <td>2021</td>\n      <td>277.0</td>\n    </tr>\n    <tr>\n      <th>84</th>\n      <td>사직동</td>\n      <td>합계</td>\n      <td>2022</td>\n      <td>267.0</td>\n    </tr>\n  </tbody>\n</table>\n</div>"
     },
     "execution_count": 325,
     "metadata": {},
     "output_type": "execute_result"
    }
   ],
   "source": [
    "seoul_disabled.head()"
   ],
   "metadata": {
    "collapsed": false
   }
  },
  {
   "cell_type": "code",
   "execution_count": 326,
   "outputs": [],
   "source": [
    "seoul_disabled.시점 = pd.to_numeric(seoul_disabled.시점)"
   ],
   "metadata": {
    "collapsed": false
   }
  },
  {
   "cell_type": "code",
   "execution_count": 327,
   "outputs": [],
   "source": [
    "final_data.출발지동 = final_data.출발지동.replace({'홍1동':'홍제1동', '홍2동':'홍제2동', '홍3동':'홍제3동'})\n",
    "\n",
    "dong_to_gu.출발지동 = dong_to_gu.출발지동.replace({'홍1동':'홍제1동', '홍2동':'홍제2동', '홍3동':'홍제3동'})\n",
    "\n",
    "dong_to_gu_dict = dict(zip(dong_to_gu.출발지동, dong_to_gu.출발지구))"
   ],
   "metadata": {
    "collapsed": false
   }
  },
  {
   "cell_type": "code",
   "execution_count": 328,
   "outputs": [],
   "source": [
    "seoul_disabled.동별 = seoul_disabled.동별.replace({'용신동':'신설동', '공릉1동':'공릉1.3동'})"
   ],
   "metadata": {
    "collapsed": false
   }
  },
  {
   "cell_type": "code",
   "execution_count": 329,
   "outputs": [],
   "source": [
    "seoul_disabled = seoul_disabled[seoul_disabled.동별.isin(final_data.출발지동.unique())]"
   ],
   "metadata": {
    "collapsed": false
   }
  },
  {
   "cell_type": "code",
   "execution_count": 330,
   "outputs": [
    {
     "name": "stdout",
     "output_type": "stream",
     "text": [
      "{'구로2동', '구로3동', '구로5동', '구의1동', '구로1동', '구로4동', '구의2동', '구의3동', '구산동', '압구정동'}\n",
      "set()\n"
     ]
    }
   ],
   "source": [
    "call_taxi_dongs = set(final_data.출발지동.unique())\n",
    "disabled_dongs = set(seoul_disabled.동별.unique())\n",
    "print(set.difference(call_taxi_dongs, disabled_dongs))\n",
    "print(set.difference(disabled_dongs, call_taxi_dongs))"
   ],
   "metadata": {
    "collapsed": false
   }
  },
  {
   "cell_type": "code",
   "execution_count": 331,
   "outputs": [],
   "source": [
    "seoul_disabled = seoul_disabled[seoul_disabled.장애유형별 == '합계']"
   ],
   "metadata": {
    "collapsed": false
   }
  },
  {
   "cell_type": "code",
   "execution_count": 332,
   "outputs": [],
   "source": [
    "seoul_disabled['구별'] = seoul_disabled.동별.apply(create_gu_col)"
   ],
   "metadata": {
    "collapsed": false
   }
  },
  {
   "cell_type": "code",
   "execution_count": 333,
   "outputs": [],
   "source": [
    "gangnam_idx = seoul_disabled[seoul_disabled.동별 == '신사동'].index[-5:]\n",
    "seoul_disabled.loc[list(gangnam_idx), '구별'] = '강남구'"
   ],
   "metadata": {
    "collapsed": false
   }
  },
  {
   "cell_type": "code",
   "execution_count": 334,
   "outputs": [],
   "source": [
    "# join\n",
    "final_data = pd.merge(final_data, seoul_disabled[['구별','동별', '장애인구수', '시점']], how = \"left\", left_on = [\"출발지구\",\"출발지동\", \"year\"], right_on = [\"구별\",\"동별\",\"시점\"])\n",
    "final_data = final_data.drop(columns = ['구별','동별', '시점'])"
   ],
   "metadata": {
    "collapsed": false
   }
  },
  {
   "cell_type": "code",
   "execution_count": 335,
   "outputs": [
    {
     "name": "stdout",
     "output_type": "stream",
     "text": [
      "(5345867, 22)\n"
     ]
    },
    {
     "data": {
      "text/plain": "   dispatch_waiting_time  total_waiting_time  cancel_time using_time   \n0                  136.0               165.0          NaN         새벽  \\\n1                  140.0               162.0          NaN         새벽   \n2                  139.0               160.0          NaN         새벽   \n3                  207.0               218.0          NaN         새벽   \n4                  210.0               232.0          NaN         새벽   \n\n  using_day  year 출발지구  출발지동 목적지구  목적지동  ...      출발동_경도  출발동_최근접_차고지_거리   \n0        평일  2018   중구    명동  용산구  한강로동  ...  126.985802        0.014748  \\\n1        평일  2018  서초구  반포1동  강서구  등촌3동  ...  127.013377        0.025657   \n2        평일  2018  강북구   인수동  노원구  하계2동  ...  127.010640        0.036339   \n3        평일  2018  관악구   청림동  성북구   안암동  ...  126.958473        0.022919   \n4        평일  2018  노원구  월계1동  노원구  상계5동  ...  127.062983        0.020209   \n\n      목적동_위도      목적동_경도      이동거리   총 종사자 수  보건업 종사자 수  상대적 보건업 종사자 수   \n0  37.528107  126.969193  0.035966  110677.0     2156.0       0.268450  \\\n1  37.559270  126.848268  0.173774   10055.0      772.0       1.058052   \n2  37.632001  127.067959  0.058096    5715.0     1461.0       3.522944   \n3  37.586123  127.021650  0.113139    1314.0      324.0       3.397984   \n4  37.662734  127.069523  0.043309    6475.0      759.0       1.615376   \n\n   구별_장애인_시설_수   장애인구수  \n0           11   126.0  \n1           30   532.0  \n2           30  1794.0  \n3           24   679.0  \n4           58  1056.0  \n\n[5 rows x 22 columns]",
      "text/html": "<div>\n<style scoped>\n    .dataframe tbody tr th:only-of-type {\n        vertical-align: middle;\n    }\n\n    .dataframe tbody tr th {\n        vertical-align: top;\n    }\n\n    .dataframe thead th {\n        text-align: right;\n    }\n</style>\n<table border=\"1\" class=\"dataframe\">\n  <thead>\n    <tr style=\"text-align: right;\">\n      <th></th>\n      <th>dispatch_waiting_time</th>\n      <th>total_waiting_time</th>\n      <th>cancel_time</th>\n      <th>using_time</th>\n      <th>using_day</th>\n      <th>year</th>\n      <th>출발지구</th>\n      <th>출발지동</th>\n      <th>목적지구</th>\n      <th>목적지동</th>\n      <th>...</th>\n      <th>출발동_경도</th>\n      <th>출발동_최근접_차고지_거리</th>\n      <th>목적동_위도</th>\n      <th>목적동_경도</th>\n      <th>이동거리</th>\n      <th>총 종사자 수</th>\n      <th>보건업 종사자 수</th>\n      <th>상대적 보건업 종사자 수</th>\n      <th>구별_장애인_시설_수</th>\n      <th>장애인구수</th>\n    </tr>\n  </thead>\n  <tbody>\n    <tr>\n      <th>0</th>\n      <td>136.0</td>\n      <td>165.0</td>\n      <td>NaN</td>\n      <td>새벽</td>\n      <td>평일</td>\n      <td>2018</td>\n      <td>중구</td>\n      <td>명동</td>\n      <td>용산구</td>\n      <td>한강로동</td>\n      <td>...</td>\n      <td>126.985802</td>\n      <td>0.014748</td>\n      <td>37.528107</td>\n      <td>126.969193</td>\n      <td>0.035966</td>\n      <td>110677.0</td>\n      <td>2156.0</td>\n      <td>0.268450</td>\n      <td>11</td>\n      <td>126.0</td>\n    </tr>\n    <tr>\n      <th>1</th>\n      <td>140.0</td>\n      <td>162.0</td>\n      <td>NaN</td>\n      <td>새벽</td>\n      <td>평일</td>\n      <td>2018</td>\n      <td>서초구</td>\n      <td>반포1동</td>\n      <td>강서구</td>\n      <td>등촌3동</td>\n      <td>...</td>\n      <td>127.013377</td>\n      <td>0.025657</td>\n      <td>37.559270</td>\n      <td>126.848268</td>\n      <td>0.173774</td>\n      <td>10055.0</td>\n      <td>772.0</td>\n      <td>1.058052</td>\n      <td>30</td>\n      <td>532.0</td>\n    </tr>\n    <tr>\n      <th>2</th>\n      <td>139.0</td>\n      <td>160.0</td>\n      <td>NaN</td>\n      <td>새벽</td>\n      <td>평일</td>\n      <td>2018</td>\n      <td>강북구</td>\n      <td>인수동</td>\n      <td>노원구</td>\n      <td>하계2동</td>\n      <td>...</td>\n      <td>127.010640</td>\n      <td>0.036339</td>\n      <td>37.632001</td>\n      <td>127.067959</td>\n      <td>0.058096</td>\n      <td>5715.0</td>\n      <td>1461.0</td>\n      <td>3.522944</td>\n      <td>30</td>\n      <td>1794.0</td>\n    </tr>\n    <tr>\n      <th>3</th>\n      <td>207.0</td>\n      <td>218.0</td>\n      <td>NaN</td>\n      <td>새벽</td>\n      <td>평일</td>\n      <td>2018</td>\n      <td>관악구</td>\n      <td>청림동</td>\n      <td>성북구</td>\n      <td>안암동</td>\n      <td>...</td>\n      <td>126.958473</td>\n      <td>0.022919</td>\n      <td>37.586123</td>\n      <td>127.021650</td>\n      <td>0.113139</td>\n      <td>1314.0</td>\n      <td>324.0</td>\n      <td>3.397984</td>\n      <td>24</td>\n      <td>679.0</td>\n    </tr>\n    <tr>\n      <th>4</th>\n      <td>210.0</td>\n      <td>232.0</td>\n      <td>NaN</td>\n      <td>새벽</td>\n      <td>평일</td>\n      <td>2018</td>\n      <td>노원구</td>\n      <td>월계1동</td>\n      <td>노원구</td>\n      <td>상계5동</td>\n      <td>...</td>\n      <td>127.062983</td>\n      <td>0.020209</td>\n      <td>37.662734</td>\n      <td>127.069523</td>\n      <td>0.043309</td>\n      <td>6475.0</td>\n      <td>759.0</td>\n      <td>1.615376</td>\n      <td>58</td>\n      <td>1056.0</td>\n    </tr>\n  </tbody>\n</table>\n<p>5 rows × 22 columns</p>\n</div>"
     },
     "execution_count": 335,
     "metadata": {},
     "output_type": "execute_result"
    }
   ],
   "source": [
    "print(final_data.shape)\n",
    "final_data.head()"
   ],
   "metadata": {
    "collapsed": false
   }
  },
  {
   "cell_type": "markdown",
   "source": [
    "### 행정동별 연도별 전체 인구 수"
   ],
   "metadata": {
    "collapsed": false
   }
  },
  {
   "cell_type": "code",
   "execution_count": 336,
   "outputs": [],
   "source": [
    "seoul_population = pd.read_csv('./data/extra_data/서울시_주민등록인구.csv')"
   ],
   "metadata": {
    "collapsed": false
   }
  },
  {
   "cell_type": "code",
   "execution_count": 337,
   "outputs": [],
   "source": [
    "# 동별 칼럼 소계 제거\n",
    "seoul_population.drop(seoul_population[seoul_population['동별'].str.contains('소계')].index, inplace=True)\n",
    "\n",
    "# 2023년 데이터 삭제\n",
    "seoul_population.drop(seoul_population[seoul_population['시점'].str.contains('2023 1/4')].index, inplace=True)"
   ],
   "metadata": {
    "collapsed": false
   }
  },
  {
   "cell_type": "code",
   "execution_count": 338,
   "outputs": [
    {
     "data": {
      "text/plain": "     구별   동별    시점   인구수\n7   종로구  사직동  2018  9818\n8   종로구  사직동  2019  9815\n9   종로구  사직동  2020  9806\n10  종로구  사직동  2021  9636\n11  종로구  사직동  2022  9355",
      "text/html": "<div>\n<style scoped>\n    .dataframe tbody tr th:only-of-type {\n        vertical-align: middle;\n    }\n\n    .dataframe tbody tr th {\n        vertical-align: top;\n    }\n\n    .dataframe thead th {\n        text-align: right;\n    }\n</style>\n<table border=\"1\" class=\"dataframe\">\n  <thead>\n    <tr style=\"text-align: right;\">\n      <th></th>\n      <th>구별</th>\n      <th>동별</th>\n      <th>시점</th>\n      <th>인구수</th>\n    </tr>\n  </thead>\n  <tbody>\n    <tr>\n      <th>7</th>\n      <td>종로구</td>\n      <td>사직동</td>\n      <td>2018</td>\n      <td>9818</td>\n    </tr>\n    <tr>\n      <th>8</th>\n      <td>종로구</td>\n      <td>사직동</td>\n      <td>2019</td>\n      <td>9815</td>\n    </tr>\n    <tr>\n      <th>9</th>\n      <td>종로구</td>\n      <td>사직동</td>\n      <td>2020</td>\n      <td>9806</td>\n    </tr>\n    <tr>\n      <th>10</th>\n      <td>종로구</td>\n      <td>사직동</td>\n      <td>2021</td>\n      <td>9636</td>\n    </tr>\n    <tr>\n      <th>11</th>\n      <td>종로구</td>\n      <td>사직동</td>\n      <td>2022</td>\n      <td>9355</td>\n    </tr>\n  </tbody>\n</table>\n</div>"
     },
     "execution_count": 338,
     "metadata": {},
     "output_type": "execute_result"
    }
   ],
   "source": [
    "seoul_population.head()"
   ],
   "metadata": {
    "collapsed": false
   }
  },
  {
   "cell_type": "code",
   "execution_count": 339,
   "outputs": [],
   "source": [
    "seoul_population.동별 = seoul_population.동별.replace({'용신동':'신설동', '공릉1동':'공릉1.3동'})"
   ],
   "metadata": {
    "collapsed": false
   }
  },
  {
   "cell_type": "code",
   "execution_count": 340,
   "outputs": [],
   "source": [
    "seoul_population = seoul_population[seoul_population.동별.isin(final_data.출발지동.unique())]"
   ],
   "metadata": {
    "collapsed": false
   }
  },
  {
   "cell_type": "code",
   "execution_count": 341,
   "outputs": [
    {
     "name": "stdout",
     "output_type": "stream",
     "text": [
      "set()\n",
      "set()\n"
     ]
    }
   ],
   "source": [
    "call_taxi_dongs = set(final_data.출발지동.unique())\n",
    "population_dongs = set(seoul_population.동별.unique())\n",
    "print(set.difference(call_taxi_dongs, population_dongs))\n",
    "print(set.difference(population_dongs, call_taxi_dongs))"
   ],
   "metadata": {
    "collapsed": false
   }
  },
  {
   "cell_type": "code",
   "execution_count": 342,
   "outputs": [],
   "source": [
    "seoul_population.시점 = pd.to_numeric(seoul_population.시점)"
   ],
   "metadata": {
    "collapsed": false
   }
  },
  {
   "cell_type": "code",
   "execution_count": 343,
   "outputs": [],
   "source": [
    "seoul_population['구별'] = seoul_population.동별.apply(create_gu_col)"
   ],
   "metadata": {
    "collapsed": false
   }
  },
  {
   "cell_type": "code",
   "execution_count": 344,
   "outputs": [],
   "source": [
    "gangnam_idx = seoul_population[seoul_population.동별 == '신사동'].index[-5:]\n",
    "seoul_population.loc[list(gangnam_idx), '구별'] = '강남구'"
   ],
   "metadata": {
    "collapsed": false
   }
  },
  {
   "cell_type": "code",
   "execution_count": 345,
   "outputs": [],
   "source": [
    "# join\n",
    "final_data = pd.merge(final_data, seoul_population[['구별','동별', '인구수', '시점']], how = \"left\", left_on = [\"출발지구\",\"출발지동\", \"year\"], right_on = [\"구별\",\"동별\",\"시점\"])\n",
    "final_data = final_data.drop(columns = ['구별','동별', '시점'])"
   ],
   "metadata": {
    "collapsed": false
   }
  },
  {
   "cell_type": "code",
   "execution_count": 346,
   "outputs": [
    {
     "name": "stdout",
     "output_type": "stream",
     "text": [
      "9961623 378845.0\n",
      "9924408 380734.0\n",
      "9807131 379538.0\n",
      "9575802 375617.0\n",
      "9483798 373958.0\n"
     ]
    }
   ],
   "source": [
    "# 상대적 장애인구 수\n",
    "\n",
    "for y in [2018, 2019, 2020, 2021, 2022]:\n",
    "    total_seoul = seoul_population.loc[seoul_population.시점 == y, '인구수'].sum()\n",
    "    social_seoul = seoul_disabled.loc[seoul_disabled.시점 == y, '장애인구수'].sum()\n",
    "\n",
    "    print(total_seoul, social_seoul)\n",
    "\n",
    "    denom = social_seoul / total_seoul\n",
    "\n",
    "    final_data.loc[final_data.year == y, '상대적_장애인구수'] = (final_data.loc[final_data.year == y, '장애인구수'] / final_data.loc[final_data.year == y, '인구수']) / denom\n"
   ],
   "metadata": {
    "collapsed": false
   }
  },
  {
   "cell_type": "code",
   "execution_count": 347,
   "outputs": [
    {
     "name": "stdout",
     "output_type": "stream",
     "text": [
      "(5345867, 24)\n"
     ]
    },
    {
     "data": {
      "text/plain": "   dispatch_waiting_time  total_waiting_time  cancel_time using_time   \n0                  136.0               165.0          NaN         새벽  \\\n1                  140.0               162.0          NaN         새벽   \n2                  139.0               160.0          NaN         새벽   \n3                  207.0               218.0          NaN         새벽   \n4                  210.0               232.0          NaN         새벽   \n\n  using_day  year 출발지구  출발지동 목적지구  목적지동  ...     목적동_위도      목적동_경도      이동거리   \n0        평일  2018   중구    명동  용산구  한강로동  ...  37.528107  126.969193  0.035966  \\\n1        평일  2018  서초구  반포1동  강서구  등촌3동  ...  37.559270  126.848268  0.173774   \n2        평일  2018  강북구   인수동  노원구  하계2동  ...  37.632001  127.067959  0.058096   \n3        평일  2018  관악구   청림동  성북구   안암동  ...  37.586123  127.021650  0.113139   \n4        평일  2018  노원구  월계1동  노원구  상계5동  ...  37.662734  127.069523  0.043309   \n\n    총 종사자 수  보건업 종사자 수  상대적 보건업 종사자 수  구별_장애인_시설_수   장애인구수      인구수  상대적_장애인구수  \n0  110677.0     2156.0       0.268450           11   126.0   3470.0   0.954794  \n1   10055.0      772.0       1.058052           30   532.0  32109.0   0.435666  \n2    5715.0     1461.0       3.522944           30  1794.0  33046.0   1.427487  \n3    1314.0      324.0       3.397984           24   679.0  16527.0   1.080300  \n4    6475.0      759.0       1.615376           58  1056.0  24087.0   1.152789  \n\n[5 rows x 24 columns]",
      "text/html": "<div>\n<style scoped>\n    .dataframe tbody tr th:only-of-type {\n        vertical-align: middle;\n    }\n\n    .dataframe tbody tr th {\n        vertical-align: top;\n    }\n\n    .dataframe thead th {\n        text-align: right;\n    }\n</style>\n<table border=\"1\" class=\"dataframe\">\n  <thead>\n    <tr style=\"text-align: right;\">\n      <th></th>\n      <th>dispatch_waiting_time</th>\n      <th>total_waiting_time</th>\n      <th>cancel_time</th>\n      <th>using_time</th>\n      <th>using_day</th>\n      <th>year</th>\n      <th>출발지구</th>\n      <th>출발지동</th>\n      <th>목적지구</th>\n      <th>목적지동</th>\n      <th>...</th>\n      <th>목적동_위도</th>\n      <th>목적동_경도</th>\n      <th>이동거리</th>\n      <th>총 종사자 수</th>\n      <th>보건업 종사자 수</th>\n      <th>상대적 보건업 종사자 수</th>\n      <th>구별_장애인_시설_수</th>\n      <th>장애인구수</th>\n      <th>인구수</th>\n      <th>상대적_장애인구수</th>\n    </tr>\n  </thead>\n  <tbody>\n    <tr>\n      <th>0</th>\n      <td>136.0</td>\n      <td>165.0</td>\n      <td>NaN</td>\n      <td>새벽</td>\n      <td>평일</td>\n      <td>2018</td>\n      <td>중구</td>\n      <td>명동</td>\n      <td>용산구</td>\n      <td>한강로동</td>\n      <td>...</td>\n      <td>37.528107</td>\n      <td>126.969193</td>\n      <td>0.035966</td>\n      <td>110677.0</td>\n      <td>2156.0</td>\n      <td>0.268450</td>\n      <td>11</td>\n      <td>126.0</td>\n      <td>3470.0</td>\n      <td>0.954794</td>\n    </tr>\n    <tr>\n      <th>1</th>\n      <td>140.0</td>\n      <td>162.0</td>\n      <td>NaN</td>\n      <td>새벽</td>\n      <td>평일</td>\n      <td>2018</td>\n      <td>서초구</td>\n      <td>반포1동</td>\n      <td>강서구</td>\n      <td>등촌3동</td>\n      <td>...</td>\n      <td>37.559270</td>\n      <td>126.848268</td>\n      <td>0.173774</td>\n      <td>10055.0</td>\n      <td>772.0</td>\n      <td>1.058052</td>\n      <td>30</td>\n      <td>532.0</td>\n      <td>32109.0</td>\n      <td>0.435666</td>\n    </tr>\n    <tr>\n      <th>2</th>\n      <td>139.0</td>\n      <td>160.0</td>\n      <td>NaN</td>\n      <td>새벽</td>\n      <td>평일</td>\n      <td>2018</td>\n      <td>강북구</td>\n      <td>인수동</td>\n      <td>노원구</td>\n      <td>하계2동</td>\n      <td>...</td>\n      <td>37.632001</td>\n      <td>127.067959</td>\n      <td>0.058096</td>\n      <td>5715.0</td>\n      <td>1461.0</td>\n      <td>3.522944</td>\n      <td>30</td>\n      <td>1794.0</td>\n      <td>33046.0</td>\n      <td>1.427487</td>\n    </tr>\n    <tr>\n      <th>3</th>\n      <td>207.0</td>\n      <td>218.0</td>\n      <td>NaN</td>\n      <td>새벽</td>\n      <td>평일</td>\n      <td>2018</td>\n      <td>관악구</td>\n      <td>청림동</td>\n      <td>성북구</td>\n      <td>안암동</td>\n      <td>...</td>\n      <td>37.586123</td>\n      <td>127.021650</td>\n      <td>0.113139</td>\n      <td>1314.0</td>\n      <td>324.0</td>\n      <td>3.397984</td>\n      <td>24</td>\n      <td>679.0</td>\n      <td>16527.0</td>\n      <td>1.080300</td>\n    </tr>\n    <tr>\n      <th>4</th>\n      <td>210.0</td>\n      <td>232.0</td>\n      <td>NaN</td>\n      <td>새벽</td>\n      <td>평일</td>\n      <td>2018</td>\n      <td>노원구</td>\n      <td>월계1동</td>\n      <td>노원구</td>\n      <td>상계5동</td>\n      <td>...</td>\n      <td>37.662734</td>\n      <td>127.069523</td>\n      <td>0.043309</td>\n      <td>6475.0</td>\n      <td>759.0</td>\n      <td>1.615376</td>\n      <td>58</td>\n      <td>1056.0</td>\n      <td>24087.0</td>\n      <td>1.152789</td>\n    </tr>\n  </tbody>\n</table>\n<p>5 rows × 24 columns</p>\n</div>"
     },
     "execution_count": 347,
     "metadata": {},
     "output_type": "execute_result"
    }
   ],
   "source": [
    "print(final_data.shape)\n",
    "final_data.head()"
   ],
   "metadata": {
    "collapsed": false
   }
  },
  {
   "cell_type": "markdown",
   "source": [
    "### 배차와 취소 시간이 모두 null인 데이터 & 승차와 취소 시간이 모두 null인 데이터 삭제"
   ],
   "metadata": {
    "collapsed": false
   }
  },
  {
   "cell_type": "code",
   "execution_count": 348,
   "outputs": [],
   "source": [
    "final_data = final_data[~(final_data.dispatch_waiting_time.isna() & final_data.cancel_time.isna())]\n",
    "final_data = final_data[~(final_data.total_waiting_time.isna() & final_data.cancel_time.isna())]"
   ],
   "metadata": {
    "collapsed": false
   }
  },
  {
   "cell_type": "code",
   "execution_count": 349,
   "outputs": [
    {
     "name": "stdout",
     "output_type": "stream",
     "text": [
      "(5342521, 24)\n"
     ]
    },
    {
     "data": {
      "text/plain": "   dispatch_waiting_time  total_waiting_time  cancel_time using_time   \n0                  136.0               165.0          NaN         새벽  \\\n1                  140.0               162.0          NaN         새벽   \n2                  139.0               160.0          NaN         새벽   \n3                  207.0               218.0          NaN         새벽   \n4                  210.0               232.0          NaN         새벽   \n\n  using_day  year 출발지구  출발지동 목적지구  목적지동  ...     목적동_위도      목적동_경도      이동거리   \n0        평일  2018   중구    명동  용산구  한강로동  ...  37.528107  126.969193  0.035966  \\\n1        평일  2018  서초구  반포1동  강서구  등촌3동  ...  37.559270  126.848268  0.173774   \n2        평일  2018  강북구   인수동  노원구  하계2동  ...  37.632001  127.067959  0.058096   \n3        평일  2018  관악구   청림동  성북구   안암동  ...  37.586123  127.021650  0.113139   \n4        평일  2018  노원구  월계1동  노원구  상계5동  ...  37.662734  127.069523  0.043309   \n\n    총 종사자 수  보건업 종사자 수  상대적 보건업 종사자 수  구별_장애인_시설_수   장애인구수      인구수  상대적_장애인구수  \n0  110677.0     2156.0       0.268450           11   126.0   3470.0   0.954794  \n1   10055.0      772.0       1.058052           30   532.0  32109.0   0.435666  \n2    5715.0     1461.0       3.522944           30  1794.0  33046.0   1.427487  \n3    1314.0      324.0       3.397984           24   679.0  16527.0   1.080300  \n4    6475.0      759.0       1.615376           58  1056.0  24087.0   1.152789  \n\n[5 rows x 24 columns]",
      "text/html": "<div>\n<style scoped>\n    .dataframe tbody tr th:only-of-type {\n        vertical-align: middle;\n    }\n\n    .dataframe tbody tr th {\n        vertical-align: top;\n    }\n\n    .dataframe thead th {\n        text-align: right;\n    }\n</style>\n<table border=\"1\" class=\"dataframe\">\n  <thead>\n    <tr style=\"text-align: right;\">\n      <th></th>\n      <th>dispatch_waiting_time</th>\n      <th>total_waiting_time</th>\n      <th>cancel_time</th>\n      <th>using_time</th>\n      <th>using_day</th>\n      <th>year</th>\n      <th>출발지구</th>\n      <th>출발지동</th>\n      <th>목적지구</th>\n      <th>목적지동</th>\n      <th>...</th>\n      <th>목적동_위도</th>\n      <th>목적동_경도</th>\n      <th>이동거리</th>\n      <th>총 종사자 수</th>\n      <th>보건업 종사자 수</th>\n      <th>상대적 보건업 종사자 수</th>\n      <th>구별_장애인_시설_수</th>\n      <th>장애인구수</th>\n      <th>인구수</th>\n      <th>상대적_장애인구수</th>\n    </tr>\n  </thead>\n  <tbody>\n    <tr>\n      <th>0</th>\n      <td>136.0</td>\n      <td>165.0</td>\n      <td>NaN</td>\n      <td>새벽</td>\n      <td>평일</td>\n      <td>2018</td>\n      <td>중구</td>\n      <td>명동</td>\n      <td>용산구</td>\n      <td>한강로동</td>\n      <td>...</td>\n      <td>37.528107</td>\n      <td>126.969193</td>\n      <td>0.035966</td>\n      <td>110677.0</td>\n      <td>2156.0</td>\n      <td>0.268450</td>\n      <td>11</td>\n      <td>126.0</td>\n      <td>3470.0</td>\n      <td>0.954794</td>\n    </tr>\n    <tr>\n      <th>1</th>\n      <td>140.0</td>\n      <td>162.0</td>\n      <td>NaN</td>\n      <td>새벽</td>\n      <td>평일</td>\n      <td>2018</td>\n      <td>서초구</td>\n      <td>반포1동</td>\n      <td>강서구</td>\n      <td>등촌3동</td>\n      <td>...</td>\n      <td>37.559270</td>\n      <td>126.848268</td>\n      <td>0.173774</td>\n      <td>10055.0</td>\n      <td>772.0</td>\n      <td>1.058052</td>\n      <td>30</td>\n      <td>532.0</td>\n      <td>32109.0</td>\n      <td>0.435666</td>\n    </tr>\n    <tr>\n      <th>2</th>\n      <td>139.0</td>\n      <td>160.0</td>\n      <td>NaN</td>\n      <td>새벽</td>\n      <td>평일</td>\n      <td>2018</td>\n      <td>강북구</td>\n      <td>인수동</td>\n      <td>노원구</td>\n      <td>하계2동</td>\n      <td>...</td>\n      <td>37.632001</td>\n      <td>127.067959</td>\n      <td>0.058096</td>\n      <td>5715.0</td>\n      <td>1461.0</td>\n      <td>3.522944</td>\n      <td>30</td>\n      <td>1794.0</td>\n      <td>33046.0</td>\n      <td>1.427487</td>\n    </tr>\n    <tr>\n      <th>3</th>\n      <td>207.0</td>\n      <td>218.0</td>\n      <td>NaN</td>\n      <td>새벽</td>\n      <td>평일</td>\n      <td>2018</td>\n      <td>관악구</td>\n      <td>청림동</td>\n      <td>성북구</td>\n      <td>안암동</td>\n      <td>...</td>\n      <td>37.586123</td>\n      <td>127.021650</td>\n      <td>0.113139</td>\n      <td>1314.0</td>\n      <td>324.0</td>\n      <td>3.397984</td>\n      <td>24</td>\n      <td>679.0</td>\n      <td>16527.0</td>\n      <td>1.080300</td>\n    </tr>\n    <tr>\n      <th>4</th>\n      <td>210.0</td>\n      <td>232.0</td>\n      <td>NaN</td>\n      <td>새벽</td>\n      <td>평일</td>\n      <td>2018</td>\n      <td>노원구</td>\n      <td>월계1동</td>\n      <td>노원구</td>\n      <td>상계5동</td>\n      <td>...</td>\n      <td>37.662734</td>\n      <td>127.069523</td>\n      <td>0.043309</td>\n      <td>6475.0</td>\n      <td>759.0</td>\n      <td>1.615376</td>\n      <td>58</td>\n      <td>1056.0</td>\n      <td>24087.0</td>\n      <td>1.152789</td>\n    </tr>\n  </tbody>\n</table>\n<p>5 rows × 24 columns</p>\n</div>"
     },
     "execution_count": 349,
     "metadata": {},
     "output_type": "execute_result"
    }
   ],
   "source": [
    "print(final_data.shape)\n",
    "final_data.head()"
   ],
   "metadata": {
    "collapsed": false
   }
  },
  {
   "cell_type": "code",
   "execution_count": 350,
   "outputs": [],
   "source": [
    "final_data.to_csv('./data/final_data/final_data.csv', index = False)"
   ],
   "metadata": {
    "collapsed": false
   }
  },
  {
   "cell_type": "code",
   "execution_count": 350,
   "outputs": [],
   "source": [],
   "metadata": {
    "collapsed": false
   }
  }
 ],
 "metadata": {
  "kernelspec": {
   "display_name": "Python 3",
   "language": "python",
   "name": "python3"
  },
  "language_info": {
   "codemirror_mode": {
    "name": "ipython",
    "version": 2
   },
   "file_extension": ".py",
   "mimetype": "text/x-python",
   "name": "python",
   "nbconvert_exporter": "python",
   "pygments_lexer": "ipython2",
   "version": "2.7.6"
  }
 },
 "nbformat": 4,
 "nbformat_minor": 0
}
