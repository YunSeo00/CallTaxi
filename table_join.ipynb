{
 "cells": [
  {
   "cell_type": "code",
   "execution_count": 1,
   "metadata": {
    "collapsed": true
   },
   "outputs": [],
   "source": [
    "import pandas as pd\n",
    "import numpy as np"
   ]
  },
  {
   "cell_type": "code",
   "execution_count": 2,
   "outputs": [],
   "source": [
    "full_data = pd.read_csv('./data/final_data/full_data.csv')"
   ],
   "metadata": {
    "collapsed": false
   }
  },
  {
   "cell_type": "code",
   "execution_count": 3,
   "outputs": [
    {
     "name": "stdout",
     "output_type": "stream",
     "text": [
      "(6202174, 11)\n"
     ]
    }
   ],
   "source": [
    "print(full_data.shape)"
   ],
   "metadata": {
    "collapsed": false
   }
  },
  {
   "cell_type": "code",
   "execution_count": 4,
   "outputs": [],
   "source": [
    "districts = [\"강서구\",\"구로구\",\"양천구\",\"영등포구\", \"동작구\", \"금천구\", \"관악구\", \"서초구\", \"강남구\", \"송파구\", \"강동구\", \"마포구\", \"용산구\", \"성동구\", \"광진구\", \"중구\", \"서대문구\", \"은평구\", \"종로구\", \"성북구\", \"동대문구\", \"중랑구\", \"노원구\", \"도봉구\", \"강북구\"]\n",
    "full_data = full_data[(full_data['출발지구'].isin(districts)) & (full_data['목적지구'].isin(districts))]"
   ],
   "metadata": {
    "collapsed": false
   }
  },
  {
   "cell_type": "code",
   "execution_count": 5,
   "outputs": [
    {
     "name": "stdout",
     "output_type": "stream",
     "text": [
      "432\n",
      "['명동' '반포1동' '인수동' '청림동' '월계1동' '청파동' '구로제3동' '방화제1동' '여의동' '잠실7동' '묵제2동'\n",
      " '잠실6동' '대치2동' '제기제2동' '월곡제2동' '수궁동' '월계3동' '서교동' '성수2가제1동' '회현동' '전농제2동'\n",
      " '교남동' '방학제1동' '효창동' '광희동' '남가좌제1동' '천호제2동' '구로제2동' '이태원제1동' '능동' '하계1동'\n",
      " '상봉제2동' '풍납2동' '등촌제3동' '합정동' '상계6.7동' '갈현제1동' '신당제3동' '거여1동' '방배2동'\n",
      " '양평제2동' '홍은제1동' '역촌동' '홍제제1동' '가양제2동' '이문제1동' '망우제3동' '종암동' '창제5동'\n",
      " '시흥제2동' '장지동' '신당제4동' '강일동' '화곡제6동' '개포1동' '면목제2동' '서초2동' '송중동' '신내1동'\n",
      " '중계2.3동' '면목제3.8동' '신내2동' '독산제4동' '고척제2동' '반포2동' '돈암제1동' '번제2동' '가산동'\n",
      " '성산제2동' '공항동' '암사제1동' '삼양동' '성수2가제3동' '휘경제2동' '성내제3동' '신대방제1동' '중계4동'\n",
      " '번제3동' '도화동' '가양제3동' '양재1동' '구로제5동' '잠원동' '대조동' '신길제4동' '번제1동' '구로제4동'\n",
      " '월계2동' '부암동' '증산동' '이촌제2동' '평창동' '공릉2동' '쌍문제4동' '도봉제2동' '녹번동' '공릉1.3동'\n",
      " '수유제2동' '상도제3동' '행운동' '길음제1동' '수유제1동' '명일제2동' '독산제2동' '우이동' '쌍문제3동' '은천동'\n",
      " '당산제1동' '삼선동' '정릉제4동' '상봉제1동' '창제1동' '금호2.3가동' '방학제3동' '서원동' '황학동' '송파1동'\n",
      " '중곡제4동' '삼성1동' '창제4동' '보문동' '상계3.4동' '수서동' '오류제2동' '후암동' '상일동' '신정3동'\n",
      " '마천2동' '중곡제2동' '둔촌제2동' '성현동' '독산제1동' '방화제3동' '응암제3동' '장안제4동' '신도림동'\n",
      " '신정7동' '대방동' '홍은제2동' '길동' '목2동' '중화제2동' '면목본동' '신수동' '신촌동' '신설동' '상도제1동'\n",
      " '신사제1동' '면목제7동' '월곡제1동' '삼각산동' '장위제1동' '역삼1동' '충현동' '오륜동' '송정동' '가락본동'\n",
      " '장안제1동' '성내제2동' '고덕제2동' '종로5.6가동' '문정2동' '제기제1동' '석관동' '남영동' '화곡본동' '도림동'\n",
      " '상계5동' '장안제2동' '화곡제3동' '대흥동' '장위제3동' '우장산동' '염창동' '영등포동' '송파2동' '양재2동'\n",
      " '흑석동' '한강로동' '가양제1동' '방배3동' '신길제6동' '천연동' '대림제1동' '자양제3동' '원효로제1동' '삼성동'\n",
      " '대림제3동' '내곡동' '양평제1동' '신사제2동' '왕십리도선동' '문래동' '상계2동' '구산동' '안암동' '중림동'\n",
      " '석촌동' '상도제2동' '신원동' '시흥제1동' '반포3동' '일원1동' '답십리제2동' '묵제1동' '남가좌제2동'\n",
      " '성수1가제2동' '장안제3동' '시흥제5동' '중계1동' '보라매동' '답십리제4동' '자양제1동' '중앙동' '청운효자동'\n",
      " '정릉제3동' '구의제3동' '목5동' '응암제1동' '홍제제2동' '망원제2동' '난향동' '잠실3동' '청룡동' '중계본동'\n",
      " '불광제2동' '서초1동' '반포4동' '문정1동' '용두동' '신사동' '공덕동' '마장동' '청량리동' '조원동' '신월3동'\n",
      " '신길제1동' '창제3동' '방화제2동' '진관동' '망우본동' '수유제3동' '이촌제1동' '응암제2동' '중곡제1동'\n",
      " '숭인제2동' '개포4동' '논현1동' '신당제1동' '신길제7동' '발산제1동' '개봉제2동' '신월4동' '홍제제3동'\n",
      " '노량진제2동' '도봉제1동' '천호제1동' '쌍문제1동' '개봉제3동' '화양동' '방배4동' '신정4동' '창신제3동'\n",
      " '구의제2동' '서초3동' '고척제1동' '필동' '회기동' '목1동' '망원제1동' '신림동' '성내제1동' '신월5동'\n",
      " '삼성2동' '등촌제1동' '미성동' '사근동' '시흥제4동' '도곡1동' '노량진제1동' '종로1.2.3.4가동' '미아동'\n",
      " '쌍문제2동' '사당제1동' '화곡제4동' '혜화동' '방학제2동' '가락2동' '등촌제2동' '용답동' '사당제2동' '풍납1동'\n",
      " '개봉제1동' '사직동' '중화제1동' '일원본동' '창신제1동' '상암동' '신월2동' '천호제3동' '서빙고동' '신정2동'\n",
      " '상계1동' '명륜3가동' '성수1가제1동' '행당제1동' '전농제3동' '가락1동' '화곡제1동' '성북동' '대림제2동'\n",
      " '세곡동' '고덕제1동' '마천1동' '광장동' '이화동' '상계10동' '갈현제2동' '거여2동' '화곡제8동' '송천동'\n",
      " '목3동' '방이2동' '연희동' '이문제3동' '원효로제2동' '신대방제2동' '대치1동' '시흥제3동' '북아현동' '남현동'\n",
      " '숭인제1동' '북가좌제1동' '당산제2동' '사당제5동' '신정6동' '이태원제2동' '신월7동' '암사제3동' '대학동'\n",
      " '아현동' '가리봉동' '면목제4동' '서강동' '영등포본동' '서림동' '신월1동' '방배1동' '하계2동' '신길제3동'\n",
      " '돈암제2동' '구의제1동' '청담동' '정릉제1동' '왕십리제2동' '용문동' '신당제2동' '오금동' '화곡제2동' '도곡2동'\n",
      " '역삼2동' '상도제4동' '북가좌제2동' '삼청동' '불광제1동' '독산제3동' '장위제2동' '금호1가동' '답십리제3동'\n",
      " '창신제2동' '전농제1동' '연남동' '답십리제1동' '무악동' '장충동' '길음제2동' '성산제1동' '방이1동' '정릉제2동'\n",
      " '난곡동' '일원2동' '신월6동' '신길제5동' '암사제2동' '목4동' '창제2동' '자양제2동' '사당제4동' '이문제2동'\n",
      " '중곡제3동' '잠실4동' '동선동' '응봉동' '소공동' '신당제5동' '옥수동' '삼전동' '신정1동' '용산2가동'\n",
      " '압구정동' '명일제1동' '오류제1동' '구로제1동' '잠실2동' '상계9동' '신당제6동' '서초4동' '금호4가동' '인헌동'\n",
      " '행당제2동' '낙성대동' '한남동' '보광동' '사당제3동' '상계8동' '염리동' '을지로동' '대치4동' '논현2동'\n",
      " '가회동' '자양제4동' '잠실본동' '군자동' '방배본동' '용강동' '수색동' '개포2동' '면목제5동' '휘경제1동'\n",
      " '반포본동' '둔촌제1동' '영종동']\n"
     ]
    }
   ],
   "source": [
    "print(len(full_data.출발지동.unique()))\n",
    "print(full_data.출발지동.unique())"
   ],
   "metadata": {
    "collapsed": false
   }
  },
  {
   "cell_type": "code",
   "execution_count": 6,
   "outputs": [],
   "source": [
    "# 영종동 drop\n",
    "full_data.drop(full_data[full_data.출발지동 == \"영종동\"].index, inplace=True)"
   ],
   "metadata": {
    "collapsed": false
   }
  },
  {
   "cell_type": "markdown",
   "source": [
    "### 행정동별 주민 센터 위치 및 가장 가까운 차고지와의 거리 계산"
   ],
   "metadata": {
    "collapsed": false
   }
  },
  {
   "cell_type": "code",
   "execution_count": 7,
   "outputs": [],
   "source": [
    "community_center = pd.read_excel('./data/extra_data/행정동별주민센터.xlsx', sheet_name = 'seoul_edit')\n",
    "taxi_garage = pd.read_excel('./data/extra_data/장애인콜택시차고지.xlsx')"
   ],
   "metadata": {
    "collapsed": false
   }
  },
  {
   "cell_type": "code",
   "execution_count": 8,
   "outputs": [],
   "source": [
    "# 행정동 공백 제거\n",
    "community_center.행정동 = community_center.행정동.str.strip()"
   ],
   "metadata": {
    "collapsed": false
   }
  },
  {
   "cell_type": "code",
   "execution_count": 9,
   "outputs": [],
   "source": [
    "# 가장 가까운 차고지와의 거리 계산\n",
    "def cal_min_distance(location):\n",
    "    return np.sqrt(np.min(np.sum((taxi_garage.iloc[:,5:] - location) ** 2, axis = 1)))\n",
    "\n",
    "community_center['nearest_garage_distance'] = community_center.iloc[:, 1:].apply(cal_min_distance, axis = 1)"
   ],
   "metadata": {
    "collapsed": false
   }
  },
  {
   "cell_type": "code",
   "execution_count": 10,
   "outputs": [
    {
     "data": {
      "text/plain": "     행정동   Latitude   Longitude  nearest_garage_distance\n0  청운효자동  37.584088  126.970609                 0.011351\n1    사직동  37.576172  126.968804                 0.007382\n2    삼청동  37.584949  126.981746                 0.012402\n3    부암동  37.592393  126.964026                 0.021851\n4    평창동  37.606363  126.968335                 0.033199",
      "text/html": "<div>\n<style scoped>\n    .dataframe tbody tr th:only-of-type {\n        vertical-align: middle;\n    }\n\n    .dataframe tbody tr th {\n        vertical-align: top;\n    }\n\n    .dataframe thead th {\n        text-align: right;\n    }\n</style>\n<table border=\"1\" class=\"dataframe\">\n  <thead>\n    <tr style=\"text-align: right;\">\n      <th></th>\n      <th>행정동</th>\n      <th>Latitude</th>\n      <th>Longitude</th>\n      <th>nearest_garage_distance</th>\n    </tr>\n  </thead>\n  <tbody>\n    <tr>\n      <th>0</th>\n      <td>청운효자동</td>\n      <td>37.584088</td>\n      <td>126.970609</td>\n      <td>0.011351</td>\n    </tr>\n    <tr>\n      <th>1</th>\n      <td>사직동</td>\n      <td>37.576172</td>\n      <td>126.968804</td>\n      <td>0.007382</td>\n    </tr>\n    <tr>\n      <th>2</th>\n      <td>삼청동</td>\n      <td>37.584949</td>\n      <td>126.981746</td>\n      <td>0.012402</td>\n    </tr>\n    <tr>\n      <th>3</th>\n      <td>부암동</td>\n      <td>37.592393</td>\n      <td>126.964026</td>\n      <td>0.021851</td>\n    </tr>\n    <tr>\n      <th>4</th>\n      <td>평창동</td>\n      <td>37.606363</td>\n      <td>126.968335</td>\n      <td>0.033199</td>\n    </tr>\n  </tbody>\n</table>\n</div>"
     },
     "execution_count": 10,
     "metadata": {},
     "output_type": "execute_result"
    }
   ],
   "source": [
    "community_center.head()"
   ],
   "metadata": {
    "collapsed": false
   }
  },
  {
   "cell_type": "code",
   "execution_count": 11,
   "outputs": [
    {
     "name": "stdout",
     "output_type": "stream",
     "text": [
      "set()\n",
      "{'동화동', '위례동', '청구동', '제기제3동', '약수동', '항동', '답십리제5동', '다산동'}\n"
     ]
    }
   ],
   "source": [
    "call_taxi_dongs = set(full_data.출발지동.unique())\n",
    "community_dongs = set(community_center.행정동.unique())\n",
    "print(set.difference(call_taxi_dongs, community_dongs))\n",
    "print(set.difference(community_dongs, call_taxi_dongs))"
   ],
   "metadata": {
    "collapsed": false
   }
  },
  {
   "cell_type": "code",
   "execution_count": 66,
   "outputs": [],
   "source": [
    "# join\n",
    "final_data = pd.merge(full_data, community_center, how = \"left\", left_on = \"출발지동\", right_on = \"행정동\")\n",
    "final_data.rename(columns = {\"Latitude\":\"출발동_위도\", \"Longitude\":\"출발동_경도\", \"nearest_garage_distance\":\"출발동_최근접_차고지_거리\"}, inplace = True)\n",
    "final_data.drop(columns = [\"행정동\"], inplace = True)"
   ],
   "metadata": {
    "collapsed": false
   }
  },
  {
   "cell_type": "code",
   "execution_count": 67,
   "outputs": [],
   "source": [
    "final_data = pd.merge(final_data, community_center, how = \"left\", left_on = \"목적지동\", right_on = \"행정동\")\n",
    "final_data.rename(columns = {\"Latitude\":\"목적동_위도\", \"Longitude\":\"목적동_경도\"}, inplace = True)\n",
    "final_data.drop(columns = [\"행정동\", \"nearest_garage_distance\"], inplace = True)"
   ],
   "metadata": {
    "collapsed": false
   }
  },
  {
   "cell_type": "code",
   "execution_count": 68,
   "outputs": [],
   "source": [
    "final_data['이동거리'] = np.sqrt((final_data.출발동_위도 - final_data.목적동_위도) ** 2 + (final_data.출발동_경도 - final_data.목적동_경도) ** 2)"
   ],
   "metadata": {
    "collapsed": false
   }
  },
  {
   "cell_type": "code",
   "execution_count": 69,
   "outputs": [
    {
     "name": "stdout",
     "output_type": "stream",
     "text": [
      "(5817767, 17)\n"
     ]
    },
    {
     "data": {
      "text/plain": "   dispatch_waiting_time  total_waiting_time  cancel_time using_time   \n0                  136.0               165.0          NaN         새벽  \\\n1                  140.0               162.0          NaN         새벽   \n2                  139.0               160.0          NaN         새벽   \n3                  207.0               218.0          NaN         새벽   \n4                  210.0               232.0          NaN         새벽   \n\n  using_day  year 출발지구  출발지동 목적지구   목적지동 이용목적     출발동_위도      출발동_경도   \n0        평일  2018   중구    명동  용산구   한강로동   귀가  37.560008  126.985802  \\\n1        평일  2018  서초구  반포1동  강서구  등촌제3동   귀가  37.505081  127.013377   \n2        평일  2018  강북구   인수동  노원구   하계2동   귀가  37.641473  127.010640   \n3        평일  2018  관악구   청림동  성북구    안암동   귀가  37.492266  126.958473   \n4        평일  2018  노원구  월계1동  노원구   상계5동   귀가  37.619921  127.062983   \n\n   출발동_최근접_차고지_거리     목적동_위도      목적동_경도      이동거리  \n0        0.014748  37.528107  126.969193  0.035966  \n1        0.025657  37.559270  126.848268  0.173774  \n2        0.036339  37.632001  127.067959  0.058096  \n3        0.022919  37.586123  127.021650  0.113139  \n4        0.020209  37.662734  127.069523  0.043309  ",
      "text/html": "<div>\n<style scoped>\n    .dataframe tbody tr th:only-of-type {\n        vertical-align: middle;\n    }\n\n    .dataframe tbody tr th {\n        vertical-align: top;\n    }\n\n    .dataframe thead th {\n        text-align: right;\n    }\n</style>\n<table border=\"1\" class=\"dataframe\">\n  <thead>\n    <tr style=\"text-align: right;\">\n      <th></th>\n      <th>dispatch_waiting_time</th>\n      <th>total_waiting_time</th>\n      <th>cancel_time</th>\n      <th>using_time</th>\n      <th>using_day</th>\n      <th>year</th>\n      <th>출발지구</th>\n      <th>출발지동</th>\n      <th>목적지구</th>\n      <th>목적지동</th>\n      <th>이용목적</th>\n      <th>출발동_위도</th>\n      <th>출발동_경도</th>\n      <th>출발동_최근접_차고지_거리</th>\n      <th>목적동_위도</th>\n      <th>목적동_경도</th>\n      <th>이동거리</th>\n    </tr>\n  </thead>\n  <tbody>\n    <tr>\n      <th>0</th>\n      <td>136.0</td>\n      <td>165.0</td>\n      <td>NaN</td>\n      <td>새벽</td>\n      <td>평일</td>\n      <td>2018</td>\n      <td>중구</td>\n      <td>명동</td>\n      <td>용산구</td>\n      <td>한강로동</td>\n      <td>귀가</td>\n      <td>37.560008</td>\n      <td>126.985802</td>\n      <td>0.014748</td>\n      <td>37.528107</td>\n      <td>126.969193</td>\n      <td>0.035966</td>\n    </tr>\n    <tr>\n      <th>1</th>\n      <td>140.0</td>\n      <td>162.0</td>\n      <td>NaN</td>\n      <td>새벽</td>\n      <td>평일</td>\n      <td>2018</td>\n      <td>서초구</td>\n      <td>반포1동</td>\n      <td>강서구</td>\n      <td>등촌제3동</td>\n      <td>귀가</td>\n      <td>37.505081</td>\n      <td>127.013377</td>\n      <td>0.025657</td>\n      <td>37.559270</td>\n      <td>126.848268</td>\n      <td>0.173774</td>\n    </tr>\n    <tr>\n      <th>2</th>\n      <td>139.0</td>\n      <td>160.0</td>\n      <td>NaN</td>\n      <td>새벽</td>\n      <td>평일</td>\n      <td>2018</td>\n      <td>강북구</td>\n      <td>인수동</td>\n      <td>노원구</td>\n      <td>하계2동</td>\n      <td>귀가</td>\n      <td>37.641473</td>\n      <td>127.010640</td>\n      <td>0.036339</td>\n      <td>37.632001</td>\n      <td>127.067959</td>\n      <td>0.058096</td>\n    </tr>\n    <tr>\n      <th>3</th>\n      <td>207.0</td>\n      <td>218.0</td>\n      <td>NaN</td>\n      <td>새벽</td>\n      <td>평일</td>\n      <td>2018</td>\n      <td>관악구</td>\n      <td>청림동</td>\n      <td>성북구</td>\n      <td>안암동</td>\n      <td>귀가</td>\n      <td>37.492266</td>\n      <td>126.958473</td>\n      <td>0.022919</td>\n      <td>37.586123</td>\n      <td>127.021650</td>\n      <td>0.113139</td>\n    </tr>\n    <tr>\n      <th>4</th>\n      <td>210.0</td>\n      <td>232.0</td>\n      <td>NaN</td>\n      <td>새벽</td>\n      <td>평일</td>\n      <td>2018</td>\n      <td>노원구</td>\n      <td>월계1동</td>\n      <td>노원구</td>\n      <td>상계5동</td>\n      <td>귀가</td>\n      <td>37.619921</td>\n      <td>127.062983</td>\n      <td>0.020209</td>\n      <td>37.662734</td>\n      <td>127.069523</td>\n      <td>0.043309</td>\n    </tr>\n  </tbody>\n</table>\n</div>"
     },
     "execution_count": 69,
     "metadata": {},
     "output_type": "execute_result"
    }
   ],
   "source": [
    "print(final_data.shape)\n",
    "final_data.head()"
   ],
   "metadata": {
    "collapsed": false
   }
  },
  {
   "cell_type": "markdown",
   "source": [
    "### 서울시 행정동별 연도별 보건업 및 사회복지 서비스 종사자 수"
   ],
   "metadata": {
    "collapsed": false
   }
  },
  {
   "cell_type": "code",
   "execution_count": 44,
   "outputs": [],
   "source": [
    "seoul_companies = pd.read_csv('./data/extra_data/서울시_사업체현황.csv')"
   ],
   "metadata": {
    "collapsed": false
   }
  },
  {
   "cell_type": "code",
   "execution_count": 45,
   "outputs": [],
   "source": [
    "# 필요없는 열 삭제\n",
    "seoul_companies.drop(['산업대분류별(1)', '동별(1)', '구분별(2)'], axis=1, inplace=True)\n",
    "\n",
    "# 열 이름 변경\n",
    "seoul_companies.columns = ['시점', '산업대', '구별', '동별', '구분별', '수']\n",
    "\n",
    "# 구별 동별 칼럼 소계 없애기\n",
    "seoul_companies.drop(seoul_companies[seoul_companies.구별.str.contains('소계')].index, inplace=True)\n",
    "seoul_companies.drop(seoul_companies[seoul_companies.동별.str.contains('소계')].index, inplace=True)\n",
    "\n",
    "# 사업체 수 삭제\n",
    "seoul_companies.drop(seoul_companies[seoul_companies.구분별.str.contains('사업체수')].index, inplace=True)"
   ],
   "metadata": {
    "collapsed": false
   }
  },
  {
   "cell_type": "code",
   "execution_count": 47,
   "outputs": [
    {
     "name": "stdout",
     "output_type": "stream",
     "text": [
      "set()\n",
      "{'당산2동', '응암2동', '성산2동', '대림1동', '쌍문2동', '중화2동', '구로4동', '답십리2동', '신길6동', '고척1동', '창2동', '구로5동', '중곡2동', '월곡1동', '제기동', '면목3.8동', '수유3동', '성내3동', '사당4동', '구의2동', '둔촌1동', '묵1동', '등촌1동', '성수1가1동', '신길7동', '천호2동', '도봉2동', '장위2동', '구로3동', '약수동', '갈현1동', '장안1동', '신대방2동', '등촌2동', '왕십리2동', '상봉2동', '중화1동', '대림3동', '둔촌2동', '노량진2동', '답십리1동', '천호3동', '돈암2동', '다산동', '등촌3동', '성내1동', '신길3동', '행당1동', '구의3동', '정릉2동', '남가좌1동', '창4동', '자양4동', '암사3동', '방화2동', '구의1동', '이태원1동', '휘경2동', '상일1동', '장안2동', '오류1동', '성산1동', '자양2동', '창신2동', '오류2동', '불광2동', '수유2동', '가양1동', '화곡6동', '창3동', '원효로2동', '창신1동', '양평1동', '홍은1동', '용신동', '신길4동', '신길5동', '상일2동', '숭인1동', '성수2가1동', '전농1동', '이촌1동', '도봉1동', '방화1동', '성내2동', '숭인2동', '정릉4동', '사당3동', '개봉1동', '홍제3동', '화곡3동', '남가좌2동', '면목4동', '암사2동', '독산1동', '상도4동', '사당2동', '창신3동', '면목7동', '사당5동', '화곡1동', '전농2동', '가양2동', '동화동', '길음1동', '대림2동', '성수2가3동', '상도3동', '항동', '면목2동', '이촌2동', '고덕2동', '상도1동', '시흥3동', '위례동', '창5동', '시흥1동', '월곡2동', '당산1동', '화곡8동', '중곡3동', '방화3동', '장위1동', '창1동', '중곡4동', '방학3동', '휘경1동', '시흥5동', '화곡2동', '이태원2동', '시흥2동', '양평2동', '쌍문4동', '묵2동', '응암1동', '암사1동', '번1동', '천호1동', '개봉2동', '번3동', '갈현2동', '고덕1동', '청구동', '행당2동', '원효로1동', '정릉3동', '시흥4동', '명일2동', '독산3동', '정릉1동', '수유1동', '번2동', '홍은2동', '개봉3동', '신당동', '돈암1동', '신사1동', '독산4동', '중곡1동', '명일1동', '이문2동', '구로2동', '응암3동', '신당5동', '망우3동', '공릉1동', '신사2동', '쌍문3동', '고척2동', '방학1동', '상봉1동', '신대방1동', '신길1동', '불광1동', '길음2동', '쌍문1동', '사당1동', '가양3동', '발산1동', '독산2동', '장위3동', '면목5동', '노량진1동', '성수1가2동', '북가좌2동', '자양3동', '홍제1동', '방학2동', '구로1동', '자양1동', '망원2동', '화곡4동', '북가좌1동', '상도2동', '홍제2동', '망원1동', '이문1동'}\n"
     ]
    }
   ],
   "source": [
    "call_taxi_dongs = set(full_data.출발지동.unique())\n",
    "companies_dongs = set(seoul_companies.동별.unique())\n",
    "print(set.difference(call_taxi_dongs, community_dongs))\n",
    "print(set.difference(companies_dongs, call_taxi_dongs))"
   ],
   "metadata": {
    "collapsed": false
   }
  },
  {
   "cell_type": "code",
   "execution_count": 49,
   "outputs": [],
   "source": [
    "seoul_companies.drop_duplicates(subset=['시점', '동별'], keep='first', inplace=True, ignore_index=True)"
   ],
   "metadata": {
    "collapsed": false
   }
  },
  {
   "cell_type": "code",
   "execution_count": 70,
   "outputs": [],
   "source": [
    "# join\n",
    "final_data = pd.merge(final_data, seoul_companies[['동별', '수', '시점']], how = \"left\", left_on = [\"출발지동\", \"year\"], right_on = [\"동별\",\"시점\"])\n",
    "final_data.rename(columns = {\"수\":\"보건업 및 사회복지 서비스업 종사자 수\"}, inplace = True)\n",
    "final_data = final_data.drop(columns = ['동별', '시점'])"
   ],
   "metadata": {
    "collapsed": false
   }
  },
  {
   "cell_type": "code",
   "execution_count": 71,
   "outputs": [
    {
     "name": "stdout",
     "output_type": "stream",
     "text": [
      "(5817767, 18)\n"
     ]
    },
    {
     "data": {
      "text/plain": "   dispatch_waiting_time  total_waiting_time  cancel_time using_time   \n0                  136.0               165.0          NaN         새벽  \\\n1                  140.0               162.0          NaN         새벽   \n2                  139.0               160.0          NaN         새벽   \n3                  207.0               218.0          NaN         새벽   \n4                  210.0               232.0          NaN         새벽   \n\n  using_day  year 출발지구  출발지동 목적지구   목적지동 이용목적     출발동_위도      출발동_경도   \n0        평일  2018   중구    명동  용산구   한강로동   귀가  37.560008  126.985802  \\\n1        평일  2018  서초구  반포1동  강서구  등촌제3동   귀가  37.505081  127.013377   \n2        평일  2018  강북구   인수동  노원구   하계2동   귀가  37.641473  127.010640   \n3        평일  2018  관악구   청림동  성북구    안암동   귀가  37.492266  126.958473   \n4        평일  2018  노원구  월계1동  노원구   상계5동   귀가  37.619921  127.062983   \n\n   출발동_최근접_차고지_거리     목적동_위도      목적동_경도      이동거리 보건업 및 사회복지 서비스업 종사자 수  \n0        0.014748  37.528107  126.969193  0.035966                  2156  \n1        0.025657  37.559270  126.848268  0.173774                   772  \n2        0.036339  37.632001  127.067959  0.058096                  1461  \n3        0.022919  37.586123  127.021650  0.113139                   324  \n4        0.020209  37.662734  127.069523  0.043309                   759  ",
      "text/html": "<div>\n<style scoped>\n    .dataframe tbody tr th:only-of-type {\n        vertical-align: middle;\n    }\n\n    .dataframe tbody tr th {\n        vertical-align: top;\n    }\n\n    .dataframe thead th {\n        text-align: right;\n    }\n</style>\n<table border=\"1\" class=\"dataframe\">\n  <thead>\n    <tr style=\"text-align: right;\">\n      <th></th>\n      <th>dispatch_waiting_time</th>\n      <th>total_waiting_time</th>\n      <th>cancel_time</th>\n      <th>using_time</th>\n      <th>using_day</th>\n      <th>year</th>\n      <th>출발지구</th>\n      <th>출발지동</th>\n      <th>목적지구</th>\n      <th>목적지동</th>\n      <th>이용목적</th>\n      <th>출발동_위도</th>\n      <th>출발동_경도</th>\n      <th>출발동_최근접_차고지_거리</th>\n      <th>목적동_위도</th>\n      <th>목적동_경도</th>\n      <th>이동거리</th>\n      <th>보건업 및 사회복지 서비스업 종사자 수</th>\n    </tr>\n  </thead>\n  <tbody>\n    <tr>\n      <th>0</th>\n      <td>136.0</td>\n      <td>165.0</td>\n      <td>NaN</td>\n      <td>새벽</td>\n      <td>평일</td>\n      <td>2018</td>\n      <td>중구</td>\n      <td>명동</td>\n      <td>용산구</td>\n      <td>한강로동</td>\n      <td>귀가</td>\n      <td>37.560008</td>\n      <td>126.985802</td>\n      <td>0.014748</td>\n      <td>37.528107</td>\n      <td>126.969193</td>\n      <td>0.035966</td>\n      <td>2156</td>\n    </tr>\n    <tr>\n      <th>1</th>\n      <td>140.0</td>\n      <td>162.0</td>\n      <td>NaN</td>\n      <td>새벽</td>\n      <td>평일</td>\n      <td>2018</td>\n      <td>서초구</td>\n      <td>반포1동</td>\n      <td>강서구</td>\n      <td>등촌제3동</td>\n      <td>귀가</td>\n      <td>37.505081</td>\n      <td>127.013377</td>\n      <td>0.025657</td>\n      <td>37.559270</td>\n      <td>126.848268</td>\n      <td>0.173774</td>\n      <td>772</td>\n    </tr>\n    <tr>\n      <th>2</th>\n      <td>139.0</td>\n      <td>160.0</td>\n      <td>NaN</td>\n      <td>새벽</td>\n      <td>평일</td>\n      <td>2018</td>\n      <td>강북구</td>\n      <td>인수동</td>\n      <td>노원구</td>\n      <td>하계2동</td>\n      <td>귀가</td>\n      <td>37.641473</td>\n      <td>127.010640</td>\n      <td>0.036339</td>\n      <td>37.632001</td>\n      <td>127.067959</td>\n      <td>0.058096</td>\n      <td>1461</td>\n    </tr>\n    <tr>\n      <th>3</th>\n      <td>207.0</td>\n      <td>218.0</td>\n      <td>NaN</td>\n      <td>새벽</td>\n      <td>평일</td>\n      <td>2018</td>\n      <td>관악구</td>\n      <td>청림동</td>\n      <td>성북구</td>\n      <td>안암동</td>\n      <td>귀가</td>\n      <td>37.492266</td>\n      <td>126.958473</td>\n      <td>0.022919</td>\n      <td>37.586123</td>\n      <td>127.021650</td>\n      <td>0.113139</td>\n      <td>324</td>\n    </tr>\n    <tr>\n      <th>4</th>\n      <td>210.0</td>\n      <td>232.0</td>\n      <td>NaN</td>\n      <td>새벽</td>\n      <td>평일</td>\n      <td>2018</td>\n      <td>노원구</td>\n      <td>월계1동</td>\n      <td>노원구</td>\n      <td>상계5동</td>\n      <td>귀가</td>\n      <td>37.619921</td>\n      <td>127.062983</td>\n      <td>0.020209</td>\n      <td>37.662734</td>\n      <td>127.069523</td>\n      <td>0.043309</td>\n      <td>759</td>\n    </tr>\n  </tbody>\n</table>\n</div>"
     },
     "execution_count": 71,
     "metadata": {},
     "output_type": "execute_result"
    }
   ],
   "source": [
    "print(final_data.shape)\n",
    "final_data.head()"
   ],
   "metadata": {
    "collapsed": false
   }
  },
  {
   "cell_type": "markdown",
   "source": [
    "### 서울시 행정동별 장애인 시설 수"
   ],
   "metadata": {
    "collapsed": false
   }
  },
  {
   "cell_type": "code",
   "execution_count": 52,
   "outputs": [],
   "source": [
    "disabled_center = pd.read_csv('./data/extra_data/서울시_장애인시설.csv', encoding='cp949')"
   ],
   "metadata": {
    "collapsed": false
   }
  },
  {
   "cell_type": "code",
   "execution_count": 53,
   "outputs": [],
   "source": [
    "# 필요없는 열 삭제\n",
    "disabled_center.drop(['시설명', '시설코드', '자치구(시)구분', '시설장명', '시군구코드', '시설주소', '전화번호','우편번호' ], axis=1, inplace=True)\n",
    "\n",
    "# 열 이름 변경\n",
    "disabled_center.columns = ['시설종류명', '시설종류상세명', '구별', '시설정원','현인원']\n",
    "\n",
    "# 서울특별시 삭제\n",
    "disabled_center.drop(disabled_center[disabled_center['구별'].str.contains('서울특별시')].index, inplace=True)"
   ],
   "metadata": {
    "collapsed": false
   }
  },
  {
   "cell_type": "code",
   "execution_count": 54,
   "outputs": [
    {
     "data": {
      "text/plain": "      구별  구별_장애인_시설_수\n0    강남구           55\n1    강동구           50\n2    강북구           30\n3    강서구           58\n4    관악구           24\n5    광진구           14\n6    구로구           25\n7    금천구           22\n8    노원구           58\n9    도봉구           23\n10  동대문구            9\n11   동작구           20\n12   마포구           24\n13  서대문구           19\n14   서초구           30\n15   성동구           13\n16   성북구            9\n17   송파구           50\n18   양천구           23\n19  영등포구           22\n20   용산구           11\n21   은평구           36\n22   종로구           13\n23    중구           11\n24   중랑구           13",
      "text/html": "<div>\n<style scoped>\n    .dataframe tbody tr th:only-of-type {\n        vertical-align: middle;\n    }\n\n    .dataframe tbody tr th {\n        vertical-align: top;\n    }\n\n    .dataframe thead th {\n        text-align: right;\n    }\n</style>\n<table border=\"1\" class=\"dataframe\">\n  <thead>\n    <tr style=\"text-align: right;\">\n      <th></th>\n      <th>구별</th>\n      <th>구별_장애인_시설_수</th>\n    </tr>\n  </thead>\n  <tbody>\n    <tr>\n      <th>0</th>\n      <td>강남구</td>\n      <td>55</td>\n    </tr>\n    <tr>\n      <th>1</th>\n      <td>강동구</td>\n      <td>50</td>\n    </tr>\n    <tr>\n      <th>2</th>\n      <td>강북구</td>\n      <td>30</td>\n    </tr>\n    <tr>\n      <th>3</th>\n      <td>강서구</td>\n      <td>58</td>\n    </tr>\n    <tr>\n      <th>4</th>\n      <td>관악구</td>\n      <td>24</td>\n    </tr>\n    <tr>\n      <th>5</th>\n      <td>광진구</td>\n      <td>14</td>\n    </tr>\n    <tr>\n      <th>6</th>\n      <td>구로구</td>\n      <td>25</td>\n    </tr>\n    <tr>\n      <th>7</th>\n      <td>금천구</td>\n      <td>22</td>\n    </tr>\n    <tr>\n      <th>8</th>\n      <td>노원구</td>\n      <td>58</td>\n    </tr>\n    <tr>\n      <th>9</th>\n      <td>도봉구</td>\n      <td>23</td>\n    </tr>\n    <tr>\n      <th>10</th>\n      <td>동대문구</td>\n      <td>9</td>\n    </tr>\n    <tr>\n      <th>11</th>\n      <td>동작구</td>\n      <td>20</td>\n    </tr>\n    <tr>\n      <th>12</th>\n      <td>마포구</td>\n      <td>24</td>\n    </tr>\n    <tr>\n      <th>13</th>\n      <td>서대문구</td>\n      <td>19</td>\n    </tr>\n    <tr>\n      <th>14</th>\n      <td>서초구</td>\n      <td>30</td>\n    </tr>\n    <tr>\n      <th>15</th>\n      <td>성동구</td>\n      <td>13</td>\n    </tr>\n    <tr>\n      <th>16</th>\n      <td>성북구</td>\n      <td>9</td>\n    </tr>\n    <tr>\n      <th>17</th>\n      <td>송파구</td>\n      <td>50</td>\n    </tr>\n    <tr>\n      <th>18</th>\n      <td>양천구</td>\n      <td>23</td>\n    </tr>\n    <tr>\n      <th>19</th>\n      <td>영등포구</td>\n      <td>22</td>\n    </tr>\n    <tr>\n      <th>20</th>\n      <td>용산구</td>\n      <td>11</td>\n    </tr>\n    <tr>\n      <th>21</th>\n      <td>은평구</td>\n      <td>36</td>\n    </tr>\n    <tr>\n      <th>22</th>\n      <td>종로구</td>\n      <td>13</td>\n    </tr>\n    <tr>\n      <th>23</th>\n      <td>중구</td>\n      <td>11</td>\n    </tr>\n    <tr>\n      <th>24</th>\n      <td>중랑구</td>\n      <td>13</td>\n    </tr>\n  </tbody>\n</table>\n</div>"
     },
     "execution_count": 54,
     "metadata": {},
     "output_type": "execute_result"
    }
   ],
   "source": [
    "# 구별 갯수 세기\n",
    "grouped_dis_center = disabled_center['구별'].groupby(disabled_center['구별'])\n",
    "grouped_dis_center = pd.DataFrame(grouped_dis_center.count())\n",
    "grouped_dis_center.columns = ['구별_장애인_시설_수']\n",
    "grouped_dis_center = grouped_dis_center.reset_index()\n",
    "grouped_dis_center"
   ],
   "metadata": {
    "collapsed": false
   }
  },
  {
   "cell_type": "code",
   "execution_count": 55,
   "outputs": [
    {
     "name": "stdout",
     "output_type": "stream",
     "text": [
      "set()\n",
      "set()\n"
     ]
    }
   ],
   "source": [
    "call_taxi_gus = set(full_data.출발지구.unique())\n",
    "community_gus = set(grouped_dis_center.구별.unique())\n",
    "print(set.difference(call_taxi_gus, community_gus))\n",
    "print(set.difference(community_gus, call_taxi_gus))"
   ],
   "metadata": {
    "collapsed": false
   }
  },
  {
   "cell_type": "code",
   "execution_count": 72,
   "outputs": [],
   "source": [
    "# join\n",
    "final_data = pd.merge(final_data, grouped_dis_center, how = \"left\", left_on = \"출발지구\", right_on = \"구별\")\n",
    "final_data = final_data.drop(columns = ['구별'])"
   ],
   "metadata": {
    "collapsed": false
   }
  },
  {
   "cell_type": "code",
   "execution_count": 73,
   "outputs": [
    {
     "name": "stdout",
     "output_type": "stream",
     "text": [
      "(5817767, 19)\n"
     ]
    },
    {
     "data": {
      "text/plain": "   dispatch_waiting_time  total_waiting_time  cancel_time using_time   \n0                  136.0               165.0          NaN         새벽  \\\n1                  140.0               162.0          NaN         새벽   \n2                  139.0               160.0          NaN         새벽   \n3                  207.0               218.0          NaN         새벽   \n4                  210.0               232.0          NaN         새벽   \n\n  using_day  year 출발지구  출발지동 목적지구   목적지동 이용목적     출발동_위도      출발동_경도   \n0        평일  2018   중구    명동  용산구   한강로동   귀가  37.560008  126.985802  \\\n1        평일  2018  서초구  반포1동  강서구  등촌제3동   귀가  37.505081  127.013377   \n2        평일  2018  강북구   인수동  노원구   하계2동   귀가  37.641473  127.010640   \n3        평일  2018  관악구   청림동  성북구    안암동   귀가  37.492266  126.958473   \n4        평일  2018  노원구  월계1동  노원구   상계5동   귀가  37.619921  127.062983   \n\n   출발동_최근접_차고지_거리     목적동_위도      목적동_경도      이동거리 보건업 및 사회복지 서비스업 종사자 수   \n0        0.014748  37.528107  126.969193  0.035966                  2156  \\\n1        0.025657  37.559270  126.848268  0.173774                   772   \n2        0.036339  37.632001  127.067959  0.058096                  1461   \n3        0.022919  37.586123  127.021650  0.113139                   324   \n4        0.020209  37.662734  127.069523  0.043309                   759   \n\n   구별_장애인_시설_수  \n0           11  \n1           30  \n2           30  \n3           24  \n4           58  ",
      "text/html": "<div>\n<style scoped>\n    .dataframe tbody tr th:only-of-type {\n        vertical-align: middle;\n    }\n\n    .dataframe tbody tr th {\n        vertical-align: top;\n    }\n\n    .dataframe thead th {\n        text-align: right;\n    }\n</style>\n<table border=\"1\" class=\"dataframe\">\n  <thead>\n    <tr style=\"text-align: right;\">\n      <th></th>\n      <th>dispatch_waiting_time</th>\n      <th>total_waiting_time</th>\n      <th>cancel_time</th>\n      <th>using_time</th>\n      <th>using_day</th>\n      <th>year</th>\n      <th>출발지구</th>\n      <th>출발지동</th>\n      <th>목적지구</th>\n      <th>목적지동</th>\n      <th>이용목적</th>\n      <th>출발동_위도</th>\n      <th>출발동_경도</th>\n      <th>출발동_최근접_차고지_거리</th>\n      <th>목적동_위도</th>\n      <th>목적동_경도</th>\n      <th>이동거리</th>\n      <th>보건업 및 사회복지 서비스업 종사자 수</th>\n      <th>구별_장애인_시설_수</th>\n    </tr>\n  </thead>\n  <tbody>\n    <tr>\n      <th>0</th>\n      <td>136.0</td>\n      <td>165.0</td>\n      <td>NaN</td>\n      <td>새벽</td>\n      <td>평일</td>\n      <td>2018</td>\n      <td>중구</td>\n      <td>명동</td>\n      <td>용산구</td>\n      <td>한강로동</td>\n      <td>귀가</td>\n      <td>37.560008</td>\n      <td>126.985802</td>\n      <td>0.014748</td>\n      <td>37.528107</td>\n      <td>126.969193</td>\n      <td>0.035966</td>\n      <td>2156</td>\n      <td>11</td>\n    </tr>\n    <tr>\n      <th>1</th>\n      <td>140.0</td>\n      <td>162.0</td>\n      <td>NaN</td>\n      <td>새벽</td>\n      <td>평일</td>\n      <td>2018</td>\n      <td>서초구</td>\n      <td>반포1동</td>\n      <td>강서구</td>\n      <td>등촌제3동</td>\n      <td>귀가</td>\n      <td>37.505081</td>\n      <td>127.013377</td>\n      <td>0.025657</td>\n      <td>37.559270</td>\n      <td>126.848268</td>\n      <td>0.173774</td>\n      <td>772</td>\n      <td>30</td>\n    </tr>\n    <tr>\n      <th>2</th>\n      <td>139.0</td>\n      <td>160.0</td>\n      <td>NaN</td>\n      <td>새벽</td>\n      <td>평일</td>\n      <td>2018</td>\n      <td>강북구</td>\n      <td>인수동</td>\n      <td>노원구</td>\n      <td>하계2동</td>\n      <td>귀가</td>\n      <td>37.641473</td>\n      <td>127.010640</td>\n      <td>0.036339</td>\n      <td>37.632001</td>\n      <td>127.067959</td>\n      <td>0.058096</td>\n      <td>1461</td>\n      <td>30</td>\n    </tr>\n    <tr>\n      <th>3</th>\n      <td>207.0</td>\n      <td>218.0</td>\n      <td>NaN</td>\n      <td>새벽</td>\n      <td>평일</td>\n      <td>2018</td>\n      <td>관악구</td>\n      <td>청림동</td>\n      <td>성북구</td>\n      <td>안암동</td>\n      <td>귀가</td>\n      <td>37.492266</td>\n      <td>126.958473</td>\n      <td>0.022919</td>\n      <td>37.586123</td>\n      <td>127.021650</td>\n      <td>0.113139</td>\n      <td>324</td>\n      <td>24</td>\n    </tr>\n    <tr>\n      <th>4</th>\n      <td>210.0</td>\n      <td>232.0</td>\n      <td>NaN</td>\n      <td>새벽</td>\n      <td>평일</td>\n      <td>2018</td>\n      <td>노원구</td>\n      <td>월계1동</td>\n      <td>노원구</td>\n      <td>상계5동</td>\n      <td>귀가</td>\n      <td>37.619921</td>\n      <td>127.062983</td>\n      <td>0.020209</td>\n      <td>37.662734</td>\n      <td>127.069523</td>\n      <td>0.043309</td>\n      <td>759</td>\n      <td>58</td>\n    </tr>\n  </tbody>\n</table>\n</div>"
     },
     "execution_count": 73,
     "metadata": {},
     "output_type": "execute_result"
    }
   ],
   "source": [
    "print(final_data.shape)\n",
    "final_data.head()"
   ],
   "metadata": {
    "collapsed": false
   }
  },
  {
   "cell_type": "markdown",
   "source": [
    "### 행정동별 연도별 장애인 수"
   ],
   "metadata": {
    "collapsed": false
   }
  },
  {
   "cell_type": "code",
   "execution_count": 74,
   "outputs": [],
   "source": [
    "seoul_disabled = pd.read_csv('./data/extra_data/서울시_장애인구.csv')"
   ],
   "metadata": {
    "collapsed": false
   }
  },
  {
   "cell_type": "code",
   "execution_count": 75,
   "outputs": [],
   "source": [
    "# '-' -> NaN 바꾸기\n",
    "seoul_disabled.장애인구수 = seoul_disabled.장애인구수.str.replace('-','')\n",
    "\n",
    "# 장애인구 수 형 변환\n",
    "seoul_disabled.장애인구수 = pd.to_numeric(seoul_disabled.장애인구수)\n",
    "\n",
    "# '구'로 구분된 데이터 삭제\n",
    "seoul_disabled.drop(seoul_disabled[seoul_disabled['동별'].str.contains('구')].index, inplace=True)\n",
    "\n",
    "# 기타로 분류된 데이터 삭제\n",
    "seoul_disabled.drop(seoul_disabled[seoul_disabled['동별'].str.contains('기타')].index, inplace=True)\n",
    "\n",
    "# 시점 열에서 '년' 없애기\n",
    "seoul_disabled.시점 = seoul_disabled.시점.str.replace(' 년', '')"
   ],
   "metadata": {
    "collapsed": false
   }
  },
  {
   "cell_type": "code",
   "execution_count": 76,
   "outputs": [
    {
     "data": {
      "text/plain": "     동별 장애유형별    시점  장애인구수\n80  사직동    합계  2018  309.0\n81  사직동    합계  2019  295.0\n82  사직동    합계  2020  284.0\n83  사직동    합계  2021  277.0\n84  사직동    합계  2022  267.0",
      "text/html": "<div>\n<style scoped>\n    .dataframe tbody tr th:only-of-type {\n        vertical-align: middle;\n    }\n\n    .dataframe tbody tr th {\n        vertical-align: top;\n    }\n\n    .dataframe thead th {\n        text-align: right;\n    }\n</style>\n<table border=\"1\" class=\"dataframe\">\n  <thead>\n    <tr style=\"text-align: right;\">\n      <th></th>\n      <th>동별</th>\n      <th>장애유형별</th>\n      <th>시점</th>\n      <th>장애인구수</th>\n    </tr>\n  </thead>\n  <tbody>\n    <tr>\n      <th>80</th>\n      <td>사직동</td>\n      <td>합계</td>\n      <td>2018</td>\n      <td>309.0</td>\n    </tr>\n    <tr>\n      <th>81</th>\n      <td>사직동</td>\n      <td>합계</td>\n      <td>2019</td>\n      <td>295.0</td>\n    </tr>\n    <tr>\n      <th>82</th>\n      <td>사직동</td>\n      <td>합계</td>\n      <td>2020</td>\n      <td>284.0</td>\n    </tr>\n    <tr>\n      <th>83</th>\n      <td>사직동</td>\n      <td>합계</td>\n      <td>2021</td>\n      <td>277.0</td>\n    </tr>\n    <tr>\n      <th>84</th>\n      <td>사직동</td>\n      <td>합계</td>\n      <td>2022</td>\n      <td>267.0</td>\n    </tr>\n  </tbody>\n</table>\n</div>"
     },
     "execution_count": 76,
     "metadata": {},
     "output_type": "execute_result"
    }
   ],
   "source": [
    "seoul_disabled.head()"
   ],
   "metadata": {
    "collapsed": false
   }
  },
  {
   "cell_type": "code",
   "execution_count": 77,
   "outputs": [],
   "source": [
    "seoul_disabled.시점 = pd.to_numeric(seoul_disabled.시점)"
   ],
   "metadata": {
    "collapsed": false
   }
  },
  {
   "cell_type": "code",
   "execution_count": 78,
   "outputs": [
    {
     "name": "stdout",
     "output_type": "stream",
     "text": [
      "set()\n",
      "{'당산2동', '응암2동', '성산2동', '대림1동', '쌍문2동', '중화2동', '답십리2동', '신길6동', '고척1동', '창2동', '중곡2동', '월곡1동', '제기동', '면목3.8동', '수유3동', '성내3동', '사당4동', '둔촌1동', '묵1동', '등촌1동', '성수1가1동', '신길7동', '천호2동', '도봉2동', '장위2동', '약수동', '갈현1동', '장안1동', '신대방2동', '등촌2동', '왕십리2동', '상봉2동', '중화1동', '대림3동', '노량진2동', '답십리1동', '천호3동', '돈암2동', '다산동', '등촌3동', '성내1동', '신길3동', '행당1동', '정릉2동', '남가좌1동', '창4동', '자양4동', '암사3동', '방화2동', '이태원1동', '휘경2동', '상일1동', '장안2동', '오류1동', '성산1동', '자양2동', '창신2동', '오류2동', '불광2동', '수유2동', '가양1동', '화곡6동', '창3동', '원효로2동', '창신1동', '양평1동', '홍은1동', '용신동', '신길4동', '신길5동', '상일2동', '숭인1동', '성수2가1동', '전농1동', '이촌1동', '도봉1동', '방화1동', '성내2동', '숭인2동', '정릉4동', '사당3동', '개봉1동', '홍제3동', '화곡3동', '남가좌2동', '면목4동', '암사2동', '독산1동', '상도4동', '사당2동', '창신3동', '면목7동', '사당5동', '화곡1동', '전농2동', '가양2동', '동화동', '길음1동', '대림2동', '성수2가3동', '상도3동', '항동', '면목2동', '이촌2동', '고덕2동', '상도1동', '시흥3동', '위례동', '창5동', '시흥1동', '월곡2동', '당산1동', '화곡8동', '중곡3동', '방화3동', '장위1동', '창1동', '중곡4동', '방학3동', '휘경1동', '시흥5동', '화곡2동', '이태원2동', '시흥2동', '양평2동', '쌍문4동', '묵2동', '응암1동', '암사1동', '번1동', '천호1동', '개봉2동', '번3동', '갈현2동', '고덕1동', '행당2동', '원효로1동', '개포3동', '정릉3동', '시흥4동', '명일2동', '독산3동', '정릉1동', '수유1동', '번2동', '홍은2동', '개봉3동', '신당동', '돈암1동', '신사1동', '독산4동', '중곡1동', '명일1동', '이문2동', '응암3동', '신당5동', '망우3동', '공릉1동', '신사2동', '쌍문3동', '고척2동', '방학1동', '상봉1동', '신대방1동', '신길1동', '불광1동', '길음2동', '쌍문1동', '사당1동', '가양3동', '발산1동', '독산2동', '장위3동', '면목5동', '노량진1동', '성수1가2동', '북가좌2동', '자양3동', '홍제1동', '방학2동', '자양1동', '북가좌1동', '망원2동', '화곡4동', '둔촌2동', '상도2동', '홍제2동', '망원1동', '이문1동'}\n"
     ]
    }
   ],
   "source": [
    "call_taxi_dongs = set(full_data.출발지동.unique())\n",
    "disabled_dongs = set(seoul_disabled.동별.unique())\n",
    "print(set.difference(call_taxi_dongs, community_dongs))\n",
    "print(set.difference(disabled_dongs, call_taxi_dongs))"
   ],
   "metadata": {
    "collapsed": false
   }
  },
  {
   "cell_type": "code",
   "execution_count": 79,
   "outputs": [],
   "source": [
    "seoul_disabled.drop_duplicates(subset=['시점', '동별'], keep='first', inplace=True, ignore_index=True)"
   ],
   "metadata": {
    "collapsed": false
   }
  },
  {
   "cell_type": "code",
   "execution_count": 80,
   "outputs": [],
   "source": [
    "# join\n",
    "final_data = pd.merge(final_data, seoul_disabled[['동별', '장애인구수', '시점']], how = \"left\", left_on = [\"출발지동\", \"year\"], right_on = [\"동별\",\"시점\"])\n",
    "final_data = final_data.drop(columns = ['동별', '시점'])"
   ],
   "metadata": {
    "collapsed": false
   }
  },
  {
   "cell_type": "code",
   "execution_count": 81,
   "outputs": [
    {
     "name": "stdout",
     "output_type": "stream",
     "text": [
      "(5817767, 20)\n"
     ]
    },
    {
     "data": {
      "text/plain": "   dispatch_waiting_time  total_waiting_time  cancel_time using_time   \n0                  136.0               165.0          NaN         새벽  \\\n1                  140.0               162.0          NaN         새벽   \n2                  139.0               160.0          NaN         새벽   \n3                  207.0               218.0          NaN         새벽   \n4                  210.0               232.0          NaN         새벽   \n\n  using_day  year 출발지구  출발지동 목적지구   목적지동 이용목적     출발동_위도      출발동_경도   \n0        평일  2018   중구    명동  용산구   한강로동   귀가  37.560008  126.985802  \\\n1        평일  2018  서초구  반포1동  강서구  등촌제3동   귀가  37.505081  127.013377   \n2        평일  2018  강북구   인수동  노원구   하계2동   귀가  37.641473  127.010640   \n3        평일  2018  관악구   청림동  성북구    안암동   귀가  37.492266  126.958473   \n4        평일  2018  노원구  월계1동  노원구   상계5동   귀가  37.619921  127.062983   \n\n   출발동_최근접_차고지_거리     목적동_위도      목적동_경도      이동거리 보건업 및 사회복지 서비스업 종사자 수   \n0        0.014748  37.528107  126.969193  0.035966                  2156  \\\n1        0.025657  37.559270  126.848268  0.173774                   772   \n2        0.036339  37.632001  127.067959  0.058096                  1461   \n3        0.022919  37.586123  127.021650  0.113139                   324   \n4        0.020209  37.662734  127.069523  0.043309                   759   \n\n   구별_장애인_시설_수   장애인구수  \n0           11   126.0  \n1           30   532.0  \n2           30  1794.0  \n3           24   679.0  \n4           58  1056.0  ",
      "text/html": "<div>\n<style scoped>\n    .dataframe tbody tr th:only-of-type {\n        vertical-align: middle;\n    }\n\n    .dataframe tbody tr th {\n        vertical-align: top;\n    }\n\n    .dataframe thead th {\n        text-align: right;\n    }\n</style>\n<table border=\"1\" class=\"dataframe\">\n  <thead>\n    <tr style=\"text-align: right;\">\n      <th></th>\n      <th>dispatch_waiting_time</th>\n      <th>total_waiting_time</th>\n      <th>cancel_time</th>\n      <th>using_time</th>\n      <th>using_day</th>\n      <th>year</th>\n      <th>출발지구</th>\n      <th>출발지동</th>\n      <th>목적지구</th>\n      <th>목적지동</th>\n      <th>이용목적</th>\n      <th>출발동_위도</th>\n      <th>출발동_경도</th>\n      <th>출발동_최근접_차고지_거리</th>\n      <th>목적동_위도</th>\n      <th>목적동_경도</th>\n      <th>이동거리</th>\n      <th>보건업 및 사회복지 서비스업 종사자 수</th>\n      <th>구별_장애인_시설_수</th>\n      <th>장애인구수</th>\n    </tr>\n  </thead>\n  <tbody>\n    <tr>\n      <th>0</th>\n      <td>136.0</td>\n      <td>165.0</td>\n      <td>NaN</td>\n      <td>새벽</td>\n      <td>평일</td>\n      <td>2018</td>\n      <td>중구</td>\n      <td>명동</td>\n      <td>용산구</td>\n      <td>한강로동</td>\n      <td>귀가</td>\n      <td>37.560008</td>\n      <td>126.985802</td>\n      <td>0.014748</td>\n      <td>37.528107</td>\n      <td>126.969193</td>\n      <td>0.035966</td>\n      <td>2156</td>\n      <td>11</td>\n      <td>126.0</td>\n    </tr>\n    <tr>\n      <th>1</th>\n      <td>140.0</td>\n      <td>162.0</td>\n      <td>NaN</td>\n      <td>새벽</td>\n      <td>평일</td>\n      <td>2018</td>\n      <td>서초구</td>\n      <td>반포1동</td>\n      <td>강서구</td>\n      <td>등촌제3동</td>\n      <td>귀가</td>\n      <td>37.505081</td>\n      <td>127.013377</td>\n      <td>0.025657</td>\n      <td>37.559270</td>\n      <td>126.848268</td>\n      <td>0.173774</td>\n      <td>772</td>\n      <td>30</td>\n      <td>532.0</td>\n    </tr>\n    <tr>\n      <th>2</th>\n      <td>139.0</td>\n      <td>160.0</td>\n      <td>NaN</td>\n      <td>새벽</td>\n      <td>평일</td>\n      <td>2018</td>\n      <td>강북구</td>\n      <td>인수동</td>\n      <td>노원구</td>\n      <td>하계2동</td>\n      <td>귀가</td>\n      <td>37.641473</td>\n      <td>127.010640</td>\n      <td>0.036339</td>\n      <td>37.632001</td>\n      <td>127.067959</td>\n      <td>0.058096</td>\n      <td>1461</td>\n      <td>30</td>\n      <td>1794.0</td>\n    </tr>\n    <tr>\n      <th>3</th>\n      <td>207.0</td>\n      <td>218.0</td>\n      <td>NaN</td>\n      <td>새벽</td>\n      <td>평일</td>\n      <td>2018</td>\n      <td>관악구</td>\n      <td>청림동</td>\n      <td>성북구</td>\n      <td>안암동</td>\n      <td>귀가</td>\n      <td>37.492266</td>\n      <td>126.958473</td>\n      <td>0.022919</td>\n      <td>37.586123</td>\n      <td>127.021650</td>\n      <td>0.113139</td>\n      <td>324</td>\n      <td>24</td>\n      <td>679.0</td>\n    </tr>\n    <tr>\n      <th>4</th>\n      <td>210.0</td>\n      <td>232.0</td>\n      <td>NaN</td>\n      <td>새벽</td>\n      <td>평일</td>\n      <td>2018</td>\n      <td>노원구</td>\n      <td>월계1동</td>\n      <td>노원구</td>\n      <td>상계5동</td>\n      <td>귀가</td>\n      <td>37.619921</td>\n      <td>127.062983</td>\n      <td>0.020209</td>\n      <td>37.662734</td>\n      <td>127.069523</td>\n      <td>0.043309</td>\n      <td>759</td>\n      <td>58</td>\n      <td>1056.0</td>\n    </tr>\n  </tbody>\n</table>\n</div>"
     },
     "execution_count": 81,
     "metadata": {},
     "output_type": "execute_result"
    }
   ],
   "source": [
    "print(final_data.shape)\n",
    "final_data.head()"
   ],
   "metadata": {
    "collapsed": false
   }
  },
  {
   "cell_type": "markdown",
   "source": [
    "### 행정동별 연도별 전체 인구 수"
   ],
   "metadata": {
    "collapsed": false
   }
  },
  {
   "cell_type": "code",
   "execution_count": 82,
   "outputs": [],
   "source": [
    "seoul_population = pd.read_csv('./data/extra_data/서울시_주민등록인구.csv')"
   ],
   "metadata": {
    "collapsed": false
   }
  },
  {
   "cell_type": "code",
   "execution_count": 83,
   "outputs": [],
   "source": [
    "# 동별 칼럼 소계 제거\n",
    "seoul_population.drop(seoul_population[seoul_population['동별'].str.contains('소계')].index, inplace=True)\n",
    "\n",
    "# 2023년 데이터 삭제\n",
    "seoul_population.drop(seoul_population[seoul_population['시점'].str.contains('2023 1/4')].index, inplace=True)"
   ],
   "metadata": {
    "collapsed": false
   }
  },
  {
   "cell_type": "code",
   "execution_count": 84,
   "outputs": [
    {
     "data": {
      "text/plain": "     구별   동별    시점   인구수\n7   종로구  사직동  2018  9818\n8   종로구  사직동  2019  9815\n9   종로구  사직동  2020  9806\n10  종로구  사직동  2021  9636\n11  종로구  사직동  2022  9355",
      "text/html": "<div>\n<style scoped>\n    .dataframe tbody tr th:only-of-type {\n        vertical-align: middle;\n    }\n\n    .dataframe tbody tr th {\n        vertical-align: top;\n    }\n\n    .dataframe thead th {\n        text-align: right;\n    }\n</style>\n<table border=\"1\" class=\"dataframe\">\n  <thead>\n    <tr style=\"text-align: right;\">\n      <th></th>\n      <th>구별</th>\n      <th>동별</th>\n      <th>시점</th>\n      <th>인구수</th>\n    </tr>\n  </thead>\n  <tbody>\n    <tr>\n      <th>7</th>\n      <td>종로구</td>\n      <td>사직동</td>\n      <td>2018</td>\n      <td>9818</td>\n    </tr>\n    <tr>\n      <th>8</th>\n      <td>종로구</td>\n      <td>사직동</td>\n      <td>2019</td>\n      <td>9815</td>\n    </tr>\n    <tr>\n      <th>9</th>\n      <td>종로구</td>\n      <td>사직동</td>\n      <td>2020</td>\n      <td>9806</td>\n    </tr>\n    <tr>\n      <th>10</th>\n      <td>종로구</td>\n      <td>사직동</td>\n      <td>2021</td>\n      <td>9636</td>\n    </tr>\n    <tr>\n      <th>11</th>\n      <td>종로구</td>\n      <td>사직동</td>\n      <td>2022</td>\n      <td>9355</td>\n    </tr>\n  </tbody>\n</table>\n</div>"
     },
     "execution_count": 84,
     "metadata": {},
     "output_type": "execute_result"
    }
   ],
   "source": [
    "seoul_population.head()"
   ],
   "metadata": {
    "collapsed": false
   }
  },
  {
   "cell_type": "code",
   "execution_count": 85,
   "outputs": [
    {
     "name": "stdout",
     "output_type": "stream",
     "text": [
      "set()\n",
      "{'당산2동', '응암2동', '성산2동', '대림1동', '쌍문2동', '중화2동', '구로4동', '답십리2동', '신길6동', '고척1동', '창2동', '구로5동', '중곡2동', '월곡1동', '제기동', '면목3.8동', '수유3동', '성내3동', '사당4동', '구의2동', '둔촌1동', '묵1동', '등촌1동', '성수1가1동', '신길7동', '천호2동', '도봉2동', '장위2동', '구로3동', '약수동', '갈현1동', '장안1동', '신대방2동', '등촌2동', '왕십리2동', '상봉2동', '중화1동', '대림3동', '둔촌2동', '노량진2동', '답십리1동', '천호3동', '돈암2동', '다산동', '등촌3동', '성내1동', '신길3동', '행당1동', '구의3동', '정릉2동', '남가좌1동', '창4동', '자양4동', '암사3동', '방화2동', '구의1동', '이태원1동', '휘경2동', '상일1동', '장안2동', '오류1동', '성산1동', '자양2동', '창신2동', '오류2동', '불광2동', '수유2동', '가양1동', '화곡6동', '창3동', '원효로2동', '창신1동', '양평1동', '홍은1동', '용신동', '신길4동', '신길5동', '상일2동', '숭인1동', '성수2가1동', '전농1동', '이촌1동', '도봉1동', '방화1동', '성내2동', '숭인2동', '정릉4동', '사당3동', '개봉1동', '홍제3동', '화곡3동', '남가좌2동', '면목4동', '암사2동', '독산1동', '상도4동', '사당2동', '창신3동', '면목7동', '사당5동', '화곡1동', '전농2동', '가양2동', '동화동', '길음1동', '대림2동', '성수2가3동', '상도3동', '항동', '면목2동', '이촌2동', '고덕2동', '상도1동', '시흥3동', '위례동', '창5동', '시흥1동', '월곡2동', '당산1동', '화곡8동', '중곡3동', '방화3동', '장위1동', '창1동', '중곡4동', '방학3동', '휘경1동', '시흥5동', '화곡2동', '이태원2동', '시흥2동', '양평2동', '쌍문4동', '묵2동', '응암1동', '암사1동', '번1동', '천호1동', '개봉2동', '번3동', '갈현2동', '고덕1동', '청구동', '행당2동', '원효로1동', '개포3동', '정릉3동', '시흥4동', '명일2동', '독산3동', '정릉1동', '수유1동', '번2동', '홍은2동', '개봉3동', '신당동', '돈암1동', '신사1동', '독산4동', '중곡1동', '명일1동', '이문2동', '구로2동', '응암3동', '신당5동', '망우3동', '공릉1동', '신사2동', '쌍문3동', '고척2동', '방학1동', '상봉1동', '신대방1동', '신길1동', '불광1동', '길음2동', '쌍문1동', '사당1동', '가양3동', '발산1동', '독산2동', '장위3동', '면목5동', '노량진1동', '성수1가2동', '북가좌2동', '자양3동', '홍제1동', '방학2동', '구로1동', '자양1동', '망원2동', '화곡4동', '북가좌1동', '상도2동', '홍제2동', '망원1동', '이문1동'}\n"
     ]
    }
   ],
   "source": [
    "call_taxi_dongs = set(full_data.출발지동.unique())\n",
    "population_dongs = set(seoul_population.동별.unique())\n",
    "print(set.difference(call_taxi_dongs, community_dongs))\n",
    "print(set.difference(population_dongs, call_taxi_dongs))"
   ],
   "metadata": {
    "collapsed": false
   }
  },
  {
   "cell_type": "code",
   "execution_count": 86,
   "outputs": [],
   "source": [
    "seoul_population.시점 = pd.to_numeric(seoul_population.시점)"
   ],
   "metadata": {
    "collapsed": false
   }
  },
  {
   "cell_type": "code",
   "execution_count": 87,
   "outputs": [],
   "source": [
    "seoul_population.drop_duplicates(subset=['시점', '동별'], keep='first', inplace=True, ignore_index=True)"
   ],
   "metadata": {
    "collapsed": false
   }
  },
  {
   "cell_type": "code",
   "execution_count": 88,
   "outputs": [],
   "source": [
    "# join\n",
    "final_data = pd.merge(final_data, seoul_population[['동별', '인구수', '시점']], how = \"left\", left_on = [\"출발지동\", \"year\"], right_on = [\"동별\",\"시점\"])\n",
    "final_data = final_data.drop(columns = ['동별', '시점'])"
   ],
   "metadata": {
    "collapsed": false
   }
  },
  {
   "cell_type": "code",
   "execution_count": 89,
   "outputs": [
    {
     "name": "stdout",
     "output_type": "stream",
     "text": [
      "(5817767, 21)\n"
     ]
    },
    {
     "data": {
      "text/plain": "   dispatch_waiting_time  total_waiting_time  cancel_time using_time   \n0                  136.0               165.0          NaN         새벽  \\\n1                  140.0               162.0          NaN         새벽   \n2                  139.0               160.0          NaN         새벽   \n3                  207.0               218.0          NaN         새벽   \n4                  210.0               232.0          NaN         새벽   \n\n  using_day  year 출발지구  출발지동 목적지구   목적지동  ...     출발동_위도      출발동_경도   \n0        평일  2018   중구    명동  용산구   한강로동  ...  37.560008  126.985802  \\\n1        평일  2018  서초구  반포1동  강서구  등촌제3동  ...  37.505081  127.013377   \n2        평일  2018  강북구   인수동  노원구   하계2동  ...  37.641473  127.010640   \n3        평일  2018  관악구   청림동  성북구    안암동  ...  37.492266  126.958473   \n4        평일  2018  노원구  월계1동  노원구   상계5동  ...  37.619921  127.062983   \n\n   출발동_최근접_차고지_거리     목적동_위도      목적동_경도      이동거리  보건업 및 사회복지 서비스업 종사자 수   \n0        0.014748  37.528107  126.969193  0.035966                   2156  \\\n1        0.025657  37.559270  126.848268  0.173774                    772   \n2        0.036339  37.632001  127.067959  0.058096                   1461   \n3        0.022919  37.586123  127.021650  0.113139                    324   \n4        0.020209  37.662734  127.069523  0.043309                    759   \n\n  구별_장애인_시설_수   장애인구수      인구수  \n0          11   126.0   3470.0  \n1          30   532.0  32109.0  \n2          30  1794.0  33046.0  \n3          24   679.0  16527.0  \n4          58  1056.0  24087.0  \n\n[5 rows x 21 columns]",
      "text/html": "<div>\n<style scoped>\n    .dataframe tbody tr th:only-of-type {\n        vertical-align: middle;\n    }\n\n    .dataframe tbody tr th {\n        vertical-align: top;\n    }\n\n    .dataframe thead th {\n        text-align: right;\n    }\n</style>\n<table border=\"1\" class=\"dataframe\">\n  <thead>\n    <tr style=\"text-align: right;\">\n      <th></th>\n      <th>dispatch_waiting_time</th>\n      <th>total_waiting_time</th>\n      <th>cancel_time</th>\n      <th>using_time</th>\n      <th>using_day</th>\n      <th>year</th>\n      <th>출발지구</th>\n      <th>출발지동</th>\n      <th>목적지구</th>\n      <th>목적지동</th>\n      <th>...</th>\n      <th>출발동_위도</th>\n      <th>출발동_경도</th>\n      <th>출발동_최근접_차고지_거리</th>\n      <th>목적동_위도</th>\n      <th>목적동_경도</th>\n      <th>이동거리</th>\n      <th>보건업 및 사회복지 서비스업 종사자 수</th>\n      <th>구별_장애인_시설_수</th>\n      <th>장애인구수</th>\n      <th>인구수</th>\n    </tr>\n  </thead>\n  <tbody>\n    <tr>\n      <th>0</th>\n      <td>136.0</td>\n      <td>165.0</td>\n      <td>NaN</td>\n      <td>새벽</td>\n      <td>평일</td>\n      <td>2018</td>\n      <td>중구</td>\n      <td>명동</td>\n      <td>용산구</td>\n      <td>한강로동</td>\n      <td>...</td>\n      <td>37.560008</td>\n      <td>126.985802</td>\n      <td>0.014748</td>\n      <td>37.528107</td>\n      <td>126.969193</td>\n      <td>0.035966</td>\n      <td>2156</td>\n      <td>11</td>\n      <td>126.0</td>\n      <td>3470.0</td>\n    </tr>\n    <tr>\n      <th>1</th>\n      <td>140.0</td>\n      <td>162.0</td>\n      <td>NaN</td>\n      <td>새벽</td>\n      <td>평일</td>\n      <td>2018</td>\n      <td>서초구</td>\n      <td>반포1동</td>\n      <td>강서구</td>\n      <td>등촌제3동</td>\n      <td>...</td>\n      <td>37.505081</td>\n      <td>127.013377</td>\n      <td>0.025657</td>\n      <td>37.559270</td>\n      <td>126.848268</td>\n      <td>0.173774</td>\n      <td>772</td>\n      <td>30</td>\n      <td>532.0</td>\n      <td>32109.0</td>\n    </tr>\n    <tr>\n      <th>2</th>\n      <td>139.0</td>\n      <td>160.0</td>\n      <td>NaN</td>\n      <td>새벽</td>\n      <td>평일</td>\n      <td>2018</td>\n      <td>강북구</td>\n      <td>인수동</td>\n      <td>노원구</td>\n      <td>하계2동</td>\n      <td>...</td>\n      <td>37.641473</td>\n      <td>127.010640</td>\n      <td>0.036339</td>\n      <td>37.632001</td>\n      <td>127.067959</td>\n      <td>0.058096</td>\n      <td>1461</td>\n      <td>30</td>\n      <td>1794.0</td>\n      <td>33046.0</td>\n    </tr>\n    <tr>\n      <th>3</th>\n      <td>207.0</td>\n      <td>218.0</td>\n      <td>NaN</td>\n      <td>새벽</td>\n      <td>평일</td>\n      <td>2018</td>\n      <td>관악구</td>\n      <td>청림동</td>\n      <td>성북구</td>\n      <td>안암동</td>\n      <td>...</td>\n      <td>37.492266</td>\n      <td>126.958473</td>\n      <td>0.022919</td>\n      <td>37.586123</td>\n      <td>127.021650</td>\n      <td>0.113139</td>\n      <td>324</td>\n      <td>24</td>\n      <td>679.0</td>\n      <td>16527.0</td>\n    </tr>\n    <tr>\n      <th>4</th>\n      <td>210.0</td>\n      <td>232.0</td>\n      <td>NaN</td>\n      <td>새벽</td>\n      <td>평일</td>\n      <td>2018</td>\n      <td>노원구</td>\n      <td>월계1동</td>\n      <td>노원구</td>\n      <td>상계5동</td>\n      <td>...</td>\n      <td>37.619921</td>\n      <td>127.062983</td>\n      <td>0.020209</td>\n      <td>37.662734</td>\n      <td>127.069523</td>\n      <td>0.043309</td>\n      <td>759</td>\n      <td>58</td>\n      <td>1056.0</td>\n      <td>24087.0</td>\n    </tr>\n  </tbody>\n</table>\n<p>5 rows × 21 columns</p>\n</div>"
     },
     "execution_count": 89,
     "metadata": {},
     "output_type": "execute_result"
    }
   ],
   "source": [
    "print(final_data.shape)\n",
    "final_data.head()"
   ],
   "metadata": {
    "collapsed": false
   }
  },
  {
   "cell_type": "code",
   "execution_count": 90,
   "outputs": [],
   "source": [
    "final_data.to_csv('./data/final_data/final_data.csv', index = False)"
   ],
   "metadata": {
    "collapsed": false
   }
  },
  {
   "cell_type": "code",
   "execution_count": null,
   "outputs": [],
   "source": [],
   "metadata": {
    "collapsed": false
   }
  }
 ],
 "metadata": {
  "kernelspec": {
   "display_name": "Python 3",
   "language": "python",
   "name": "python3"
  },
  "language_info": {
   "codemirror_mode": {
    "name": "ipython",
    "version": 2
   },
   "file_extension": ".py",
   "mimetype": "text/x-python",
   "name": "python",
   "nbconvert_exporter": "python",
   "pygments_lexer": "ipython2",
   "version": "2.7.6"
  }
 },
 "nbformat": 4,
 "nbformat_minor": 0
}
