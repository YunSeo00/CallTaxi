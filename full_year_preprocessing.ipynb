{
 "cells": [
  {
   "cell_type": "code",
   "execution_count": 91,
   "metadata": {
    "collapsed": true
   },
   "outputs": [],
   "source": [
    "import pandas as pd\n",
    "import numpy as np\n",
    "import matplotlib.pyplot as plt\n",
    "plt.rc('font', family='Apple SD Gothic Neo')"
   ]
  },
  {
   "cell_type": "code",
   "execution_count": 92,
   "outputs": [],
   "source": [
    "data2018a = pd.read_csv('./data/final_data/2018_상반기.csv')\n",
    "data2018b = pd.read_csv('./data/final_data/2018_하반기.csv')\n",
    "data2019a = pd.read_csv('./data/final_data/2019_상반기.csv')\n",
    "data2019b = pd.read_csv('./data/final_data/2019_하반기.csv')\n",
    "data2020a = pd.read_csv('./data/final_data/2020_상반기.csv')\n",
    "data2020b = pd.read_csv('./data/final_data/2020_하반기.csv')\n",
    "data2021a = pd.read_csv('./data/final_data/2021_상반기.csv')\n",
    "data2021b = pd.read_csv('./data/final_data/2021_하반기.csv')\n",
    "data2022a = pd.read_csv('./data/final_data/2022_상반기.csv')\n",
    "data2022b = pd.read_csv('./data/final_data/2022_하반기.csv')\n",
    "data2023a = pd.read_csv('./data/final_data/2023_1-4.csv')"
   ],
   "metadata": {
    "collapsed": false
   }
  },
  {
   "cell_type": "code",
   "execution_count": 93,
   "outputs": [
    {
     "name": "stdout",
     "output_type": "stream",
     "text": [
      "(734947, 15)\n",
      "(753331, 15)\n",
      "(733282, 15)\n",
      "(764809, 15)\n",
      "(544132, 15)\n",
      "(604186, 15)\n",
      "(664743, 15)\n",
      "(721097, 15)\n",
      "(733181, 15)\n",
      "(854680, 15)\n",
      "(570987, 15)\n"
     ]
    }
   ],
   "source": [
    "print(data2018a.shape)\n",
    "print(data2018b.shape)\n",
    "print(data2019a.shape)\n",
    "print(data2019b.shape)\n",
    "print(data2020a.shape)\n",
    "print(data2020b.shape)\n",
    "print(data2021a.shape)\n",
    "print(data2021b.shape)\n",
    "print(data2022a.shape)\n",
    "print(data2022b.shape)\n",
    "print(data2023a.shape)"
   ],
   "metadata": {
    "collapsed": false
   }
  },
  {
   "cell_type": "code",
   "execution_count": 94,
   "outputs": [],
   "source": [
    "# 필요없는 변수 drop\n",
    "data2018a = data2018a.drop(columns = ['요금', '승차거리(m)', '차량고유번호', '차량종류', '하차일시'])\n",
    "data2018b = data2018b.drop(columns = ['요금', '승차거리(m)', '차량고유번호', '차량종류', '하차일시'])\n",
    "data2019a = data2019a.drop(columns = ['요금', '승차거리(m)', '차량고유번호', '차량종류', '하차일시'])\n",
    "data2019b = data2019b.drop(columns = ['요금', '승차거리(m)', '차량고유번호', '차량종류', '하차일시'])\n",
    "data2020a = data2020a.drop(columns = ['요금', '승차거리(m)', '차량고유번호', '차량종류', '하차일시'])\n",
    "data2020b = data2020b.drop(columns = ['요금', '승차거리(m)', '차량고유번호', '차량종류', '하차일시'])\n",
    "data2021a = data2021a.drop(columns = ['요금', '승차거리(m)', '차량고유번호', '차량종류', '하차일시'])\n",
    "data2021b = data2021b.drop(columns = ['요금', '승차거리(m)', '차량고유번호', '차량종류', '하차일시'])\n",
    "data2022a = data2022a.drop(columns = ['요금', '승차거리(m)', '차량고유번호', '차량종류', '하차일시'])\n",
    "data2022b = data2022b.drop(columns = ['요금', '승차거리(m)', '차량고유번호', '차량종류', '하차일시'])\n",
    "data2023a = data2023a.drop(columns = ['요금', '승차거리(m)', '차량고유번호', '차량종류', '하차일시'])"
   ],
   "metadata": {
    "collapsed": false
   }
  },
  {
   "cell_type": "code",
   "execution_count": 95,
   "outputs": [],
   "source": [
    "# 날짜형 변수 형 변환 (str -> datetime)\n",
    "\n",
    "# 2018\n",
    "data2018a.접수일시 = pd.to_datetime(data2018a.접수일시)\n",
    "data2018a.예정일시 = pd.to_datetime(data2018a.예정일시)\n",
    "data2018a.배차일시 = pd.to_datetime(data2018a.배차일시)\n",
    "data2018a.승차일시 = pd.to_datetime(data2018a.승차일시)\n",
    "data2018a.취소일시 = pd.to_datetime(data2018a.취소일시)\n",
    "\n",
    "data2018b.접수일시 = pd.to_datetime(data2018b.접수일시)\n",
    "data2018b.예정일시 = pd.to_datetime(data2018b.예정일시)\n",
    "data2018b.배차일시 = pd.to_datetime(data2018b.배차일시)\n",
    "data2018b.승차일시 = pd.to_datetime(data2018b.승차일시)\n",
    "data2018b.취소시간 = pd.to_datetime(data2018b.취소시간)\n",
    "\n",
    "# 2019\n",
    "data2019a.접수일시 = pd.to_datetime(data2019a.접수일시)\n",
    "data2019a.예정일시 = pd.to_datetime(data2019a.예정일시)\n",
    "data2019a.배차일시 = pd.to_datetime(data2019a.배차일시)\n",
    "data2019a.승차일시 = pd.to_datetime(data2019a.승차일시)\n",
    "data2019a.취소시간 = pd.to_datetime(data2019a.취소시간)\n",
    "\n",
    "data2019b.접수일시 = pd.to_datetime(data2019b.접수일시)\n",
    "data2019b.예정일시 = pd.to_datetime(data2019b.예정일시)\n",
    "data2019b.배차일시 = pd.to_datetime(data2019b.배차일시)\n",
    "data2019b.승차일시 = pd.to_datetime(data2019b.승차일시)\n",
    "data2019b.취소시간 = pd.to_datetime(data2019b.취소시간)\n",
    "\n",
    "# 2020\n",
    "data2020a.접수일시 = pd.to_datetime(data2020a.접수일시)\n",
    "data2020a.예정일시 = pd.to_datetime(data2020a.예정일시)\n",
    "data2020a.배차일시 = pd.to_datetime(data2020a.배차일시)\n",
    "data2020a.승차일시 = pd.to_datetime(data2020a.승차일시)\n",
    "data2020a.취소시간 = pd.to_datetime(data2020a.취소시간)\n",
    "\n",
    "data2020b.접수일시 = pd.to_datetime(data2020b.접수일시)\n",
    "data2020b.예정일시 = pd.to_datetime(data2020b.예정일시)\n",
    "data2020b.배차일시 = pd.to_datetime(data2020b.배차일시)\n",
    "data2020b.승차일시 = pd.to_datetime(data2020b.승차일시)\n",
    "data2020b.취소일시 = pd.to_datetime(data2020b.취소일시)\n",
    "\n",
    "# 2021\n",
    "data2021a.접수일시 = pd.to_datetime(data2021a.접수일시)\n",
    "data2021a.예정일시 = pd.to_datetime(data2021a.예정일시)\n",
    "data2021a.배차일시 = pd.to_datetime(data2021a.배차일시)\n",
    "data2021a.승차일시 = pd.to_datetime(data2021a.승차일시)\n",
    "data2021a.취소시간 = pd.to_datetime(data2021a.취소시간)\n",
    "\n",
    "data2021b.접수일시 = pd.to_datetime(data2021b.접수일시)\n",
    "data2021b.예정일시 = pd.to_datetime(data2021b.예정일시)\n",
    "data2021b.배차일시 = pd.to_datetime(data2021b.배차일시)\n",
    "data2021b.승차일시 = pd.to_datetime(data2021b.승차일시)\n",
    "data2021b.취소시간 = pd.to_datetime(data2021b.취소시간)\n",
    "\n",
    "# 2022\n",
    "data2022a.접수일시 = pd.to_datetime(data2022a.접수일시)\n",
    "data2022a.예정일시 = pd.to_datetime(data2022a.예정일시)\n",
    "data2022a.배차일시 = pd.to_datetime(data2022a.배차일시)\n",
    "data2022a.승차일시 = pd.to_datetime(data2022a.승차일시)\n",
    "data2022a.취소시간 = pd.to_datetime(data2022a.취소시간)\n",
    "\n",
    "data2022b.접수일시 = pd.to_datetime(data2022b.접수일시)\n",
    "data2022b.예정일시 = pd.to_datetime(data2022b.예정일시)\n",
    "data2022b.배차일시 = pd.to_datetime(data2022b.배차일시)\n",
    "data2022b.승차일시 = pd.to_datetime(data2022b.승차일시)\n",
    "data2022b.취소시간 = pd.to_datetime(data2022b.취소시간)\n",
    "\n",
    "# 2023\n",
    "data2023a.접수일시 = pd.to_datetime(data2023a.접수일시)\n",
    "data2023a.예정일시 = pd.to_datetime(data2023a.예정일시)\n",
    "data2023a.배차일시 = pd.to_datetime(data2023a.배차일시)\n",
    "data2023a.승차일시 = pd.to_datetime(data2023a.승차일시)\n",
    "data2023a.취소시간 = pd.to_datetime(data2023a.취소시간)"
   ],
   "metadata": {
    "collapsed": false
   }
  },
  {
   "cell_type": "markdown",
   "source": [
    "### 바로콜 형식 and 즉시 취소가 아닌 데이터만 남기고 삭제"
   ],
   "metadata": {
    "collapsed": false
   }
  },
  {
   "cell_type": "code",
   "execution_count": 96,
   "outputs": [],
   "source": [
    "# 2018a\n",
    "reservation = (data2018a.예정일시 - data2018a.접수일시).astype('timedelta64[s]').astype(int) / 60\n",
    "cancel = (data2018a.취소일시 - data2018a.예정일시).astype('timedelta64[s]').astype(int) / 60\n",
    "data2018a = data2018a[(reservation >= 0) & (reservation <= 10) & ((cancel >=3)|(cancel < 0))]\n",
    "\n",
    "# 2018b\n",
    "reservation = (data2018b.예정일시 - data2018b.접수일시).astype('timedelta64[s]').astype(int) / 60\n",
    "cancel = (data2018b.취소시간 - data2018b.예정일시).astype('timedelta64[s]').astype(int) / 60\n",
    "data2018b = data2018b[(reservation >= 0) & (reservation <= 10) & ((cancel >=3)|(cancel < 0))]\n",
    "\n",
    "# 2019a\n",
    "reservation = (data2019a.예정일시 - data2019a.접수일시).astype('timedelta64[s]').astype(int) / 60\n",
    "cancel = (data2019a.취소시간 - data2019a.예정일시).astype('timedelta64[s]').astype(int) / 60\n",
    "data2019a = data2019a[(reservation >= 0) & (reservation <= 10) & ((cancel >=3)|(cancel < 0))]\n",
    "\n",
    "# 2019b\n",
    "reservation = (data2019b.예정일시 - data2019b.접수일시).astype('timedelta64[s]').astype(int) / 60\n",
    "cancel = (data2019b.취소시간 - data2019b.예정일시).astype('timedelta64[s]').astype(int) / 60\n",
    "data2019b = data2019b[(reservation >= 0) & (reservation <= 10) & ((cancel >=3)|(cancel < 0))]\n",
    "\n",
    "# 2020a\n",
    "reservation = (data2020a.예정일시 - data2020a.접수일시).astype('timedelta64[s]').astype(int) / 60\n",
    "cancel = (data2020a.취소시간 - data2020a.예정일시).astype('timedelta64[s]').astype(int) / 60\n",
    "data2020a = data2020a[(reservation >= 0) & (reservation <= 10) & ((cancel >=3)|(cancel < 0))]\n",
    "\n",
    "# 2020b\n",
    "reservation = (data2020b.예정일시 - data2020b.접수일시).astype('timedelta64[s]').astype(int) / 60\n",
    "cancel = (data2020b.취소일시 - data2020b.예정일시).astype('timedelta64[s]').astype(int) / 60\n",
    "data2020b = data2020b[(reservation >= 0) & (reservation <= 10) & ((cancel >=3)|(cancel < 0))]\n",
    "\n",
    "# 2021a\n",
    "reservation = (data2021a.예정일시 - data2021a.접수일시).astype('timedelta64[s]').astype(int) / 60\n",
    "cancel = (data2021a.취소시간 - data2021a.예정일시).astype('timedelta64[s]').astype(int) / 60\n",
    "data2021a = data2021a[(reservation >= 0) & (reservation <= 10) & ((cancel >=3)|(cancel < 0))]\n",
    "\n",
    "# 2021b\n",
    "reservation = (data2021b.예정일시 - data2021b.접수일시).astype('timedelta64[s]').astype(int) / 60\n",
    "cancel = (data2021b.취소시간 - data2021b.예정일시).astype('timedelta64[s]').astype(int) / 60\n",
    "data2021b = data2021b[(reservation >= 0) & (reservation <= 10) & ((cancel >=3)|(cancel < 0))]\n",
    "\n",
    "# 2022a\n",
    "reservation = (data2022a.예정일시 - data2022a.접수일시).astype('timedelta64[s]').astype(int) / 60\n",
    "cancel = (data2022a.취소시간 - data2022a.예정일시).astype('timedelta64[s]').astype(int) / 60\n",
    "data2022a = data2022a[(reservation >= 0) & (reservation <= 10) & ((cancel >=3)|(cancel < 0))]\n",
    "\n",
    "# 2022b\n",
    "reservation = (data2022b.예정일시 - data2022b.접수일시).astype('timedelta64[s]').astype(int) / 60\n",
    "cancel = (data2022b.취소시간 - data2022b.예정일시).astype('timedelta64[s]').astype(int) / 60\n",
    "data2022b = data2022b[(reservation >= 0) & (reservation <= 10) & ((cancel >=3)|(cancel < 0))]\n",
    "\n",
    "# 2023a\n",
    "reservation = (data2023a.예정일시 - data2023a.접수일시).astype('timedelta64[s]').astype(int) / 60\n",
    "cancel = (data2023a.취소시간 - data2023a.예정일시).astype('timedelta64[s]').astype(int) / 60\n",
    "data2023a = data2023a[(reservation >= 0) & (reservation <= 10) & ((cancel >=3)|(cancel < 0))]"
   ],
   "metadata": {
    "collapsed": false
   }
  },
  {
   "cell_type": "code",
   "execution_count": 97,
   "outputs": [
    {
     "name": "stdout",
     "output_type": "stream",
     "text": [
      "(549215, 10)\n",
      "(568919, 10)\n",
      "(563426, 10)\n",
      "(591149, 10)\n",
      "(436879, 10)\n",
      "(500509, 10)\n",
      "(565248, 10)\n",
      "(605567, 10)\n",
      "(616014, 10)\n",
      "(717009, 10)\n",
      "(488239, 10)\n"
     ]
    }
   ],
   "source": [
    "print(data2018a.shape)\n",
    "print(data2018b.shape)\n",
    "print(data2019a.shape)\n",
    "print(data2019b.shape)\n",
    "print(data2020a.shape)\n",
    "print(data2020b.shape)\n",
    "print(data2021a.shape)\n",
    "print(data2021b.shape)\n",
    "print(data2022a.shape)\n",
    "print(data2022b.shape)\n",
    "print(data2023a.shape)"
   ],
   "metadata": {
    "collapsed": false
   }
  },
  {
   "cell_type": "markdown",
   "source": [
    "### 연도 변수 추가"
   ],
   "metadata": {
    "collapsed": false
   }
  },
  {
   "cell_type": "code",
   "execution_count": 98,
   "outputs": [],
   "source": [
    "# 연도 변수 추가\n",
    "data2018a.insert(5, 'year', 2018)\n",
    "data2018b.insert(5, 'year', 2018)\n",
    "data2019a.insert(5, 'year', 2019)\n",
    "data2019b.insert(5, 'year', 2019)\n",
    "data2020a.insert(5, 'year', 2020)\n",
    "data2020b.insert(5, 'year', 2020)\n",
    "data2021a.insert(5, 'year', 2021)\n",
    "data2021b.insert(5, 'year', 2021)\n",
    "data2022a.insert(5, 'year', 2022)\n",
    "data2022b.insert(5, 'year', 2022)\n",
    "data2023a.insert(5, 'year', 2023)"
   ],
   "metadata": {
    "collapsed": false
   }
  },
  {
   "cell_type": "markdown",
   "source": [
    "### concatenate"
   ],
   "metadata": {
    "collapsed": false
   }
  },
  {
   "cell_type": "code",
   "execution_count": 99,
   "outputs": [],
   "source": [
    "data2018a = data2018a.rename(columns = {'취소일시':'취소시간'})\n",
    "data2020b = data2020b.rename(columns = {'취소일시':'취소시간'})"
   ],
   "metadata": {
    "collapsed": false
   }
  },
  {
   "cell_type": "code",
   "execution_count": 100,
   "outputs": [],
   "source": [
    "full_data = pd.concat([data2018a, data2018b, data2019a, data2019b, data2020a, data2020b, data2021a, data2021b, data2022a, data2022b, data2023a])"
   ],
   "metadata": {
    "collapsed": false
   }
  },
  {
   "cell_type": "code",
   "execution_count": 101,
   "outputs": [
    {
     "name": "stdout",
     "output_type": "stream",
     "text": [
      "(6202174, 11)\n"
     ]
    },
    {
     "data": {
      "text/plain": "                  접수일시                예정일시                배차일시   \n30 2018-01-01 00:03:00 2018-01-01 00:03:00 2018-01-01 02:19:00  \\\n31 2018-01-01 00:03:00 2018-01-01 00:04:00 2018-01-01 02:24:00   \n32 2018-01-01 00:07:00 2018-01-01 00:08:00 2018-01-01 02:27:00   \n33 2018-01-01 00:20:00 2018-01-01 00:21:00 2018-01-01 03:48:00   \n34 2018-01-01 00:24:00 2018-01-01 00:25:00 2018-01-01 03:55:00   \n\n                  승차일시 취소시간  year 출발지구  출발지동 목적지구   목적지동 이용목적  \n30 2018-01-01 02:48:00  NaT  2018   중구    명동  용산구   한강로동   귀가  \n31 2018-01-01 02:46:00  NaT  2018  서초구  반포1동  강서구  등촌제3동   귀가  \n32 2018-01-01 02:48:00  NaT  2018  강북구   인수동  노원구   하계2동   귀가  \n33 2018-01-01 03:59:00  NaT  2018  관악구   청림동  성북구    안암동   귀가  \n34 2018-01-01 04:17:00  NaT  2018  노원구  월계1동  노원구   상계5동   귀가  ",
      "text/html": "<div>\n<style scoped>\n    .dataframe tbody tr th:only-of-type {\n        vertical-align: middle;\n    }\n\n    .dataframe tbody tr th {\n        vertical-align: top;\n    }\n\n    .dataframe thead th {\n        text-align: right;\n    }\n</style>\n<table border=\"1\" class=\"dataframe\">\n  <thead>\n    <tr style=\"text-align: right;\">\n      <th></th>\n      <th>접수일시</th>\n      <th>예정일시</th>\n      <th>배차일시</th>\n      <th>승차일시</th>\n      <th>취소시간</th>\n      <th>year</th>\n      <th>출발지구</th>\n      <th>출발지동</th>\n      <th>목적지구</th>\n      <th>목적지동</th>\n      <th>이용목적</th>\n    </tr>\n  </thead>\n  <tbody>\n    <tr>\n      <th>30</th>\n      <td>2018-01-01 00:03:00</td>\n      <td>2018-01-01 00:03:00</td>\n      <td>2018-01-01 02:19:00</td>\n      <td>2018-01-01 02:48:00</td>\n      <td>NaT</td>\n      <td>2018</td>\n      <td>중구</td>\n      <td>명동</td>\n      <td>용산구</td>\n      <td>한강로동</td>\n      <td>귀가</td>\n    </tr>\n    <tr>\n      <th>31</th>\n      <td>2018-01-01 00:03:00</td>\n      <td>2018-01-01 00:04:00</td>\n      <td>2018-01-01 02:24:00</td>\n      <td>2018-01-01 02:46:00</td>\n      <td>NaT</td>\n      <td>2018</td>\n      <td>서초구</td>\n      <td>반포1동</td>\n      <td>강서구</td>\n      <td>등촌제3동</td>\n      <td>귀가</td>\n    </tr>\n    <tr>\n      <th>32</th>\n      <td>2018-01-01 00:07:00</td>\n      <td>2018-01-01 00:08:00</td>\n      <td>2018-01-01 02:27:00</td>\n      <td>2018-01-01 02:48:00</td>\n      <td>NaT</td>\n      <td>2018</td>\n      <td>강북구</td>\n      <td>인수동</td>\n      <td>노원구</td>\n      <td>하계2동</td>\n      <td>귀가</td>\n    </tr>\n    <tr>\n      <th>33</th>\n      <td>2018-01-01 00:20:00</td>\n      <td>2018-01-01 00:21:00</td>\n      <td>2018-01-01 03:48:00</td>\n      <td>2018-01-01 03:59:00</td>\n      <td>NaT</td>\n      <td>2018</td>\n      <td>관악구</td>\n      <td>청림동</td>\n      <td>성북구</td>\n      <td>안암동</td>\n      <td>귀가</td>\n    </tr>\n    <tr>\n      <th>34</th>\n      <td>2018-01-01 00:24:00</td>\n      <td>2018-01-01 00:25:00</td>\n      <td>2018-01-01 03:55:00</td>\n      <td>2018-01-01 04:17:00</td>\n      <td>NaT</td>\n      <td>2018</td>\n      <td>노원구</td>\n      <td>월계1동</td>\n      <td>노원구</td>\n      <td>상계5동</td>\n      <td>귀가</td>\n    </tr>\n  </tbody>\n</table>\n</div>"
     },
     "execution_count": 101,
     "metadata": {},
     "output_type": "execute_result"
    }
   ],
   "source": [
    "print(full_data.shape)\n",
    "full_data.head()"
   ],
   "metadata": {
    "collapsed": false
   }
  },
  {
   "cell_type": "markdown",
   "source": [
    "### 종속 변수 변환 (datetime -> int)"
   ],
   "metadata": {
    "collapsed": false
   }
  },
  {
   "cell_type": "code",
   "execution_count": 102,
   "outputs": [],
   "source": [
    "# 1. 배차 대기 시간 변수 생성\n",
    "tmp_val = (full_data.배차일시 - full_data.예정일시).astype('timedelta64[s]').astype(int) / 60\n",
    "tmp_val[full_data.배차일시.isna()] = np.nan\n",
    "full_data.insert(0, 'dispatch_waiting_time', tmp_val)\n",
    "\n",
    "# 2. 승차 대기 시간 변수 생성\n",
    "tmp_val = (full_data.승차일시 - full_data.예정일시).astype('timedelta64[s]').astype(int) / 60\n",
    "tmp_val[full_data.승차일시.isna()] = np.nan\n",
    "full_data.insert(1, 'total_waiting_time', tmp_val)\n",
    "\n",
    "# 3. 취소까지 걸린 시간 변수 생성\n",
    "tmp_val = (full_data.취소시간 - full_data.예정일시).astype('timedelta64[s]').astype(int) / 60\n",
    "tmp_val[full_data.취소시간.isna()] = np.nan\n",
    "full_data.insert(2, 'cancel_time', tmp_val)"
   ],
   "metadata": {
    "collapsed": false
   }
  },
  {
   "cell_type": "markdown",
   "source": [
    "### 독립 변수 생성"
   ],
   "metadata": {
    "collapsed": false
   }
  },
  {
   "cell_type": "code",
   "execution_count": 103,
   "outputs": [
    {
     "data": {
      "text/plain": "<Axes: xlabel='예정일시'>"
     },
     "execution_count": 103,
     "metadata": {},
     "output_type": "execute_result"
    },
    {
     "data": {
      "text/plain": "<Figure size 640x480 with 1 Axes>",
      "image/png": "[encoded data removed]"
     },
     "metadata": {},
     "output_type": "display_data"
    }
   ],
   "source": [
    "def get_time(date):\n",
    "    return date.hour\n",
    "full_data.예정일시.apply(get_time).value_counts(sort = True).plot.bar()"
   ],
   "metadata": {
    "collapsed": false
   }
  },
  {
   "cell_type": "code",
   "execution_count": 104,
   "outputs": [],
   "source": [
    "def get_time_cal(date):\n",
    "    hour = date.hour\n",
    "    if (hour >= 7) & (hour <= 17):\n",
    "        return '주간'\n",
    "    elif (hour >= 18) & (hour <= 22):\n",
    "        return '야간'\n",
    "    elif (hour >= 23) | (hour <= 6):\n",
    "        return '새벽'\n",
    "    else:\n",
    "        return ''\n",
    "    return date.hour"
   ],
   "metadata": {
    "collapsed": false
   }
  },
  {
   "cell_type": "code",
   "execution_count": 105,
   "outputs": [
    {
     "data": {
      "text/plain": "예정일시\n주간    5669008\n야간     425371\n새벽     107795\nName: count, dtype: int64"
     },
     "execution_count": 105,
     "metadata": {},
     "output_type": "execute_result"
    }
   ],
   "source": [
    "full_data.예정일시.apply(get_time_cal).value_counts()"
   ],
   "metadata": {
    "collapsed": false
   }
  },
  {
   "cell_type": "code",
   "execution_count": 106,
   "outputs": [
    {
     "data": {
      "text/plain": "<Axes: xlabel='예정일시'>"
     },
     "execution_count": 106,
     "metadata": {},
     "output_type": "execute_result"
    },
    {
     "data": {
      "text/plain": "<Figure size 640x480 with 1 Axes>",
      "image/png": "[encoded data removed]"
     },
     "metadata": {},
     "output_type": "display_data"
    }
   ],
   "source": [
    "def get_day(date):\n",
    "    return date.weekday()\n",
    "\n",
    "full_data.예정일시.apply(get_day).value_counts(sort = True).plot.bar()"
   ],
   "metadata": {
    "collapsed": false
   }
  },
  {
   "cell_type": "code",
   "execution_count": 107,
   "outputs": [],
   "source": [
    "def get_day_cal(date):\n",
    "    day = date.weekday()\n",
    "    if day <= 5:\n",
    "        return \"평일\"\n",
    "    elif day >= 6:\n",
    "        return \"주말\"\n",
    "    else:\n",
    "        return \"\""
   ],
   "metadata": {
    "collapsed": false
   }
  },
  {
   "cell_type": "code",
   "execution_count": 108,
   "outputs": [
    {
     "data": {
      "text/plain": "예정일시\n평일    5794911\n주말     407263\nName: count, dtype: int64"
     },
     "execution_count": 108,
     "metadata": {},
     "output_type": "execute_result"
    }
   ],
   "source": [
    "full_data.예정일시.apply(get_day_cal).value_counts()"
   ],
   "metadata": {
    "collapsed": false
   }
  },
  {
   "cell_type": "code",
   "execution_count": 109,
   "outputs": [],
   "source": [
    "# 변수 생성\n",
    "full_data.insert(3, 'using_time', full_data.예정일시.apply(get_time_cal))\n",
    "full_data.insert(4, 'using_day', full_data.예정일시.apply(get_day_cal))"
   ],
   "metadata": {
    "collapsed": false
   }
  },
  {
   "cell_type": "code",
   "execution_count": 110,
   "outputs": [
    {
     "data": {
      "text/plain": "    dispatch_waiting_time  total_waiting_time  cancel_time using_time   \n30                  136.0               165.0          NaN         새벽  \\\n31                  140.0               162.0          NaN         새벽   \n32                  139.0               160.0          NaN         새벽   \n33                  207.0               218.0          NaN         새벽   \n34                  210.0               232.0          NaN         새벽   \n\n   using_day                접수일시                예정일시                배차일시   \n30        평일 2018-01-01 00:03:00 2018-01-01 00:03:00 2018-01-01 02:19:00  \\\n31        평일 2018-01-01 00:03:00 2018-01-01 00:04:00 2018-01-01 02:24:00   \n32        평일 2018-01-01 00:07:00 2018-01-01 00:08:00 2018-01-01 02:27:00   \n33        평일 2018-01-01 00:20:00 2018-01-01 00:21:00 2018-01-01 03:48:00   \n34        평일 2018-01-01 00:24:00 2018-01-01 00:25:00 2018-01-01 03:55:00   \n\n                  승차일시 취소시간  year 출발지구  출발지동 목적지구   목적지동 이용목적  \n30 2018-01-01 02:48:00  NaT  2018   중구    명동  용산구   한강로동   귀가  \n31 2018-01-01 02:46:00  NaT  2018  서초구  반포1동  강서구  등촌제3동   귀가  \n32 2018-01-01 02:48:00  NaT  2018  강북구   인수동  노원구   하계2동   귀가  \n33 2018-01-01 03:59:00  NaT  2018  관악구   청림동  성북구    안암동   귀가  \n34 2018-01-01 04:17:00  NaT  2018  노원구  월계1동  노원구   상계5동   귀가  ",
      "text/html": "<div>\n<style scoped>\n    .dataframe tbody tr th:only-of-type {\n        vertical-align: middle;\n    }\n\n    .dataframe tbody tr th {\n        vertical-align: top;\n    }\n\n    .dataframe thead th {\n        text-align: right;\n    }\n</style>\n<table border=\"1\" class=\"dataframe\">\n  <thead>\n    <tr style=\"text-align: right;\">\n      <th></th>\n      <th>dispatch_waiting_time</th>\n      <th>total_waiting_time</th>\n      <th>cancel_time</th>\n      <th>using_time</th>\n      <th>using_day</th>\n      <th>접수일시</th>\n      <th>예정일시</th>\n      <th>배차일시</th>\n      <th>승차일시</th>\n      <th>취소시간</th>\n      <th>year</th>\n      <th>출발지구</th>\n      <th>출발지동</th>\n      <th>목적지구</th>\n      <th>목적지동</th>\n      <th>이용목적</th>\n    </tr>\n  </thead>\n  <tbody>\n    <tr>\n      <th>30</th>\n      <td>136.0</td>\n      <td>165.0</td>\n      <td>NaN</td>\n      <td>새벽</td>\n      <td>평일</td>\n      <td>2018-01-01 00:03:00</td>\n      <td>2018-01-01 00:03:00</td>\n      <td>2018-01-01 02:19:00</td>\n      <td>2018-01-01 02:48:00</td>\n      <td>NaT</td>\n      <td>2018</td>\n      <td>중구</td>\n      <td>명동</td>\n      <td>용산구</td>\n      <td>한강로동</td>\n      <td>귀가</td>\n    </tr>\n    <tr>\n      <th>31</th>\n      <td>140.0</td>\n      <td>162.0</td>\n      <td>NaN</td>\n      <td>새벽</td>\n      <td>평일</td>\n      <td>2018-01-01 00:03:00</td>\n      <td>2018-01-01 00:04:00</td>\n      <td>2018-01-01 02:24:00</td>\n      <td>2018-01-01 02:46:00</td>\n      <td>NaT</td>\n      <td>2018</td>\n      <td>서초구</td>\n      <td>반포1동</td>\n      <td>강서구</td>\n      <td>등촌제3동</td>\n      <td>귀가</td>\n    </tr>\n    <tr>\n      <th>32</th>\n      <td>139.0</td>\n      <td>160.0</td>\n      <td>NaN</td>\n      <td>새벽</td>\n      <td>평일</td>\n      <td>2018-01-01 00:07:00</td>\n      <td>2018-01-01 00:08:00</td>\n      <td>2018-01-01 02:27:00</td>\n      <td>2018-01-01 02:48:00</td>\n      <td>NaT</td>\n      <td>2018</td>\n      <td>강북구</td>\n      <td>인수동</td>\n      <td>노원구</td>\n      <td>하계2동</td>\n      <td>귀가</td>\n    </tr>\n    <tr>\n      <th>33</th>\n      <td>207.0</td>\n      <td>218.0</td>\n      <td>NaN</td>\n      <td>새벽</td>\n      <td>평일</td>\n      <td>2018-01-01 00:20:00</td>\n      <td>2018-01-01 00:21:00</td>\n      <td>2018-01-01 03:48:00</td>\n      <td>2018-01-01 03:59:00</td>\n      <td>NaT</td>\n      <td>2018</td>\n      <td>관악구</td>\n      <td>청림동</td>\n      <td>성북구</td>\n      <td>안암동</td>\n      <td>귀가</td>\n    </tr>\n    <tr>\n      <th>34</th>\n      <td>210.0</td>\n      <td>232.0</td>\n      <td>NaN</td>\n      <td>새벽</td>\n      <td>평일</td>\n      <td>2018-01-01 00:24:00</td>\n      <td>2018-01-01 00:25:00</td>\n      <td>2018-01-01 03:55:00</td>\n      <td>2018-01-01 04:17:00</td>\n      <td>NaT</td>\n      <td>2018</td>\n      <td>노원구</td>\n      <td>월계1동</td>\n      <td>노원구</td>\n      <td>상계5동</td>\n      <td>귀가</td>\n    </tr>\n  </tbody>\n</table>\n</div>"
     },
     "execution_count": 110,
     "metadata": {},
     "output_type": "execute_result"
    }
   ],
   "source": [
    "full_data.head()"
   ],
   "metadata": {
    "collapsed": false
   }
  },
  {
   "cell_type": "markdown",
   "source": [
    "### 배차시간 분포 및 기초통계량 살펴보기"
   ],
   "metadata": {
    "collapsed": false
   }
  },
  {
   "cell_type": "code",
   "execution_count": 111,
   "outputs": [
    {
     "data": {
      "text/plain": "<Figure size 640x480 with 1 Axes>",
      "image/png": "[encoded data removed]"
     },
     "metadata": {},
     "output_type": "display_data"
    }
   ],
   "source": [
    "dispatched_time = (full_data[~full_data.배차일시.isna()].배차일시 - full_data[~full_data.배차일시.isna()].예정일시).astype('timedelta64[s]').astype(int) / 60\n",
    "plt.hist(dispatched_time, bins=150)\n",
    "plt.show()"
   ],
   "metadata": {
    "collapsed": false
   }
  },
  {
   "cell_type": "code",
   "execution_count": 112,
   "outputs": [
    {
     "name": "stdout",
     "output_type": "stream",
     "text": [
      "최소 배차 대기 시간:  1.0\n",
      "최대 배차 대기 시간:  561.0\n"
     ]
    }
   ],
   "source": [
    "print(\"최소 배차 대기 시간: \", min(dispatched_time[dispatched_time > 0]))\n",
    "print(\"최대 배차 대기 시간: \", max(dispatched_time[dispatched_time > 0]))"
   ],
   "metadata": {
    "collapsed": false
   }
  },
  {
   "cell_type": "code",
   "execution_count": 113,
   "outputs": [
    {
     "name": "stdout",
     "output_type": "stream",
     "text": [
      "배차 대기 시간 평균:  29.994801261983184\n",
      "배차 대시 시간 분위수 [Q1, Q2, Q3]:  [ 7. 19. 45.]\n"
     ]
    }
   ],
   "source": [
    "print(\"배차 대기 시간 평균: \", np.mean(dispatched_time[dispatched_time > 0]))\n",
    "print(\"배차 대시 시간 분위수 [Q1, Q2, Q3]: \", np.quantile\n",
    "(dispatched_time[dispatched_time > 0], [0.25, 0.5, 0.75]))"
   ],
   "metadata": {
    "collapsed": false
   }
  },
  {
   "cell_type": "code",
   "execution_count": 114,
   "outputs": [
    {
     "data": {
      "text/plain": "233020    561.0\n323499    544.0\n41222     487.0\n232964    411.0\n236798    408.0\n          ...  \n72685      -8.0\n499417     -8.0\n514753     -8.0\n498762     -8.0\n398440     -8.0\nLength: 5711832, dtype: float64"
     },
     "execution_count": 114,
     "metadata": {},
     "output_type": "execute_result"
    }
   ],
   "source": [
    "# Q. 배차 시간이 561인 데이터가 일부인가? 아님.\n",
    "dispatched_time.sort_values(ascending = False)"
   ],
   "metadata": {
    "collapsed": false
   }
  },
  {
   "cell_type": "markdown",
   "source": [
    "### 승차 대기 시간 분포 및 기초통계량 살펴보기"
   ],
   "metadata": {
    "collapsed": false
   }
  },
  {
   "cell_type": "code",
   "execution_count": 115,
   "outputs": [],
   "source": [
    "total_waiting_time = (full_data[~full_data.승차일시.isna()].승차일시 - full_data[~full_data.승차일시.isna()].예정일시).astype('timedelta64[s]').astype(int) / 60"
   ],
   "metadata": {
    "collapsed": false
   }
  },
  {
   "cell_type": "code",
   "execution_count": 116,
   "outputs": [
    {
     "name": "stdout",
     "output_type": "stream",
     "text": [
      "최소 총 대기 시간:  1.0\n",
      "최대 총 대기 시간:  511.0\n"
     ]
    }
   ],
   "source": [
    "print(\"최소 총 대기 시간: \", min(total_waiting_time[total_waiting_time > 0]))\n",
    "print(\"최대 총 대기 시간: \", max(total_waiting_time[total_waiting_time > 0]))"
   ],
   "metadata": {
    "collapsed": false
   }
  },
  {
   "cell_type": "code",
   "execution_count": 117,
   "outputs": [
    {
     "name": "stdout",
     "output_type": "stream",
     "text": [
      "총 대기 시간 평균:  48.43785260781727\n",
      "총 대시 시간 분위수 [Q1, Q2, Q3]:  [25. 39. 64.]\n"
     ]
    }
   ],
   "source": [
    "print(\"총 대기 시간 평균: \", np.mean(total_waiting_time[total_waiting_time > 0]))\n",
    "print(\"총 대시 시간 분위수 [Q1, Q2, Q3]: \", np.quantile\n",
    "(total_waiting_time[total_waiting_time > 0], [0.25, 0.5, 0.75]))"
   ],
   "metadata": {
    "collapsed": false
   }
  },
  {
   "cell_type": "code",
   "execution_count": 118,
   "outputs": [
    {
     "data": {
      "text/plain": "<Figure size 640x480 with 1 Axes>",
      "image/png": "[encoded data removed]"
     },
     "metadata": {},
     "output_type": "display_data"
    }
   ],
   "source": [
    "plt.hist(total_waiting_time[total_waiting_time > 0], bins = 200)\n",
    "plt.show()"
   ],
   "metadata": {
    "collapsed": false
   }
  },
  {
   "cell_type": "markdown",
   "source": [
    "### 승차 일시 - 배차 일시의 분포 및 기초통계량 살펴보기"
   ],
   "metadata": {
    "collapsed": false
   }
  },
  {
   "cell_type": "code",
   "execution_count": 119,
   "outputs": [],
   "source": [
    "waiting_time = (full_data[~(full_data.승차일시.isna()&full_data.배차일시.isna())].승차일시 - full_data[~(full_data.승차일시.isna()&full_data.배차일시.isna())].배차일시).astype('timedelta64[s]').astype(int) / 60"
   ],
   "metadata": {
    "collapsed": false
   }
  },
  {
   "cell_type": "code",
   "execution_count": 120,
   "outputs": [
    {
     "name": "stdout",
     "output_type": "stream",
     "text": [
      "최소 배차 후 대기 시간:  1.0\n",
      "최대 배차 후 대기 시간:  509.0\n"
     ]
    }
   ],
   "source": [
    "print(\"최소 배차 후 대기 시간: \", min(waiting_time[waiting_time > 0]))\n",
    "print(\"최대 배차 후 대기 시간: \", max(waiting_time[waiting_time > 0]))"
   ],
   "metadata": {
    "collapsed": false
   }
  },
  {
   "cell_type": "code",
   "execution_count": 121,
   "outputs": [
    {
     "name": "stdout",
     "output_type": "stream",
     "text": [
      "배차 후 대기 시간 평균:  19.138673631652846\n",
      "배차 후 대시 시간 분위수 [Q1, Q2, Q3]:  [13. 18. 24.]\n"
     ]
    }
   ],
   "source": [
    "print(\"배차 후 대기 시간 평균: \", np.mean(waiting_time[waiting_time > 0]))\n",
    "print(\"배차 후 대시 시간 분위수 [Q1, Q2, Q3]: \", np.quantile\n",
    "(waiting_time[waiting_time > 0], [0.25, 0.5, 0.75]))"
   ],
   "metadata": {
    "collapsed": false
   }
  },
  {
   "cell_type": "code",
   "execution_count": 122,
   "outputs": [
    {
     "data": {
      "text/plain": "<Figure size 640x480 with 1 Axes>",
      "image/png": "[encoded data removed]"
     },
     "metadata": {},
     "output_type": "display_data"
    }
   ],
   "source": [
    "plt.hist(waiting_time[waiting_time > 0], bins = 200)\n",
    "plt.show()"
   ],
   "metadata": {
    "collapsed": false
   }
  },
  {
   "cell_type": "code",
   "execution_count": 123,
   "outputs": [
    {
     "data": {
      "text/plain": "514037    5.090000e+02\n586395    4.490000e+02\n572357    4.440000e+02\n144620    4.290000e+02\n58093     4.260000e+02\n              ...     \n443845   -1.537229e+17\n330839   -1.537229e+17\n722038   -1.537229e+17\n443855   -1.537229e+17\n103999   -1.537229e+17\nLength: 5711837, dtype: float64"
     },
     "execution_count": 123,
     "metadata": {},
     "output_type": "execute_result"
    }
   ],
   "source": [
    "# Q. 배차 후 대시 시간이 300 근인 데이터가 일부인가? 아님.\n",
    "waiting_time.sort_values(ascending = False)"
   ],
   "metadata": {
    "collapsed": false
   }
  },
  {
   "cell_type": "markdown",
   "source": [
    "### 필요없는 변수 삭제"
   ],
   "metadata": {
    "collapsed": false
   }
  },
  {
   "cell_type": "code",
   "execution_count": 125,
   "outputs": [],
   "source": [
    "full_data = full_data.drop(columns = ['접수일시', '예정일시', '배차일시', '승차일시', '취소시간'])"
   ],
   "metadata": {
    "collapsed": false
   }
  },
  {
   "cell_type": "code",
   "execution_count": 126,
   "outputs": [
    {
     "name": "stdout",
     "output_type": "stream",
     "text": [
      "(6202174, 11)\n"
     ]
    },
    {
     "data": {
      "text/plain": "    dispatch_waiting_time  total_waiting_time  cancel_time using_time   \n30                  136.0               165.0          NaN         새벽  \\\n31                  140.0               162.0          NaN         새벽   \n32                  139.0               160.0          NaN         새벽   \n33                  207.0               218.0          NaN         새벽   \n34                  210.0               232.0          NaN         새벽   \n\n   using_day  year 출발지구  출발지동 목적지구   목적지동 이용목적  \n30        평일  2018   중구    명동  용산구   한강로동   귀가  \n31        평일  2018  서초구  반포1동  강서구  등촌제3동   귀가  \n32        평일  2018  강북구   인수동  노원구   하계2동   귀가  \n33        평일  2018  관악구   청림동  성북구    안암동   귀가  \n34        평일  2018  노원구  월계1동  노원구   상계5동   귀가  ",
      "text/html": "<div>\n<style scoped>\n    .dataframe tbody tr th:only-of-type {\n        vertical-align: middle;\n    }\n\n    .dataframe tbody tr th {\n        vertical-align: top;\n    }\n\n    .dataframe thead th {\n        text-align: right;\n    }\n</style>\n<table border=\"1\" class=\"dataframe\">\n  <thead>\n    <tr style=\"text-align: right;\">\n      <th></th>\n      <th>dispatch_waiting_time</th>\n      <th>total_waiting_time</th>\n      <th>cancel_time</th>\n      <th>using_time</th>\n      <th>using_day</th>\n      <th>year</th>\n      <th>출발지구</th>\n      <th>출발지동</th>\n      <th>목적지구</th>\n      <th>목적지동</th>\n      <th>이용목적</th>\n    </tr>\n  </thead>\n  <tbody>\n    <tr>\n      <th>30</th>\n      <td>136.0</td>\n      <td>165.0</td>\n      <td>NaN</td>\n      <td>새벽</td>\n      <td>평일</td>\n      <td>2018</td>\n      <td>중구</td>\n      <td>명동</td>\n      <td>용산구</td>\n      <td>한강로동</td>\n      <td>귀가</td>\n    </tr>\n    <tr>\n      <th>31</th>\n      <td>140.0</td>\n      <td>162.0</td>\n      <td>NaN</td>\n      <td>새벽</td>\n      <td>평일</td>\n      <td>2018</td>\n      <td>서초구</td>\n      <td>반포1동</td>\n      <td>강서구</td>\n      <td>등촌제3동</td>\n      <td>귀가</td>\n    </tr>\n    <tr>\n      <th>32</th>\n      <td>139.0</td>\n      <td>160.0</td>\n      <td>NaN</td>\n      <td>새벽</td>\n      <td>평일</td>\n      <td>2018</td>\n      <td>강북구</td>\n      <td>인수동</td>\n      <td>노원구</td>\n      <td>하계2동</td>\n      <td>귀가</td>\n    </tr>\n    <tr>\n      <th>33</th>\n      <td>207.0</td>\n      <td>218.0</td>\n      <td>NaN</td>\n      <td>새벽</td>\n      <td>평일</td>\n      <td>2018</td>\n      <td>관악구</td>\n      <td>청림동</td>\n      <td>성북구</td>\n      <td>안암동</td>\n      <td>귀가</td>\n    </tr>\n    <tr>\n      <th>34</th>\n      <td>210.0</td>\n      <td>232.0</td>\n      <td>NaN</td>\n      <td>새벽</td>\n      <td>평일</td>\n      <td>2018</td>\n      <td>노원구</td>\n      <td>월계1동</td>\n      <td>노원구</td>\n      <td>상계5동</td>\n      <td>귀가</td>\n    </tr>\n  </tbody>\n</table>\n</div>"
     },
     "execution_count": 126,
     "metadata": {},
     "output_type": "execute_result"
    }
   ],
   "source": [
    "print(full_data.shape)\n",
    "full_data.head()"
   ],
   "metadata": {
    "collapsed": false
   }
  },
  {
   "cell_type": "code",
   "execution_count": 127,
   "outputs": [],
   "source": [
    "full_data.to_csv('data/final_data/full_data.csv', index=False)"
   ],
   "metadata": {
    "collapsed": false
   }
  },
  {
   "cell_type": "code",
   "execution_count": 128,
   "outputs": [
    {
     "data": {
      "text/plain": "         dispatch_waiting_time  total_waiting_time  cancel_time using_time   \n0                        136.0               165.0          NaN         새벽  \\\n1                        140.0               162.0          NaN         새벽   \n2                        139.0               160.0          NaN         새벽   \n3                        207.0               218.0          NaN         새벽   \n4                        210.0               232.0          NaN         새벽   \n...                        ...                 ...          ...        ...   \n6202169                   57.0                 NaN         58.0         새벽   \n6202170                   29.0                 NaN         58.0         새벽   \n6202171                   42.0                56.0          NaN         새벽   \n6202172                   42.0                61.0          NaN         새벽   \n6202173                    6.0                34.0          NaN         새벽   \n\n        using_day  year 출발지구   출발지동    목적지구   목적지동 이용목적  \n0              평일  2018   중구     명동     용산구   한강로동   귀가  \n1              평일  2018  서초구   반포1동     강서구  등촌제3동   귀가  \n2              평일  2018  강북구    인수동     노원구   하계2동   귀가  \n3              평일  2018  관악구    청림동     성북구    안암동   귀가  \n4              평일  2018  노원구   월계1동     노원구   상계5동   귀가  \n...           ...   ...  ...    ...     ...    ...  ...  \n6202169        주말  2023  강서구  등촌제3동     강서구  방화제1동   귀가  \n6202170        주말  2023  성북구  월곡제2동     서초구    내곡동   귀가  \n6202171        주말  2023  송파구   가락1동     강남구    수서동   기타  \n6202172        주말  2023  광진구  중곡제4동  성남시수정구    복정동   귀가  \n6202173        주말  2023  용산구   한강로동     김포시    풍무동   기타  \n\n[6202174 rows x 11 columns]",
      "text/html": "<div>\n<style scoped>\n    .dataframe tbody tr th:only-of-type {\n        vertical-align: middle;\n    }\n\n    .dataframe tbody tr th {\n        vertical-align: top;\n    }\n\n    .dataframe thead th {\n        text-align: right;\n    }\n</style>\n<table border=\"1\" class=\"dataframe\">\n  <thead>\n    <tr style=\"text-align: right;\">\n      <th></th>\n      <th>dispatch_waiting_time</th>\n      <th>total_waiting_time</th>\n      <th>cancel_time</th>\n      <th>using_time</th>\n      <th>using_day</th>\n      <th>year</th>\n      <th>출발지구</th>\n      <th>출발지동</th>\n      <th>목적지구</th>\n      <th>목적지동</th>\n      <th>이용목적</th>\n    </tr>\n  </thead>\n  <tbody>\n    <tr>\n      <th>0</th>\n      <td>136.0</td>\n      <td>165.0</td>\n      <td>NaN</td>\n      <td>새벽</td>\n      <td>평일</td>\n      <td>2018</td>\n      <td>중구</td>\n      <td>명동</td>\n      <td>용산구</td>\n      <td>한강로동</td>\n      <td>귀가</td>\n    </tr>\n    <tr>\n      <th>1</th>\n      <td>140.0</td>\n      <td>162.0</td>\n      <td>NaN</td>\n      <td>새벽</td>\n      <td>평일</td>\n      <td>2018</td>\n      <td>서초구</td>\n      <td>반포1동</td>\n      <td>강서구</td>\n      <td>등촌제3동</td>\n      <td>귀가</td>\n    </tr>\n    <tr>\n      <th>2</th>\n      <td>139.0</td>\n      <td>160.0</td>\n      <td>NaN</td>\n      <td>새벽</td>\n      <td>평일</td>\n      <td>2018</td>\n      <td>강북구</td>\n      <td>인수동</td>\n      <td>노원구</td>\n      <td>하계2동</td>\n      <td>귀가</td>\n    </tr>\n    <tr>\n      <th>3</th>\n      <td>207.0</td>\n      <td>218.0</td>\n      <td>NaN</td>\n      <td>새벽</td>\n      <td>평일</td>\n      <td>2018</td>\n      <td>관악구</td>\n      <td>청림동</td>\n      <td>성북구</td>\n      <td>안암동</td>\n      <td>귀가</td>\n    </tr>\n    <tr>\n      <th>4</th>\n      <td>210.0</td>\n      <td>232.0</td>\n      <td>NaN</td>\n      <td>새벽</td>\n      <td>평일</td>\n      <td>2018</td>\n      <td>노원구</td>\n      <td>월계1동</td>\n      <td>노원구</td>\n      <td>상계5동</td>\n      <td>귀가</td>\n    </tr>\n    <tr>\n      <th>...</th>\n      <td>...</td>\n      <td>...</td>\n      <td>...</td>\n      <td>...</td>\n      <td>...</td>\n      <td>...</td>\n      <td>...</td>\n      <td>...</td>\n      <td>...</td>\n      <td>...</td>\n      <td>...</td>\n    </tr>\n    <tr>\n      <th>6202169</th>\n      <td>57.0</td>\n      <td>NaN</td>\n      <td>58.0</td>\n      <td>새벽</td>\n      <td>주말</td>\n      <td>2023</td>\n      <td>강서구</td>\n      <td>등촌제3동</td>\n      <td>강서구</td>\n      <td>방화제1동</td>\n      <td>귀가</td>\n    </tr>\n    <tr>\n      <th>6202170</th>\n      <td>29.0</td>\n      <td>NaN</td>\n      <td>58.0</td>\n      <td>새벽</td>\n      <td>주말</td>\n      <td>2023</td>\n      <td>성북구</td>\n      <td>월곡제2동</td>\n      <td>서초구</td>\n      <td>내곡동</td>\n      <td>귀가</td>\n    </tr>\n    <tr>\n      <th>6202171</th>\n      <td>42.0</td>\n      <td>56.0</td>\n      <td>NaN</td>\n      <td>새벽</td>\n      <td>주말</td>\n      <td>2023</td>\n      <td>송파구</td>\n      <td>가락1동</td>\n      <td>강남구</td>\n      <td>수서동</td>\n      <td>기타</td>\n    </tr>\n    <tr>\n      <th>6202172</th>\n      <td>42.0</td>\n      <td>61.0</td>\n      <td>NaN</td>\n      <td>새벽</td>\n      <td>주말</td>\n      <td>2023</td>\n      <td>광진구</td>\n      <td>중곡제4동</td>\n      <td>성남시수정구</td>\n      <td>복정동</td>\n      <td>귀가</td>\n    </tr>\n    <tr>\n      <th>6202173</th>\n      <td>6.0</td>\n      <td>34.0</td>\n      <td>NaN</td>\n      <td>새벽</td>\n      <td>주말</td>\n      <td>2023</td>\n      <td>용산구</td>\n      <td>한강로동</td>\n      <td>김포시</td>\n      <td>풍무동</td>\n      <td>기타</td>\n    </tr>\n  </tbody>\n</table>\n<p>6202174 rows × 11 columns</p>\n</div>"
     },
     "execution_count": 128,
     "metadata": {},
     "output_type": "execute_result"
    }
   ],
   "source": [
    "pd.read_csv('data/final_data/full_data.csv')"
   ],
   "metadata": {
    "collapsed": false
   }
  },
  {
   "cell_type": "code",
   "execution_count": null,
   "outputs": [],
   "source": [],
   "metadata": {
    "collapsed": false
   }
  }
 ],
 "metadata": {
  "kernelspec": {
   "display_name": "Python 3",
   "language": "python",
   "name": "python3"
  },
  "language_info": {
   "codemirror_mode": {
    "name": "ipython",
    "version": 2
   },
   "file_extension": ".py",
   "mimetype": "text/x-python",
   "name": "python",
   "nbconvert_exporter": "python",
   "pygments_lexer": "ipython2",
   "version": "2.7.6"
  }
 },
 "nbformat": 4,
 "nbformat_minor": 0
}
